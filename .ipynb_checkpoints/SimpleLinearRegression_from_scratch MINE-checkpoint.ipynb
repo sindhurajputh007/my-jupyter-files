{
 "cells": [
  {
   "cell_type": "markdown",
   "id": "0b59bed3",
   "metadata": {},
   "source": [
    "## Simple Linear Regression\n",
    "\n",
    "<hr>\n",
    "\n",
    "Contents\n",
    "\n",
    "* Introduction\n",
    "* Simple Linear Regression from scratch\n",
    "\n",
    "\n",
    "<hr>"
   ]
  },
  {
   "cell_type": "markdown",
   "id": "88703ebe",
   "metadata": {},
   "source": [
    "### Introduction\n",
    "\n",
    "\n",
    "Linear regression is a prediction method that is more than 200 years old. Simple linear regression is a great first machine learning algorithm to implement as it requires you to estimate properties from your training dataset.\n",
    "\n",
    "Linear regression assumes a linear or straight line relationship between the input variables (X) and the single output variable (y). More specifically, that output (y) can be calculated from a linear combination of the input variables (X). When there is a single input variable, the method is referred to as a simple linear regression.In simple linear regression we can use statistics on the training data to estimate the coefficients required by the model to make predictions on new data.\n",
    "\n",
    "The line for a simple linear regression model can be written as:\n",
    "    \n",
    "    y = b0 + b1 * x\n",
    "    \n",
    "where b0 and b1 are the coefficients we must estimate from the training data.\n",
    "\n",
    "Once the coefficients are known, we can use this equation to estimate output values for y given new input examples of x."
   ]
  },
  {
   "cell_type": "code",
   "execution_count": 1,
   "id": "99603add",
   "metadata": {},
   "outputs": [],
   "source": [
    "##### Dummy Example"
   ]
  },
  {
   "cell_type": "code",
   "execution_count": 2,
   "id": "185ba7da",
   "metadata": {},
   "outputs": [],
   "source": [
    "x = [1,2,3,4,5]\n",
    "y = [1,3,5,7,9]"
   ]
  },
  {
   "cell_type": "markdown",
   "id": "e6c0eb68",
   "metadata": {},
   "source": [
    "The attribute x is the input variable and y is the output variable that we are trying to\n",
    "predict. If we got more data, we would only have x values and we would be interested in\n",
    "predicting y values. Below is a simple scatter plot of x versus y.\n"
   ]
  },
  {
   "cell_type": "code",
   "execution_count": 4,
   "id": "0586e028",
   "metadata": {},
   "outputs": [
    {
     "data": {
      "image/png": "[encoded data removed]",
      "text/plain": [
       "<Figure size 640x480 with 1 Axes>"
      ]
     },
     "metadata": {},
     "output_type": "display_data"
    }
   ],
   "source": [
    "import matplotlib.pyplot as plt\n",
    "\n",
    "plt.scatter(x,y)\n",
    "plt.show()"
   ]
  },
  {
   "cell_type": "markdown",
   "id": "37018cb1",
   "metadata": {},
   "source": [
    "We can see the relationship between x and y looks kind-of linear. As in, we could probably\n",
    "draw a line somewhere diagonally from the bottom left of the plot to the top right to generally\n",
    "describe the relationship between the data. This is a good indication that using linear regression\n",
    "might be appropriate for this little dataset."
   ]
  },
  {
   "cell_type": "markdown",
   "id": "419bd20c",
   "metadata": {},
   "source": [
    "When we have a single input attribute (x) and we want to use linear regression, this is called\n",
    "simple linear regression. If we had multiple input attributes (e.g. X1, X2, X3, etc.) This would be called multiple linear regression. The procedure for linear regression is different and simpler\n",
    "than that for multiple linear regression."
   ]
  },
  {
   "cell_type": "markdown",
   "id": "3c855de8",
   "metadata": {},
   "source": [
    "With simple linear regression we want to model our data as follows:\n",
    " y = B0 + B1 × x"
   ]
  },
  {
   "cell_type": "markdown",
   "id": "95b7c0e5",
   "metadata": {},
   "source": [
    "This is a line where y is the output variable we want to predict, x is the input variable\n",
    "we know and B0 and B1 are coefficients that we need to estimate that move the line around.\n",
    "Technically, B0 is called the intercept because it determines where the line intercepts the y-axis.\n",
    "In machine learning we can call this the bias, because it is added to offset all predictions that\n",
    "we make. The B1 term is called the slope because it defines the slope of the line or how x\n",
    "translates into a y value before we add our bias."
   ]
  },
  {
   "cell_type": "markdown",
   "id": "78db29c5",
   "metadata": {},
   "source": [
    "The goal is to find the best estimates for the coefficients to minimize the errors in predicting\n",
    "y from x. Simple regression is great, because rather than having to search for values by trial\n",
    "and error or calculate them analytically using more advanced linear algebra, we can estimate\n",
    "them directly from our data. We can start off by estimating the value for B1 as"
   ]
  },
  {
   "cell_type": "markdown",
   "id": "db55d0d5",
   "metadata": {},
   "source": [
    "![beta1.png](attachment:beta1.png)\n",
    "\n",
    "![beta11.png](attachment:beta11.png)"
   ]
  },
  {
   "cell_type": "markdown",
   "id": "4213550c",
   "metadata": {},
   "source": [
    "Where mean() is the average value for the variable in our dataset. The x i and y i refer to\n",
    "the fact that we need to repeat these calculations across all values in our dataset and i refers to\n",
    "the i’th value of x or y. We can calculate B0 using B1 and some statistics from our dataset, as\n",
    "follows:"
   ]
  },
  {
   "cell_type": "markdown",
   "id": "8230cd45",
   "metadata": {},
   "source": [
    "   B0 = mean(y) − B1 × mean(x)"
   ]
  },
  {
   "cell_type": "markdown",
   "id": "819a486f",
   "metadata": {},
   "source": [
    "Calculate the B0 and B1 , then predict the yi using the given equation."
   ]
  },
  {
   "cell_type": "markdown",
   "id": "98f36902",
   "metadata": {},
   "source": [
    "We can calculate an error score for our predictions called the Root Mean Squared Error or\n",
    "RMSE."
   ]
  },
  {
   "cell_type": "markdown",
   "id": "6846736f",
   "metadata": {},
   "source": [
    "![rmse.png](attachment:rmse.png)"
   ]
  },
  {
   "cell_type": "markdown",
   "id": "5cc0cc03",
   "metadata": {},
   "source": [
    "#### Simple Linear Regression from scratch\n",
    "\n",
    "####  Problem Statement \n",
    "\n",
    "Predict the total payment for all the claims in thousands of Swedish Kronor (y) given the total number of claims (x)."
   ]
  },
  {
   "cell_type": "markdown",
   "id": "45137167",
   "metadata": {},
   "source": [
    "#### Solution"
   ]
  },
  {
   "cell_type": "code",
   "execution_count": 6,
   "id": "558265ba",
   "metadata": {},
   "outputs": [],
   "source": [
    "# simple linear regression on the swedish insurance dataset\n",
    "\n",
    "#imports\n",
    "\n",
    "from random import seed\n",
    "from random import randrange\n",
    "from csv import reader\n",
    "from math import sqrt\n"
   ]
  },
  {
   "cell_type": "code",
   "execution_count": 9,
   "id": "a6b0a63d",
   "metadata": {},
   "outputs": [],
   "source": [
    "# load a csv file\n",
    "def load_csv(filename):\n",
    "    dataset = list()\n",
    "    with open(filename, 'r') as file:\n",
    "        csv_reader = reader(file)\n",
    "        for row in csv_reader:\n",
    "            if not row:\n",
    "                continue\n",
    "                dataset.append(row)\n",
    "                return dataset\n",
    "    \n",
    "#convert string column to float\n",
    "def str_column_to_float(dataset, column):\n",
    "    for row in dataset:\n",
    "        row[column ] = float(row[column].strip())\n",
    "        "
   ]
  },
  {
   "cell_type": "code",
   "execution_count": 11,
   "id": "644afcd4",
   "metadata": {},
   "outputs": [
    {
     "ename": "IndexError",
     "evalue": "list index out of range",
     "output_type": "error",
     "traceback": [
      "\u001b[1;31m---------------------------------------------------------------------------\u001b[0m",
      "\u001b[1;31mIndexError\u001b[0m                                Traceback (most recent call last)",
      "Cell \u001b[1;32mIn[11], line 7\u001b[0m\n\u001b[0;32m      5\u001b[0m dataset \u001b[38;5;241m=\u001b[39m load_csv(filename)\n\u001b[0;32m      6\u001b[0m dataset \u001b[38;5;241m=\u001b[39m dataset[\u001b[38;5;241m1\u001b[39m:]\n\u001b[1;32m----> 7\u001b[0m \u001b[38;5;28;01mfor\u001b[39;00m i \u001b[38;5;129;01min\u001b[39;00m \u001b[38;5;28mrange\u001b[39m(\u001b[38;5;28mlen\u001b[39m(dataset[\u001b[38;5;241m0\u001b[39m])):\n\u001b[0;32m      8\u001b[0m     str_column_to_float(dataset, i)\n",
      "\u001b[1;31mIndexError\u001b[0m: list index out of range"
     ]
    }
   ],
   "source": [
    "# Simple linear regression on insurance dataset\n",
    "seed(1)\n",
    "# load and prepare data\n",
    "filename = 'insurance.csv'\n",
    "dataset = load_csv(filename)\n",
    "dataset = dataset[1:]\n",
    "for i in range(len(dataset[0])):\n",
    "    str_column_to_float(dataset, i)\n",
    "    \n",
    "# print(dataset)"
   ]
  },
  {
   "cell_type": "markdown",
   "id": "61deaadc",
   "metadata": {},
   "source": [
    "The first step is to estimate the mean and the variance of both the input and output variables from the training data."
   ]
  },
  {
   "cell_type": "code",
   "execution_count": 12,
   "id": "8c429491",
   "metadata": {},
   "outputs": [],
   "source": [
    "# Calculate the mean value of a list of numbers\n",
    "def mean(values):\n",
    "    return sum(values) / float(len(values))"
   ]
  },
  {
   "cell_type": "code",
   "execution_count": 13,
   "id": "68cbc7f8",
   "metadata": {},
   "outputs": [],
   "source": [
    "# Calculate the variance of a list of numbers\n",
    "def variance(values, mean):\n",
    "    return sum([(x-mean)**2 for x in values])"
   ]
  },
  {
   "cell_type": "markdown",
   "id": "759d70c0",
   "metadata": {},
   "source": [
    "Covariance is a generalization of correlation. Correlation describes the relationship between two groups of numbers, whereas covariance can describe the relationship between two or more groups of numbers.\n",
    "\n",
    "Additionally, covariance can be normalized to produce a correlation value."
   ]
  },
  {
   "cell_type": "code",
   "execution_count": 14,
   "id": "71e17a27",
   "metadata": {},
   "outputs": [],
   "source": [
    "# Calculate covariance between x and y\n",
    "def covariance(x, mean_x, y, mean_y):\n",
    "    covar = 0.0\n",
    "    for i in range(len(x)):\n",
    "        covar += (x[i] - mean_x) * (y[i] - mean_y)\n",
    "    return covar"
   ]
  },
  {
   "cell_type": "markdown",
   "id": "b2bba9d3",
   "metadata": {},
   "source": [
    "We must estimate the values for two coefficients in simple linear regression"
   ]
  },
  {
   "cell_type": "code",
   "execution_count": 15,
   "id": "64b09b96",
   "metadata": {},
   "outputs": [],
   "source": [
    "# Calculate coefficients\n",
    "def coefficients(dataset):\n",
    "    x = [row[0] for row in dataset]\n",
    "    y = [row[1] for row in dataset]\n",
    "    x_mean, y_mean = mean(x), mean(y)\n",
    "    b1 = covariance(x, x_mean, y, y_mean) / variance(x, x_mean)\n",
    "    b0 = y_mean - b1 * x_mean\n",
    "    return [b0, b1]"
   ]
  },
  {
   "cell_type": "code",
   "execution_count": 16,
   "id": "a6e34e9c",
   "metadata": {},
   "outputs": [],
   "source": [
    "x = [row[0] for row in dataset]"
   ]
  },
  {
   "cell_type": "markdown",
   "id": "44755d3b",
   "metadata": {},
   "source": [
    "The simple linear regression model is a line defined by coefficients estimated from training data.\n",
    "\n",
    "Once the coefficients are estimated, we can use them to make predictions."
   ]
  },
  {
   "cell_type": "code",
   "execution_count": 17,
   "id": "9ea227fe",
   "metadata": {},
   "outputs": [],
   "source": [
    "# Split a dataset into a train and test set\n",
    "def train_test_split(dataset, split):\n",
    "    train = list()\n",
    "    train_size = split * len(dataset)\n",
    "    dataset_copy = list(dataset)\n",
    "    while len(train) < train_size:\n",
    "        index = randrange(len(dataset_copy))\n",
    "        train.append(dataset_copy.pop(index))\n",
    "    return train, dataset_copy"
   ]
  },
  {
   "cell_type": "code",
   "execution_count": 18,
   "id": "fcc14942",
   "metadata": {},
   "outputs": [],
   "source": [
    "#algorithm\n",
    "def simple_linear_regression(train, test):\n",
    "    predictions = list()\n",
    "    b0, b1 = coefficients(train)\n",
    "    for row in test:\n",
    "        yhat = b0 + b1 * row[0]\n",
    "        predictions.append(yhat)\n",
    "    return predictions"
   ]
  },
  {
   "cell_type": "code",
   "execution_count": 19,
   "id": "929bbdd3",
   "metadata": {},
   "outputs": [],
   "source": [
    "# Calculate root mean squared error\n",
    "def rmse_metric(actual, predicted):\n",
    "    sum_error = 0.0\n",
    "    for i in range(len(actual)):\n",
    "        prediction_error = predicted[i] - actual[i]\n",
    "        sum_error += (prediction_error ** 2)\n",
    "        mean_error = sum_error / float(len(actual))\n",
    "    return sqrt(mean_error)\n",
    " \n",
    "# Evaluate an algorithm using a train/test split\n",
    "def evaluate_algorithm(dataset, algorithm, split, *args):\n",
    "    train, test = train_test_split(dataset, split)\n",
    "    test_set = list()\n",
    "    for row in test:\n",
    "        row_copy = list(row)\n",
    "        row_copy[-1] = None\n",
    "        test_set.append(row_copy)\n",
    "    predicted = algorithm(train, test_set, *args)\n",
    "    actual = [row[-1] for row in test]\n",
    "    rmse = rmse_metric(actual, predicted)\n",
    "    return rmse,actual,predicted"
   ]
  },
  {
   "cell_type": "code",
   "execution_count": 23,
   "id": "e42c58ef",
   "metadata": {},
   "outputs": [
    {
     "ename": "IndexError",
     "evalue": "list index out of range",
     "output_type": "error",
     "traceback": [
      "\u001b[1;31m---------------------------------------------------------------------------\u001b[0m",
      "\u001b[1;31mIndexError\u001b[0m                                Traceback (most recent call last)",
      "Cell \u001b[1;32mIn[23], line 7\u001b[0m\n\u001b[0;32m      5\u001b[0m dataset \u001b[38;5;241m=\u001b[39m load_csv(filename)\n\u001b[0;32m      6\u001b[0m dataset \u001b[38;5;241m=\u001b[39m dataset[\u001b[38;5;241m1\u001b[39m:]\n\u001b[1;32m----> 7\u001b[0m \u001b[38;5;28;01mfor\u001b[39;00m i \u001b[38;5;129;01min\u001b[39;00m \u001b[38;5;28mrange\u001b[39m(\u001b[38;5;28mlen\u001b[39m(dataset[\u001b[38;5;241m0\u001b[39m])):\n\u001b[0;32m      8\u001b[0m     str_column_to_float(dataset, i)\n\u001b[0;32m      9\u001b[0m \u001b[38;5;66;03m# print(dataset)\u001b[39;00m\n\u001b[0;32m     10\u001b[0m \u001b[38;5;66;03m# evaluate algorithm\u001b[39;00m\n",
      "\u001b[1;31mIndexError\u001b[0m: list index out of range"
     ]
    }
   ],
   "source": [
    "# Simple linear regression on insurance dataset\n",
    "seed(1)\n",
    "# load and prepare data\n",
    "filename = 'insurance.csv'\n",
    "dataset = load_csv(filename)\n",
    "dataset = dataset[1:]\n",
    "for i in range(len(dataset[0])):\n",
    "    str_column_to_float(dataset, i)\n",
    "# print(dataset)\n",
    "# evaluate algorithm\n",
    "split = 0.8\n",
    "rmse,actual,prediction = evaluate_algorithm(dataset, simple_linear_regression, split)\n",
    "print('RMSE: %.3f' % (rmse))"
   ]
  },
  {
   "cell_type": "code",
   "execution_count": 22,
   "id": "2176446a",
   "metadata": {},
   "outputs": [
    {
     "ename": "NameError",
     "evalue": "name 'actual' is not defined",
     "output_type": "error",
     "traceback": [
      "\u001b[1;31m---------------------------------------------------------------------------\u001b[0m",
      "\u001b[1;31mNameError\u001b[0m                                 Traceback (most recent call last)",
      "Cell \u001b[1;32mIn[22], line 2\u001b[0m\n\u001b[0;32m      1\u001b[0m \u001b[38;5;28;01mimport\u001b[39;00m \u001b[38;5;21;01mpandas\u001b[39;00m \u001b[38;5;28;01mas\u001b[39;00m \u001b[38;5;21;01mpd\u001b[39;00m\n\u001b[1;32m----> 2\u001b[0m df_check \u001b[38;5;241m=\u001b[39m pd\u001b[38;5;241m.\u001b[39mDataFrame({\u001b[38;5;124m'\u001b[39m\u001b[38;5;124mActual\u001b[39m\u001b[38;5;124m'\u001b[39m: actual, \u001b[38;5;124m'\u001b[39m\u001b[38;5;124mPredicted\u001b[39m\u001b[38;5;124m'\u001b[39m: prediction})\n\u001b[0;32m      3\u001b[0m df_check\n",
      "\u001b[1;31mNameError\u001b[0m: name 'actual' is not defined"
     ]
    }
   ],
   "source": [
    "import pandas as pd\n",
    "df_check = pd.DataFrame({'Actual': actual, 'Predicted': prediction})\n",
    "df_check"
   ]
  },
  {
   "cell_type": "code",
   "execution_count": null,
   "id": "33bdb412",
   "metadata": {},
   "outputs": [],
   "source": []
  }
 ],
 "metadata": {
  "kernelspec": {
   "display_name": "Python 3 (ipykernel)",
   "language": "python",
   "name": "python3"
  },
  "language_info": {
   "codemirror_mode": {
    "name": "ipython",
    "version": 3
   },
   "file_extension": ".py",
   "mimetype": "text/x-python",
   "name": "python",
   "nbconvert_exporter": "python",
   "pygments_lexer": "ipython3",
   "version": "3.11.5"
  }
 },
 "nbformat": 4,
 "nbformat_minor": 5
}
