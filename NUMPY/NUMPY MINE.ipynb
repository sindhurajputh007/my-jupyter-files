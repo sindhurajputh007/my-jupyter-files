{
 "cells": [
  {
   "cell_type": "code",
   "execution_count": 1,
   "id": "c9f3c6fb",
   "metadata": {},
   "outputs": [],
   "source": [
    "import numpy\n"
   ]
  },
  {
   "cell_type": "code",
   "execution_count": 2,
   "id": "691209c1",
   "metadata": {},
   "outputs": [
    {
     "data": {
      "text/plain": [
       "'1.24.3'"
      ]
     },
     "execution_count": 2,
     "metadata": {},
     "output_type": "execute_result"
    }
   ],
   "source": [
    "numpy.__version__"
   ]
  },
  {
   "cell_type": "code",
   "execution_count": 3,
   "id": "0a7bb67f",
   "metadata": {},
   "outputs": [],
   "source": [
    "numpy?"
   ]
  },
  {
   "cell_type": "markdown",
   "id": "400639a9",
   "metadata": {},
   "source": [
    "## CREATION A 1D ARRAY"
   ]
  },
  {
   "cell_type": "code",
   "execution_count": 4,
   "id": "ee4f705c",
   "metadata": {},
   "outputs": [
    {
     "name": "stdout",
     "output_type": "stream",
     "text": [
      "[1 2 3 4 5]  type :  <class 'numpy.ndarray'>  dimension :  1\n",
      "[1.   2.25 3.5 ] <class 'numpy.ndarray'> 1\n"
     ]
    }
   ],
   "source": [
    "import numpy as np\n",
    "\n",
    "#array of integers\n",
    "arr_1 = np.array([1,2,3,4,5])\n",
    "print(arr_1 ,\" type : \" , type(arr_1), \" dimension : \", np.ndim(arr_1))\n",
    "\n",
    "#array of floats\n",
    "arr_2 = np.array([1.0,2.25,3.5])\n",
    "print(arr_2 ,  type(arr_2), np.ndim(arr_2))"
   ]
  },
  {
   "cell_type": "markdown",
   "id": "0b18ace7",
   "metadata": {},
   "source": [
    "## CREATING A 2D ARRAY"
   ]
  },
  {
   "cell_type": "code",
   "execution_count": 5,
   "id": "f18a01de",
   "metadata": {},
   "outputs": [
    {
     "name": "stdout",
     "output_type": "stream",
     "text": [
      "[[1 2 3]\n",
      " [4 5 6]\n",
      " [7 8 9]]  type :  <class 'numpy.ndarray'>  dimension :  2\n"
     ]
    }
   ],
   "source": [
    "arr_3 = np.array([  \n",
    "                    [1,2,3],\n",
    "                    [4,5,6],\n",
    "                    [7,8,9]\n",
    "                ])\n",
    "\n",
    "print(arr_3 ,\" type : \" , type(arr_3), \" dimension : \", np.ndim(arr_3))"
   ]
  },
  {
   "cell_type": "markdown",
   "id": "d4d843c3",
   "metadata": {},
   "source": [
    "## CREATING A 3D ARRAY"
   ]
  },
  {
   "cell_type": "code",
   "execution_count": 6,
   "id": "b28831f6",
   "metadata": {},
   "outputs": [
    {
     "name": "stdout",
     "output_type": "stream",
     "text": [
      "[[[1.1 2.2]\n",
      "  [3.3 4.4]]\n",
      "\n",
      " [[5.5 6.6]\n",
      "  [7.7 8.8]]]  type :  <class 'numpy.ndarray'>  dimension :  3\n"
     ]
    }
   ],
   "source": [
    "arr_3d = np.array([    \n",
    "                        [  \n",
    "                           [1.1, 2.2], \n",
    "                           [3.3, 4.4]\n",
    "                        ]  , \n",
    "                        [\n",
    "                           [5.5, 6.6], \n",
    "                           [7.7, 8.8]\n",
    "                        ]    \n",
    "                  ])\n",
    "print(arr_3d ,\" type : \" , type(arr_3d), \" dimension : \", np.ndim(arr_3d))"
   ]
  },
  {
   "cell_type": "markdown",
   "id": "2889a6c9",
   "metadata": {},
   "source": [
    "## MATHEMATICAL FUNCTIONS"
   ]
  },
  {
   "cell_type": "code",
   "execution_count": 7,
   "id": "818affd6",
   "metadata": {},
   "outputs": [
    {
     "data": {
      "text/plain": [
       "3.141592653589793"
      ]
     },
     "execution_count": 7,
     "metadata": {},
     "output_type": "execute_result"
    }
   ],
   "source": [
    "np.pi"
   ]
  },
  {
   "cell_type": "code",
   "execution_count": 8,
   "id": "a7ab055a",
   "metadata": {},
   "outputs": [
    {
     "name": "stdout",
     "output_type": "stream",
     "text": [
      "[0.         0.06346652 0.12693304 0.19039955 0.25386607 0.31733259\n",
      " 0.38079911 0.44426563 0.50773215 0.57119866 0.63466518 0.6981317\n",
      " 0.76159822 0.82506474 0.88853126 0.95199777 1.01546429 1.07893081\n",
      " 1.14239733 1.20586385 1.26933037 1.33279688 1.3962634  1.45972992\n",
      " 1.52319644 1.58666296 1.65012947 1.71359599 1.77706251 1.84052903\n",
      " 1.90399555 1.96746207 2.03092858 2.0943951  2.15786162 2.22132814\n",
      " 2.28479466 2.34826118 2.41172769 2.47519421 2.53866073 2.60212725\n",
      " 2.66559377 2.72906028 2.7925268  2.85599332 2.91945984 2.98292636\n",
      " 3.04639288 3.10985939 3.17332591 3.23679243 3.30025895 3.36372547\n",
      " 3.42719199 3.4906585  3.55412502 3.61759154 3.68105806 3.74452458\n",
      " 3.8079911  3.87145761 3.93492413 3.99839065 4.06185717 4.12532369\n",
      " 4.1887902  4.25225672 4.31572324 4.37918976 4.44265628 4.5061228\n",
      " 4.56958931 4.63305583 4.69652235 4.75998887 4.82345539 4.88692191\n",
      " 4.95038842 5.01385494 5.07732146 5.14078798 5.2042545  5.26772102\n",
      " 5.33118753 5.39465405 5.45812057 5.52158709 5.58505361 5.64852012\n",
      " 5.71198664 5.77545316 5.83891968 5.9023862  5.96585272 6.02931923\n",
      " 6.09278575 6.15625227 6.21971879 6.28318531]\n"
     ]
    }
   ],
   "source": [
    "# create an array of values between 0 and 2*pi\n",
    "x = np.linspace(0,2*np.pi,100)\n",
    "print(x)"
   ]
  },
  {
   "cell_type": "code",
   "execution_count": 9,
   "id": "170f9d4a",
   "metadata": {},
   "outputs": [
    {
     "name": "stdout",
     "output_type": "stream",
     "text": [
      "Sine of each element: \n",
      "\n",
      " [ 0.00000000e+00  6.34239197e-02  1.26592454e-01  1.89251244e-01\n",
      "  2.51147987e-01  3.12033446e-01  3.71662456e-01  4.29794912e-01\n",
      "  4.86196736e-01  5.40640817e-01  5.92907929e-01  6.42787610e-01\n",
      "  6.90079011e-01  7.34591709e-01  7.76146464e-01  8.14575952e-01\n",
      "  8.49725430e-01  8.81453363e-01  9.09631995e-01  9.34147860e-01\n",
      "  9.54902241e-01  9.71811568e-01  9.84807753e-01  9.93838464e-01\n",
      "  9.98867339e-01  9.99874128e-01  9.96854776e-01  9.89821442e-01\n",
      "  9.78802446e-01  9.63842159e-01  9.45000819e-01  9.22354294e-01\n",
      "  8.95993774e-01  8.66025404e-01  8.32569855e-01  7.95761841e-01\n",
      "  7.55749574e-01  7.12694171e-01  6.66769001e-01  6.18158986e-01\n",
      "  5.67059864e-01  5.13677392e-01  4.58226522e-01  4.00930535e-01\n",
      "  3.42020143e-01  2.81732557e-01  2.20310533e-01  1.58001396e-01\n",
      "  9.50560433e-02  3.17279335e-02 -3.17279335e-02 -9.50560433e-02\n",
      " -1.58001396e-01 -2.20310533e-01 -2.81732557e-01 -3.42020143e-01\n",
      " -4.00930535e-01 -4.58226522e-01 -5.13677392e-01 -5.67059864e-01\n",
      " -6.18158986e-01 -6.66769001e-01 -7.12694171e-01 -7.55749574e-01\n",
      " -7.95761841e-01 -8.32569855e-01 -8.66025404e-01 -8.95993774e-01\n",
      " -9.22354294e-01 -9.45000819e-01 -9.63842159e-01 -9.78802446e-01\n",
      " -9.89821442e-01 -9.96854776e-01 -9.99874128e-01 -9.98867339e-01\n",
      " -9.93838464e-01 -9.84807753e-01 -9.71811568e-01 -9.54902241e-01\n",
      " -9.34147860e-01 -9.09631995e-01 -8.81453363e-01 -8.49725430e-01\n",
      " -8.14575952e-01 -7.76146464e-01 -7.34591709e-01 -6.90079011e-01\n",
      " -6.42787610e-01 -5.92907929e-01 -5.40640817e-01 -4.86196736e-01\n",
      " -4.29794912e-01 -3.71662456e-01 -3.12033446e-01 -2.51147987e-01\n",
      " -1.89251244e-01 -1.26592454e-01 -6.34239197e-02 -2.44929360e-16]\n",
      "\n",
      "\n",
      "Exponential of each element:\n",
      "\n",
      " [  1.           1.06552381   1.13534099   1.20973286   1.28899916\n",
      "   1.3734593    1.46345358   1.55934464   1.66151884   1.77038788\n",
      "   1.88639044   2.00999393   2.14169639   2.28202849   2.43155569\n",
      "   2.59088049   2.76064485   2.94153281   3.13427325   3.33964277\n",
      "   3.55846889   3.79163333   4.04007559   4.30479673   4.58686341\n",
      "   4.88741218   5.20765404   5.54887937   5.91246309   6.2998702\n",
      "   6.71266169   7.15250086   7.62115996   8.1205274    8.65261529\n",
      "   9.2195676    9.8236688   10.467353    11.15321385  11.88401491\n",
      "  12.66270084  13.49240924  14.37648329  15.31848524  16.32221075\n",
      "  17.39170418  18.5312749   19.74551462  21.03931597  22.4178921\n",
      "  23.88679779  25.45195178  27.11966063  28.89664411  30.79006231\n",
      "  32.80754449  34.95721979  37.24775001  39.68836449  42.28889732\n",
      "  45.05982698  48.01231851  51.15826852  54.51035317  58.08207917\n",
      "  61.88783827  65.9429652   70.2637995   74.86775132  79.7733716\n",
      "  85.00042681  90.5699786   96.50446863 102.82780906 109.56547884\n",
      " 116.74462642 124.39417909 132.5449596  141.22981029 150.48372549\n",
      " 160.34399247 170.85034171 182.04510697 193.9733959  206.68327176\n",
      " 220.22594711 234.65599014 250.03154456 266.41456388 283.87106104\n",
      " 302.47137439 322.29045114 343.4081493  365.90955949 389.8853478\n",
      " 415.4321211  442.65281631 471.65711517 502.56188618 535.49165552]\n"
     ]
    }
   ],
   "source": [
    "#calculate the sine of each element in array\n",
    "y = np.sin(x)\n",
    "print(\"Sine of each element: \\n\\n\",y)\n",
    "\n",
    "#calculate the exponential of each element in the array\n",
    "z = np.exp(x)\n",
    "print(\"\\n\\nExponential of each element:\\n\\n\",z)"
   ]
  },
  {
   "cell_type": "markdown",
   "id": "fa27acbc",
   "metadata": {},
   "source": [
    "## BASIC ARITHMETIC"
   ]
  },
  {
   "cell_type": "code",
   "execution_count": 10,
   "id": "608fa131",
   "metadata": {},
   "outputs": [
    {
     "name": "stdout",
     "output_type": "stream",
     "text": [
      "Addition: [5 7 9]\n",
      "Subtraction: [-3 -3 -3]\n",
      "Multiplication: [ 4 10 18]\n",
      "Division: [0.25 0.4  0.5 ]\n"
     ]
    }
   ],
   "source": [
    "#create 2 arrays of same shape\n",
    "x = np.array([1,2,3])\n",
    "y = np.array([4,5,6])\n",
    "\n",
    "#add the arrays element-wise\n",
    "a = x+y\n",
    "print(\"Addition:\",a)\n",
    "\n",
    "#subtract the arrays element-wise\n",
    "s = x-y\n",
    "print(\"Subtraction:\",s)\n",
    "\n",
    "#multilply the arrays elements-wise\n",
    "m = x*y\n",
    "print(\"Multiplication:\",m)\n",
    "\n",
    "#divide the arrays elements-wise\n",
    "d = x/y\n",
    "print(\"Division:\",d)\n"
   ]
  },
  {
   "cell_type": "markdown",
   "id": "32835bd8",
   "metadata": {},
   "source": [
    "## LINEAR ALGEBRA"
   ]
  },
  {
   "cell_type": "code",
   "execution_count": 11,
   "id": "a0ddfa10",
   "metadata": {},
   "outputs": [
    {
     "name": "stdout",
     "output_type": "stream",
     "text": [
      "Matrix Multiplication: [[19 22]\n",
      " [43 50]]\n",
      "Inverse of matrix:\n",
      " [[-2.   1. ]\n",
      " [ 1.5 -0.5]]\n",
      "Eigen values: [-0.37228132  5.37228132]\n",
      "Eigen vectors:\n",
      " [[-0.82456484 -0.41597356]\n",
      " [ 0.56576746 -0.90937671]]\n"
     ]
    }
   ],
   "source": [
    "x = np.array([[1,2],[3,4]])\n",
    "y = np.array([[5,6],[7,8]])\n",
    "\n",
    "#Matrix product of the two matrices\n",
    "ma = np.dot(x,y)\n",
    "print(\"Matrix Multiplication:\",ma)\n",
    "\n",
    "#inverse of a matrix\n",
    "inv = np.linalg.inv(x)\n",
    "print(\"Inverse of matrix:\\n\",inv)\n",
    "\n",
    "#Eigenvalues and eigenvectors of a matrix\n",
    "v , u = np.linalg.eig(x)\n",
    "print(\"Eigen values:\",v)\n",
    "print(\"Eigen vectors:\\n\",u)"
   ]
  },
  {
   "cell_type": "markdown",
   "id": "68e73362",
   "metadata": {},
   "source": [
    "## SATISTICAL FUNCTIONS"
   ]
  },
  {
   "cell_type": "code",
   "execution_count": 12,
   "id": "2fb8623f",
   "metadata": {},
   "outputs": [
    {
     "name": "stdout",
     "output_type": "stream",
     "text": [
      "Array:\n",
      " [-0.62326979 -1.87222847  1.29291186 -0.4245859   0.55603056  1.00586725\n",
      " -0.08796747 -0.39968074 -0.2916113  -1.41044921]\n",
      "\n",
      "Mean: -0.22549831876508059\n",
      "Median: -0.34564601853908716\n",
      "standard deviation: 0.938079420507933\n",
      "Variance: 0.8799929991804994\n"
     ]
    }
   ],
   "source": [
    "#create an array of random values\n",
    "x = np.random.normal(0,1,10)\n",
    "print(\"Array:\\n\",x)\n",
    "\n",
    "#mean of the values in the array\n",
    "y = np.mean(x)\n",
    "print(\"\\nMean:\",y)\n",
    "\n",
    "#median of the values in the array\n",
    "z = np.median(x)\n",
    "print(\"Median:\",z)\n",
    "\n",
    "#Standard deviation of the values in the array\n",
    "w = np.std(x)\n",
    "print(\"standard deviation:\",w)\n",
    "\n",
    "#Variance of the values in the array\n",
    "v = np.var(x)\n",
    "print(\"Variance:\",v)"
   ]
  },
  {
   "cell_type": "markdown",
   "id": "5dbc2160",
   "metadata": {},
   "source": [
    "## SORTING AND SEARCHING"
   ]
  },
  {
   "cell_type": "code",
   "execution_count": 13,
   "id": "fb1112a4",
   "metadata": {},
   "outputs": [
    {
     "name": "stdout",
     "output_type": "stream",
     "text": [
      "Array: [8 3 6 3 2 2 9 5 5 8]\n",
      "Array in ascending array: [2 2 3 3 5 5 6 8 8 9]\n",
      "Array sorted by index: [4 5 1 3 7 8 2 0 9 6]\n",
      "Index of the given value: (array([], dtype=int64),)\n"
     ]
    }
   ],
   "source": [
    "#create an array of random values\n",
    "x = np.random.randint(0,10,10)\n",
    "print(\"Array:\",x)\n",
    "\n",
    "#sort the array in ascending order\n",
    "y = np.sort(x)\n",
    "print(\"Array in ascending array:\",y)\n",
    "\n",
    "#sort the array by index\n",
    "z = np.argsort(x)\n",
    "print(\"Array sorted by index:\",z)\n",
    "\n",
    "#search for the index of a specific value in the array\n",
    "w = np.where(x == 7)\n",
    "print(\"Index of the given value:\",w)"
   ]
  },
  {
   "cell_type": "markdown",
   "id": "526297bf",
   "metadata": {},
   "source": [
    "## BROADCASTING"
   ]
  },
  {
   "cell_type": "code",
   "execution_count": 14,
   "id": "a4a340e5",
   "metadata": {},
   "outputs": [
    {
     "name": "stdout",
     "output_type": "stream",
     "text": [
      "Scalar value addition:\n",
      " [2 3 4]\n",
      "Vector addition:\n",
      " [[2 4 6]\n",
      " [5 7 9]]\n"
     ]
    }
   ],
   "source": [
    "#array of values\n",
    "x = np.array([1,2,3])\n",
    "\n",
    "#add a scalar value to each element in the array\n",
    "y = x+1\n",
    "print(\"Scalar value addition:\\n\",y)\n",
    "\n",
    "#add a row vector to a matrix\n",
    "z = np.array([[1,2,3],[4,5,6]])\n",
    "w = np.array([1,2,3])\n",
    "u = z +w\n",
    "\n",
    "print(\"Vector addition:\\n\",u)"
   ]
  },
  {
   "cell_type": "code",
   "execution_count": null,
   "id": "38d10232",
   "metadata": {},
   "outputs": [],
   "source": []
  }
 ],
 "metadata": {
  "kernelspec": {
   "display_name": "Python 3 (ipykernel)",
   "language": "python",
   "name": "python3"
  },
  "language_info": {
   "codemirror_mode": {
    "name": "ipython",
    "version": 3
   },
   "file_extension": ".py",
   "mimetype": "text/x-python",
   "name": "python",
   "nbconvert_exporter": "python",
   "pygments_lexer": "ipython3",
   "version": "3.11.5"
  }
 },
 "nbformat": 4,
 "nbformat_minor": 5
}
