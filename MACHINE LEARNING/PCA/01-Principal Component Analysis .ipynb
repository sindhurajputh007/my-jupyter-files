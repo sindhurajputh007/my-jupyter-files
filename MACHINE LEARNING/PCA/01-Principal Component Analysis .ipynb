{
 "cells": [
  {
   "cell_type": "markdown",
   "id": "62afab78",
   "metadata": {},
   "source": [
    "# Principal Component Analysis\n",
    "\n",
    "Let's discuss PCA! Since this isn't exactly a full machine learning algorithm, but instead an unsupervised learning algorithm, we will just have a lecture on this topic, but no full machine learning project (although we will walk through the cancer set with PCA).\n",
    "\n",
    "## PCA Review\n",
    "\n",
    "Make sure to watch the video lecture and theory presentation for a full overview of PCA! \n",
    "Remember that PCA is just a transformation of your data and attempts to find out what features explain the most variance in your data. For example:"
   ]
  },
  {
   "cell_type": "code",
   "execution_count": 70,
   "id": "db578a09",
   "metadata": {},
   "outputs": [
    {
     "ename": "SyntaxError",
     "evalue": "invalid syntax (3874813155.py, line 1)",
     "output_type": "error",
     "traceback": [
      "\u001b[1;36m  Cell \u001b[1;32mIn[70], line 1\u001b[1;36m\u001b[0m\n\u001b[1;33m    <img src='PCA.png' />\u001b[0m\n\u001b[1;37m    ^\u001b[0m\n\u001b[1;31mSyntaxError\u001b[0m\u001b[1;31m:\u001b[0m invalid syntax\n"
     ]
    }
   ],
   "source": [
    "<img src='PCA.png' />"
   ]
  },
  {
   "cell_type": "markdown",
   "id": "b113fe94",
   "metadata": {},
   "source": [
    "## Libraries"
   ]
  },
  {
   "cell_type": "code",
   "execution_count": 71,
   "id": "4235b3ab",
   "metadata": {},
   "outputs": [],
   "source": [
    "import matplotlib.pyplot as plt\n",
    "import pandas as pd\n",
    "import numpy as np\n",
    "import seaborn as sns\n",
    "%matplotlib inline\n"
   ]
  },
  {
   "cell_type": "markdown",
   "id": "c2ec2bc4",
   "metadata": {},
   "source": [
    "# The Data\n",
    "Let's work with the cancer data set again since it had so many features."
   ]
  },
  {
   "cell_type": "code",
   "execution_count": 72,
   "id": "b13b723d",
   "metadata": {},
   "outputs": [],
   "source": [
    "from sklearn.datasets import load_breast_cancer"
   ]
  },
  {
   "cell_type": "code",
   "execution_count": 73,
   "id": "773645e9",
   "metadata": {},
   "outputs": [],
   "source": [
    "cancer = load_breast_cancer()"
   ]
  },
  {
   "cell_type": "code",
   "execution_count": 74,
   "id": "79b378fc",
   "metadata": {},
   "outputs": [
    {
     "data": {
      "text/plain": [
       "['DESCR',\n",
       " 'data',\n",
       " 'data_module',\n",
       " 'feature_names',\n",
       " 'filename',\n",
       " 'frame',\n",
       " 'target',\n",
       " 'target_names']"
      ]
     },
     "execution_count": 74,
     "metadata": {},
     "output_type": "execute_result"
    }
   ],
   "source": [
    "dir(cancer)"
   ]
  },
  {
   "cell_type": "code",
   "execution_count": 75,
   "id": "6d2c21ab",
   "metadata": {},
   "outputs": [
    {
     "name": "stdout",
     "output_type": "stream",
     "text": [
      ".. _breast_cancer_dataset:\n",
      "\n",
      "Breast cancer wisconsin (diagnostic) dataset\n",
      "--------------------------------------------\n",
      "\n",
      "**Data Set Characteristics:**\n",
      "\n",
      "    :Number of Instances: 569\n",
      "\n",
      "    :Number of Attributes: 30 numeric, predictive attributes and the class\n",
      "\n",
      "    :Attribute Information:\n",
      "        - radius (mean of distances from center to points on the perimeter)\n",
      "        - texture (standard deviation of gray-scale values)\n",
      "        - perimeter\n",
      "        - area\n",
      "        - smoothness (local variation in radius lengths)\n",
      "        - compactness (perimeter^2 / area - 1.0)\n",
      "        - concavity (severity of concave portions of the contour)\n",
      "        - concave points (number of concave portions of the contour)\n",
      "        - symmetry\n",
      "        - fractal dimension (\"coastline approximation\" - 1)\n",
      "\n",
      "        The mean, standard error, and \"worst\" or largest (mean of the three\n",
      "        worst/largest values) of these features were computed for each image,\n",
      "        resulting in 30 features.  For instance, field 0 is Mean Radius, field\n",
      "        10 is Radius SE, field 20 is Worst Radius.\n",
      "\n",
      "        - class:\n",
      "                - WDBC-Malignant\n",
      "                - WDBC-Benign\n",
      "\n",
      "    :Summary Statistics:\n",
      "\n",
      "    ===================================== ====== ======\n",
      "                                           Min    Max\n",
      "    ===================================== ====== ======\n",
      "    radius (mean):                        6.981  28.11\n",
      "    texture (mean):                       9.71   39.28\n",
      "    perimeter (mean):                     43.79  188.5\n",
      "    area (mean):                          143.5  2501.0\n",
      "    smoothness (mean):                    0.053  0.163\n",
      "    compactness (mean):                   0.019  0.345\n",
      "    concavity (mean):                     0.0    0.427\n",
      "    concave points (mean):                0.0    0.201\n",
      "    symmetry (mean):                      0.106  0.304\n",
      "    fractal dimension (mean):             0.05   0.097\n",
      "    radius (standard error):              0.112  2.873\n",
      "    texture (standard error):             0.36   4.885\n",
      "    perimeter (standard error):           0.757  21.98\n",
      "    area (standard error):                6.802  542.2\n",
      "    smoothness (standard error):          0.002  0.031\n",
      "    compactness (standard error):         0.002  0.135\n",
      "    concavity (standard error):           0.0    0.396\n",
      "    concave points (standard error):      0.0    0.053\n",
      "    symmetry (standard error):            0.008  0.079\n",
      "    fractal dimension (standard error):   0.001  0.03\n",
      "    radius (worst):                       7.93   36.04\n",
      "    texture (worst):                      12.02  49.54\n",
      "    perimeter (worst):                    50.41  251.2\n",
      "    area (worst):                         185.2  4254.0\n",
      "    smoothness (worst):                   0.071  0.223\n",
      "    compactness (worst):                  0.027  1.058\n",
      "    concavity (worst):                    0.0    1.252\n",
      "    concave points (worst):               0.0    0.291\n",
      "    symmetry (worst):                     0.156  0.664\n",
      "    fractal dimension (worst):            0.055  0.208\n",
      "    ===================================== ====== ======\n",
      "\n",
      "    :Missing Attribute Values: None\n",
      "\n",
      "    :Class Distribution: 212 - Malignant, 357 - Benign\n",
      "\n",
      "    :Creator:  Dr. William H. Wolberg, W. Nick Street, Olvi L. Mangasarian\n",
      "\n",
      "    :Donor: Nick Street\n",
      "\n",
      "    :Date: November, 1995\n",
      "\n",
      "This is a copy of UCI ML Breast Cancer Wisconsin (Diagnostic) datasets.\n",
      "https://goo.gl/U2Uwz2\n",
      "\n",
      "Features are computed from a digitized image of a fine needle\n",
      "aspirate (FNA) of a breast mass.  They describe\n",
      "characteristics of the cell nuclei present in the image.\n",
      "\n",
      "Separating plane described above was obtained using\n",
      "Multisurface Method-Tree (MSM-T) [K. P. Bennett, \"Decision Tree\n",
      "Construction Via Linear Programming.\" Proceedings of the 4th\n",
      "Midwest Artificial Intelligence and Cognitive Science Society,\n",
      "pp. 97-101, 1992], a classification method which uses linear\n",
      "programming to construct a decision tree.  Relevant features\n",
      "were selected using an exhaustive search in the space of 1-4\n",
      "features and 1-3 separating planes.\n",
      "\n",
      "The actual linear program used to obtain the separating plane\n",
      "in the 3-dimensional space is that described in:\n",
      "[K. P. Bennett and O. L. Mangasarian: \"Robust Linear\n",
      "Programming Discrimination of Two Linearly Inseparable Sets\",\n",
      "Optimization Methods and Software 1, 1992, 23-34].\n",
      "\n",
      "This database is also available through the UW CS ftp server:\n",
      "\n",
      "ftp ftp.cs.wisc.edu\n",
      "cd math-prog/cpo-dataset/machine-learn/WDBC/\n",
      "\n",
      ".. topic:: References\n",
      "\n",
      "   - W.N. Street, W.H. Wolberg and O.L. Mangasarian. Nuclear feature extraction \n",
      "     for breast tumor diagnosis. IS&T/SPIE 1993 International Symposium on \n",
      "     Electronic Imaging: Science and Technology, volume 1905, pages 861-870,\n",
      "     San Jose, CA, 1993.\n",
      "   - O.L. Mangasarian, W.N. Street and W.H. Wolberg. Breast cancer diagnosis and \n",
      "     prognosis via linear programming. Operations Research, 43(4), pages 570-577, \n",
      "     July-August 1995.\n",
      "   - W.H. Wolberg, W.N. Street, and O.L. Mangasarian. Machine learning techniques\n",
      "     to diagnose breast cancer from fine-needle aspirates. Cancer Letters 77 (1994) \n",
      "     163-171.\n"
     ]
    }
   ],
   "source": [
    "print(cancer['DESCR'])"
   ]
  },
  {
   "cell_type": "code",
   "execution_count": 76,
   "id": "bd8ace6f",
   "metadata": {},
   "outputs": [
    {
     "data": {
      "text/plain": [
       "'.. _breast_cancer_dataset:\\n\\nBreast cancer wisconsin (diagnostic) dataset\\n--------------------------------------------\\n\\n**Data Set Characteristics:**\\n\\n    :Number of Instances: 569\\n\\n    :Number of Attributes: 30 numeric, predictive attributes and the class\\n\\n    :Attribute Information:\\n        - radius (mean of distances from center to points on the perimeter)\\n        - texture (standard deviation of gray-scale values)\\n        - perimeter\\n        - area\\n        - smoothness (local variation in radius lengths)\\n        - compactness (perimeter^2 / area - 1.0)\\n        - concavity (severity of concave portions of the contour)\\n        - concave points (number of concave portions of the contour)\\n        - symmetry\\n        - fractal dimension (\"coastline approximation\" - 1)\\n\\n        The mean, standard error, and \"worst\" or largest (mean of the three\\n        worst/largest values) of these features were computed for each image,\\n        resulting in 30 features.  For instance, field 0 is Mean Radius, field\\n        10 is Radius SE, field 20 is Worst Radius.\\n\\n        - class:\\n                - WDBC-Malignant\\n                - WDBC-Benign\\n\\n    :Summary Statistics:\\n\\n    ===================================== ====== ======\\n                                           Min    Max\\n    ===================================== ====== ======\\n    radius (mean):                        6.981  28.11\\n    texture (mean):                       9.71   39.28\\n    perimeter (mean):                     43.79  188.5\\n    area (mean):                          143.5  2501.0\\n    smoothness (mean):                    0.053  0.163\\n    compactness (mean):                   0.019  0.345\\n    concavity (mean):                     0.0    0.427\\n    concave points (mean):                0.0    0.201\\n    symmetry (mean):                      0.106  0.304\\n    fractal dimension (mean):             0.05   0.097\\n    radius (standard error):              0.112  2.873\\n    texture (standard error):             0.36   4.885\\n    perimeter (standard error):           0.757  21.98\\n    area (standard error):                6.802  542.2\\n    smoothness (standard error):          0.002  0.031\\n    compactness (standard error):         0.002  0.135\\n    concavity (standard error):           0.0    0.396\\n    concave points (standard error):      0.0    0.053\\n    symmetry (standard error):            0.008  0.079\\n    fractal dimension (standard error):   0.001  0.03\\n    radius (worst):                       7.93   36.04\\n    texture (worst):                      12.02  49.54\\n    perimeter (worst):                    50.41  251.2\\n    area (worst):                         185.2  4254.0\\n    smoothness (worst):                   0.071  0.223\\n    compactness (worst):                  0.027  1.058\\n    concavity (worst):                    0.0    1.252\\n    concave points (worst):               0.0    0.291\\n    symmetry (worst):                     0.156  0.664\\n    fractal dimension (worst):            0.055  0.208\\n    ===================================== ====== ======\\n\\n    :Missing Attribute Values: None\\n\\n    :Class Distribution: 212 - Malignant, 357 - Benign\\n\\n    :Creator:  Dr. William H. Wolberg, W. Nick Street, Olvi L. Mangasarian\\n\\n    :Donor: Nick Street\\n\\n    :Date: November, 1995\\n\\nThis is a copy of UCI ML Breast Cancer Wisconsin (Diagnostic) datasets.\\nhttps://goo.gl/U2Uwz2\\n\\nFeatures are computed from a digitized image of a fine needle\\naspirate (FNA) of a breast mass.  They describe\\ncharacteristics of the cell nuclei present in the image.\\n\\nSeparating plane described above was obtained using\\nMultisurface Method-Tree (MSM-T) [K. P. Bennett, \"Decision Tree\\nConstruction Via Linear Programming.\" Proceedings of the 4th\\nMidwest Artificial Intelligence and Cognitive Science Society,\\npp. 97-101, 1992], a classification method which uses linear\\nprogramming to construct a decision tree.  Relevant features\\nwere selected using an exhaustive search in the space of 1-4\\nfeatures and 1-3 separating planes.\\n\\nThe actual linear program used to obtain the separating plane\\nin the 3-dimensional space is that described in:\\n[K. P. Bennett and O. L. Mangasarian: \"Robust Linear\\nProgramming Discrimination of Two Linearly Inseparable Sets\",\\nOptimization Methods and Software 1, 1992, 23-34].\\n\\nThis database is also available through the UW CS ftp server:\\n\\nftp ftp.cs.wisc.edu\\ncd math-prog/cpo-dataset/machine-learn/WDBC/\\n\\n.. topic:: References\\n\\n   - W.N. Street, W.H. Wolberg and O.L. Mangasarian. Nuclear feature extraction \\n     for breast tumor diagnosis. IS&T/SPIE 1993 International Symposium on \\n     Electronic Imaging: Science and Technology, volume 1905, pages 861-870,\\n     San Jose, CA, 1993.\\n   - O.L. Mangasarian, W.N. Street and W.H. Wolberg. Breast cancer diagnosis and \\n     prognosis via linear programming. Operations Research, 43(4), pages 570-577, \\n     July-August 1995.\\n   - W.H. Wolberg, W.N. Street, and O.L. Mangasarian. Machine learning techniques\\n     to diagnose breast cancer from fine-needle aspirates. Cancer Letters 77 (1994) \\n     163-171.'"
      ]
     },
     "execution_count": 76,
     "metadata": {},
     "output_type": "execute_result"
    }
   ],
   "source": [
    "cancer. DESCR"
   ]
  },
  {
   "cell_type": "code",
   "execution_count": 77,
   "id": "b6b82dfd",
   "metadata": {},
   "outputs": [
    {
     "data": {
      "text/plain": [
       "array(['mean radius', 'mean texture', 'mean perimeter', 'mean area',\n",
       "       'mean smoothness', 'mean compactness', 'mean concavity',\n",
       "       'mean concave points', 'mean symmetry', 'mean fractal dimension',\n",
       "       'radius error', 'texture error', 'perimeter error', 'area error',\n",
       "       'smoothness error', 'compactness error', 'concavity error',\n",
       "       'concave points error', 'symmetry error',\n",
       "       'fractal dimension error', 'worst radius', 'worst texture',\n",
       "       'worst perimeter', 'worst area', 'worst smoothness',\n",
       "       'worst compactness', 'worst concavity', 'worst concave points',\n",
       "       'worst symmetry', 'worst fractal dimension'], dtype='<U23')"
      ]
     },
     "execution_count": 77,
     "metadata": {},
     "output_type": "execute_result"
    }
   ],
   "source": [
    "cancer.feature_names"
   ]
  },
  {
   "cell_type": "code",
   "execution_count": 78,
   "id": "b9928702",
   "metadata": {},
   "outputs": [
    {
     "data": {
      "text/plain": [
       "array([[1.799e+01, 1.038e+01, 1.228e+02, ..., 2.654e-01, 4.601e-01,\n",
       "        1.189e-01],\n",
       "       [2.057e+01, 1.777e+01, 1.329e+02, ..., 1.860e-01, 2.750e-01,\n",
       "        8.902e-02],\n",
       "       [1.969e+01, 2.125e+01, 1.300e+02, ..., 2.430e-01, 3.613e-01,\n",
       "        8.758e-02],\n",
       "       ...,\n",
       "       [1.660e+01, 2.808e+01, 1.083e+02, ..., 1.418e-01, 2.218e-01,\n",
       "        7.820e-02],\n",
       "       [2.060e+01, 2.933e+01, 1.401e+02, ..., 2.650e-01, 4.087e-01,\n",
       "        1.240e-01],\n",
       "       [7.760e+00, 2.454e+01, 4.792e+01, ..., 0.000e+00, 2.871e-01,\n",
       "        7.039e-02]])"
      ]
     },
     "execution_count": 78,
     "metadata": {},
     "output_type": "execute_result"
    }
   ],
   "source": [
    "cancer.data"
   ]
  },
  {
   "cell_type": "code",
   "execution_count": 79,
   "id": "03c34dff",
   "metadata": {},
   "outputs": [],
   "source": [
    "target = list(cancer.target)"
   ]
  },
  {
   "cell_type": "code",
   "execution_count": 80,
   "id": "f61e2478",
   "metadata": {},
   "outputs": [
    {
     "data": {
      "text/plain": [
       "dict_keys(['data', 'target', 'frame', 'target_names', 'DESCR', 'feature_names', 'filename', 'data_module'])"
      ]
     },
     "execution_count": 80,
     "metadata": {},
     "output_type": "execute_result"
    }
   ],
   "source": [
    "cancer.keys()"
   ]
  },
  {
   "cell_type": "code",
   "execution_count": 81,
   "id": "97c955a7",
   "metadata": {},
   "outputs": [
    {
     "data": {
      "text/plain": [
       "array(['malignant', 'benign'], dtype='<U9')"
      ]
     },
     "execution_count": 81,
     "metadata": {},
     "output_type": "execute_result"
    }
   ],
   "source": [
    "cancer.target_names"
   ]
  },
  {
   "cell_type": "code",
   "execution_count": 82,
   "id": "01078741",
   "metadata": {},
   "outputs": [],
   "source": [
    "df = pd.DataFrame(cancer['data'], columns=cancer['feature_names'])"
   ]
  },
  {
   "cell_type": "code",
   "execution_count": 83,
   "id": "ee2065c5",
   "metadata": {},
   "outputs": [
    {
     "data": {
      "text/html": [
       "<div>\n",
       "<style scoped>\n",
       "    .dataframe tbody tr th:only-of-type {\n",
       "        vertical-align: middle;\n",
       "    }\n",
       "\n",
       "    .dataframe tbody tr th {\n",
       "        vertical-align: top;\n",
       "    }\n",
       "\n",
       "    .dataframe thead th {\n",
       "        text-align: right;\n",
       "    }\n",
       "</style>\n",
       "<table border=\"1\" class=\"dataframe\">\n",
       "  <thead>\n",
       "    <tr style=\"text-align: right;\">\n",
       "      <th></th>\n",
       "      <th>mean radius</th>\n",
       "      <th>mean texture</th>\n",
       "      <th>mean perimeter</th>\n",
       "      <th>mean area</th>\n",
       "      <th>mean smoothness</th>\n",
       "      <th>mean compactness</th>\n",
       "      <th>mean concavity</th>\n",
       "      <th>mean concave points</th>\n",
       "      <th>mean symmetry</th>\n",
       "      <th>mean fractal dimension</th>\n",
       "      <th>...</th>\n",
       "      <th>worst radius</th>\n",
       "      <th>worst texture</th>\n",
       "      <th>worst perimeter</th>\n",
       "      <th>worst area</th>\n",
       "      <th>worst smoothness</th>\n",
       "      <th>worst compactness</th>\n",
       "      <th>worst concavity</th>\n",
       "      <th>worst concave points</th>\n",
       "      <th>worst symmetry</th>\n",
       "      <th>worst fractal dimension</th>\n",
       "    </tr>\n",
       "  </thead>\n",
       "  <tbody>\n",
       "    <tr>\n",
       "      <th>0</th>\n",
       "      <td>17.99</td>\n",
       "      <td>10.38</td>\n",
       "      <td>122.80</td>\n",
       "      <td>1001.0</td>\n",
       "      <td>0.11840</td>\n",
       "      <td>0.27760</td>\n",
       "      <td>0.3001</td>\n",
       "      <td>0.14710</td>\n",
       "      <td>0.2419</td>\n",
       "      <td>0.07871</td>\n",
       "      <td>...</td>\n",
       "      <td>25.38</td>\n",
       "      <td>17.33</td>\n",
       "      <td>184.60</td>\n",
       "      <td>2019.0</td>\n",
       "      <td>0.1622</td>\n",
       "      <td>0.6656</td>\n",
       "      <td>0.7119</td>\n",
       "      <td>0.2654</td>\n",
       "      <td>0.4601</td>\n",
       "      <td>0.11890</td>\n",
       "    </tr>\n",
       "    <tr>\n",
       "      <th>1</th>\n",
       "      <td>20.57</td>\n",
       "      <td>17.77</td>\n",
       "      <td>132.90</td>\n",
       "      <td>1326.0</td>\n",
       "      <td>0.08474</td>\n",
       "      <td>0.07864</td>\n",
       "      <td>0.0869</td>\n",
       "      <td>0.07017</td>\n",
       "      <td>0.1812</td>\n",
       "      <td>0.05667</td>\n",
       "      <td>...</td>\n",
       "      <td>24.99</td>\n",
       "      <td>23.41</td>\n",
       "      <td>158.80</td>\n",
       "      <td>1956.0</td>\n",
       "      <td>0.1238</td>\n",
       "      <td>0.1866</td>\n",
       "      <td>0.2416</td>\n",
       "      <td>0.1860</td>\n",
       "      <td>0.2750</td>\n",
       "      <td>0.08902</td>\n",
       "    </tr>\n",
       "    <tr>\n",
       "      <th>2</th>\n",
       "      <td>19.69</td>\n",
       "      <td>21.25</td>\n",
       "      <td>130.00</td>\n",
       "      <td>1203.0</td>\n",
       "      <td>0.10960</td>\n",
       "      <td>0.15990</td>\n",
       "      <td>0.1974</td>\n",
       "      <td>0.12790</td>\n",
       "      <td>0.2069</td>\n",
       "      <td>0.05999</td>\n",
       "      <td>...</td>\n",
       "      <td>23.57</td>\n",
       "      <td>25.53</td>\n",
       "      <td>152.50</td>\n",
       "      <td>1709.0</td>\n",
       "      <td>0.1444</td>\n",
       "      <td>0.4245</td>\n",
       "      <td>0.4504</td>\n",
       "      <td>0.2430</td>\n",
       "      <td>0.3613</td>\n",
       "      <td>0.08758</td>\n",
       "    </tr>\n",
       "    <tr>\n",
       "      <th>3</th>\n",
       "      <td>11.42</td>\n",
       "      <td>20.38</td>\n",
       "      <td>77.58</td>\n",
       "      <td>386.1</td>\n",
       "      <td>0.14250</td>\n",
       "      <td>0.28390</td>\n",
       "      <td>0.2414</td>\n",
       "      <td>0.10520</td>\n",
       "      <td>0.2597</td>\n",
       "      <td>0.09744</td>\n",
       "      <td>...</td>\n",
       "      <td>14.91</td>\n",
       "      <td>26.50</td>\n",
       "      <td>98.87</td>\n",
       "      <td>567.7</td>\n",
       "      <td>0.2098</td>\n",
       "      <td>0.8663</td>\n",
       "      <td>0.6869</td>\n",
       "      <td>0.2575</td>\n",
       "      <td>0.6638</td>\n",
       "      <td>0.17300</td>\n",
       "    </tr>\n",
       "    <tr>\n",
       "      <th>4</th>\n",
       "      <td>20.29</td>\n",
       "      <td>14.34</td>\n",
       "      <td>135.10</td>\n",
       "      <td>1297.0</td>\n",
       "      <td>0.10030</td>\n",
       "      <td>0.13280</td>\n",
       "      <td>0.1980</td>\n",
       "      <td>0.10430</td>\n",
       "      <td>0.1809</td>\n",
       "      <td>0.05883</td>\n",
       "      <td>...</td>\n",
       "      <td>22.54</td>\n",
       "      <td>16.67</td>\n",
       "      <td>152.20</td>\n",
       "      <td>1575.0</td>\n",
       "      <td>0.1374</td>\n",
       "      <td>0.2050</td>\n",
       "      <td>0.4000</td>\n",
       "      <td>0.1625</td>\n",
       "      <td>0.2364</td>\n",
       "      <td>0.07678</td>\n",
       "    </tr>\n",
       "  </tbody>\n",
       "</table>\n",
       "<p>5 rows × 30 columns</p>\n",
       "</div>"
      ],
      "text/plain": [
       "   mean radius  mean texture  mean perimeter  mean area  mean smoothness  \\\n",
       "0        17.99         10.38          122.80     1001.0          0.11840   \n",
       "1        20.57         17.77          132.90     1326.0          0.08474   \n",
       "2        19.69         21.25          130.00     1203.0          0.10960   \n",
       "3        11.42         20.38           77.58      386.1          0.14250   \n",
       "4        20.29         14.34          135.10     1297.0          0.10030   \n",
       "\n",
       "   mean compactness  mean concavity  mean concave points  mean symmetry  \\\n",
       "0           0.27760          0.3001              0.14710         0.2419   \n",
       "1           0.07864          0.0869              0.07017         0.1812   \n",
       "2           0.15990          0.1974              0.12790         0.2069   \n",
       "3           0.28390          0.2414              0.10520         0.2597   \n",
       "4           0.13280          0.1980              0.10430         0.1809   \n",
       "\n",
       "   mean fractal dimension  ...  worst radius  worst texture  worst perimeter  \\\n",
       "0                 0.07871  ...         25.38          17.33           184.60   \n",
       "1                 0.05667  ...         24.99          23.41           158.80   \n",
       "2                 0.05999  ...         23.57          25.53           152.50   \n",
       "3                 0.09744  ...         14.91          26.50            98.87   \n",
       "4                 0.05883  ...         22.54          16.67           152.20   \n",
       "\n",
       "   worst area  worst smoothness  worst compactness  worst concavity  \\\n",
       "0      2019.0            0.1622             0.6656           0.7119   \n",
       "1      1956.0            0.1238             0.1866           0.2416   \n",
       "2      1709.0            0.1444             0.4245           0.4504   \n",
       "3       567.7            0.2098             0.8663           0.6869   \n",
       "4      1575.0            0.1374             0.2050           0.4000   \n",
       "\n",
       "   worst concave points  worst symmetry  worst fractal dimension  \n",
       "0                0.2654          0.4601                  0.11890  \n",
       "1                0.1860          0.2750                  0.08902  \n",
       "2                0.2430          0.3613                  0.08758  \n",
       "3                0.2575          0.6638                  0.17300  \n",
       "4                0.1625          0.2364                  0.07678  \n",
       "\n",
       "[5 rows x 30 columns]"
      ]
     },
     "execution_count": 83,
     "metadata": {},
     "output_type": "execute_result"
    }
   ],
   "source": [
    "df.head()"
   ]
  },
  {
   "cell_type": "markdown",
   "id": "4dcabe2c",
   "metadata": {},
   "source": [
    "## PCA Visualization\n",
    "\n",
    "As we've noticed before it is difficult to visualize high dimensional data, we can use PCA to find the first two principal components, and visualize the data in this new, two-dimensional space, with a single scatter-plot. Before we do this though, we'll need to scale our data so that each feature has a single unit variance."
   ]
  },
  {
   "cell_type": "code",
   "execution_count": 84,
   "id": "9281d5ac",
   "metadata": {},
   "outputs": [],
   "source": [
    "from sklearn.preprocessing import StandardScaler"
   ]
  },
  {
   "cell_type": "code",
   "execution_count": 85,
   "id": "cce969f3",
   "metadata": {},
   "outputs": [
    {
     "data": {
      "text/html": [
       "<style>#sk-container-id-5 {color: black;}#sk-container-id-5 pre{padding: 0;}#sk-container-id-5 div.sk-toggleable {background-color: white;}#sk-container-id-5 label.sk-toggleable__label {cursor: pointer;display: block;width: 100%;margin-bottom: 0;padding: 0.3em;box-sizing: border-box;text-align: center;}#sk-container-id-5 label.sk-toggleable__label-arrow:before {content: \"▸\";float: left;margin-right: 0.25em;color: #696969;}#sk-container-id-5 label.sk-toggleable__label-arrow:hover:before {color: black;}#sk-container-id-5 div.sk-estimator:hover label.sk-toggleable__label-arrow:before {color: black;}#sk-container-id-5 div.sk-toggleable__content {max-height: 0;max-width: 0;overflow: hidden;text-align: left;background-color: #f0f8ff;}#sk-container-id-5 div.sk-toggleable__content pre {margin: 0.2em;color: black;border-radius: 0.25em;background-color: #f0f8ff;}#sk-container-id-5 input.sk-toggleable__control:checked~div.sk-toggleable__content {max-height: 200px;max-width: 100%;overflow: auto;}#sk-container-id-5 input.sk-toggleable__control:checked~label.sk-toggleable__label-arrow:before {content: \"▾\";}#sk-container-id-5 div.sk-estimator input.sk-toggleable__control:checked~label.sk-toggleable__label {background-color: #d4ebff;}#sk-container-id-5 div.sk-label input.sk-toggleable__control:checked~label.sk-toggleable__label {background-color: #d4ebff;}#sk-container-id-5 input.sk-hidden--visually {border: 0;clip: rect(1px 1px 1px 1px);clip: rect(1px, 1px, 1px, 1px);height: 1px;margin: -1px;overflow: hidden;padding: 0;position: absolute;width: 1px;}#sk-container-id-5 div.sk-estimator {font-family: monospace;background-color: #f0f8ff;border: 1px dotted black;border-radius: 0.25em;box-sizing: border-box;margin-bottom: 0.5em;}#sk-container-id-5 div.sk-estimator:hover {background-color: #d4ebff;}#sk-container-id-5 div.sk-parallel-item::after {content: \"\";width: 100%;border-bottom: 1px solid gray;flex-grow: 1;}#sk-container-id-5 div.sk-label:hover label.sk-toggleable__label {background-color: #d4ebff;}#sk-container-id-5 div.sk-serial::before {content: \"\";position: absolute;border-left: 1px solid gray;box-sizing: border-box;top: 0;bottom: 0;left: 50%;z-index: 0;}#sk-container-id-5 div.sk-serial {display: flex;flex-direction: column;align-items: center;background-color: white;padding-right: 0.2em;padding-left: 0.2em;position: relative;}#sk-container-id-5 div.sk-item {position: relative;z-index: 1;}#sk-container-id-5 div.sk-parallel {display: flex;align-items: stretch;justify-content: center;background-color: white;position: relative;}#sk-container-id-5 div.sk-item::before, #sk-container-id-5 div.sk-parallel-item::before {content: \"\";position: absolute;border-left: 1px solid gray;box-sizing: border-box;top: 0;bottom: 0;left: 50%;z-index: -1;}#sk-container-id-5 div.sk-parallel-item {display: flex;flex-direction: column;z-index: 1;position: relative;background-color: white;}#sk-container-id-5 div.sk-parallel-item:first-child::after {align-self: flex-end;width: 50%;}#sk-container-id-5 div.sk-parallel-item:last-child::after {align-self: flex-start;width: 50%;}#sk-container-id-5 div.sk-parallel-item:only-child::after {width: 0;}#sk-container-id-5 div.sk-dashed-wrapped {border: 1px dashed gray;margin: 0 0.4em 0.5em 0.4em;box-sizing: border-box;padding-bottom: 0.4em;background-color: white;}#sk-container-id-5 div.sk-label label {font-family: monospace;font-weight: bold;display: inline-block;line-height: 1.2em;}#sk-container-id-5 div.sk-label-container {text-align: center;}#sk-container-id-5 div.sk-container {/* jupyter's `normalize.less` sets `[hidden] { display: none; }` but bootstrap.min.css set `[hidden] { display: none !important; }` so we also need the `!important` here to be able to override the default hidden behavior on the sphinx rendered scikit-learn.org. See: https://github.com/scikit-learn/scikit-learn/issues/21755 */display: inline-block !important;position: relative;}#sk-container-id-5 div.sk-text-repr-fallback {display: none;}</style><div id=\"sk-container-id-5\" class=\"sk-top-container\"><div class=\"sk-text-repr-fallback\"><pre>StandardScaler()</pre><b>In a Jupyter environment, please rerun this cell to show the HTML representation or trust the notebook. <br />On GitHub, the HTML representation is unable to render, please try loading this page with nbviewer.org.</b></div><div class=\"sk-container\" hidden><div class=\"sk-item\"><div class=\"sk-estimator sk-toggleable\"><input class=\"sk-toggleable__control sk-hidden--visually\" id=\"sk-estimator-id-5\" type=\"checkbox\" checked><label for=\"sk-estimator-id-5\" class=\"sk-toggleable__label sk-toggleable__label-arrow\">StandardScaler</label><div class=\"sk-toggleable__content\"><pre>StandardScaler()</pre></div></div></div></div></div>"
      ],
      "text/plain": [
       "StandardScaler()"
      ]
     },
     "execution_count": 85,
     "metadata": {},
     "output_type": "execute_result"
    }
   ],
   "source": [
    "scaler = StandardScaler()\n",
    "scaler.fit(df)"
   ]
  },
  {
   "cell_type": "code",
   "execution_count": 86,
   "id": "8258aef5",
   "metadata": {},
   "outputs": [],
   "source": [
    "scaled_data = scaler.transform(df)"
   ]
  },
  {
   "cell_type": "code",
   "execution_count": 87,
   "id": "610d0320",
   "metadata": {},
   "outputs": [],
   "source": [
    "# scaler.fit_transform(df)"
   ]
  },
  {
   "cell_type": "code",
   "execution_count": 88,
   "id": "08f9fe1b",
   "metadata": {},
   "outputs": [
    {
     "data": {
      "text/plain": [
       "array([[ 1.09706398, -2.07333501,  1.26993369, ...,  2.29607613,\n",
       "         2.75062224,  1.93701461],\n",
       "       [ 1.82982061, -0.35363241,  1.68595471, ...,  1.0870843 ,\n",
       "        -0.24388967,  0.28118999],\n",
       "       [ 1.57988811,  0.45618695,  1.56650313, ...,  1.95500035,\n",
       "         1.152255  ,  0.20139121],\n",
       "       ...,\n",
       "       [ 0.70228425,  2.0455738 ,  0.67267578, ...,  0.41406869,\n",
       "        -1.10454895, -0.31840916],\n",
       "       [ 1.83834103,  2.33645719,  1.98252415, ...,  2.28998549,\n",
       "         1.91908301,  2.21963528],\n",
       "       [-1.80840125,  1.22179204, -1.81438851, ..., -1.74506282,\n",
       "        -0.04813821, -0.75120669]])"
      ]
     },
     "execution_count": 88,
     "metadata": {},
     "output_type": "execute_result"
    }
   ],
   "source": [
    "scaled_data"
   ]
  },
  {
   "cell_type": "code",
   "execution_count": 89,
   "id": "59740369",
   "metadata": {},
   "outputs": [
    {
     "data": {
      "text/html": [
       "<div>\n",
       "<style scoped>\n",
       "    .dataframe tbody tr th:only-of-type {\n",
       "        vertical-align: middle;\n",
       "    }\n",
       "\n",
       "    .dataframe tbody tr th {\n",
       "        vertical-align: top;\n",
       "    }\n",
       "\n",
       "    .dataframe thead th {\n",
       "        text-align: right;\n",
       "    }\n",
       "</style>\n",
       "<table border=\"1\" class=\"dataframe\">\n",
       "  <thead>\n",
       "    <tr style=\"text-align: right;\">\n",
       "      <th></th>\n",
       "      <th>mean radius</th>\n",
       "      <th>mean texture</th>\n",
       "      <th>mean perimeter</th>\n",
       "      <th>mean area</th>\n",
       "      <th>mean smoothness</th>\n",
       "      <th>mean compactness</th>\n",
       "      <th>mean concavity</th>\n",
       "      <th>mean concave points</th>\n",
       "      <th>mean symmetry</th>\n",
       "      <th>mean fractal dimension</th>\n",
       "      <th>...</th>\n",
       "      <th>worst radius</th>\n",
       "      <th>worst texture</th>\n",
       "      <th>worst perimeter</th>\n",
       "      <th>worst area</th>\n",
       "      <th>worst smoothness</th>\n",
       "      <th>worst compactness</th>\n",
       "      <th>worst concavity</th>\n",
       "      <th>worst concave points</th>\n",
       "      <th>worst symmetry</th>\n",
       "      <th>worst fractal dimension</th>\n",
       "    </tr>\n",
       "  </thead>\n",
       "  <tbody>\n",
       "    <tr>\n",
       "      <th>0</th>\n",
       "      <td>1.097064</td>\n",
       "      <td>-2.073335</td>\n",
       "      <td>1.269934</td>\n",
       "      <td>0.984375</td>\n",
       "      <td>1.568466</td>\n",
       "      <td>3.283515</td>\n",
       "      <td>2.652874</td>\n",
       "      <td>2.532475</td>\n",
       "      <td>2.217515</td>\n",
       "      <td>2.255747</td>\n",
       "      <td>...</td>\n",
       "      <td>1.886690</td>\n",
       "      <td>-1.359293</td>\n",
       "      <td>2.303601</td>\n",
       "      <td>2.001237</td>\n",
       "      <td>1.307686</td>\n",
       "      <td>2.616665</td>\n",
       "      <td>2.109526</td>\n",
       "      <td>2.296076</td>\n",
       "      <td>2.750622</td>\n",
       "      <td>1.937015</td>\n",
       "    </tr>\n",
       "    <tr>\n",
       "      <th>1</th>\n",
       "      <td>1.829821</td>\n",
       "      <td>-0.353632</td>\n",
       "      <td>1.685955</td>\n",
       "      <td>1.908708</td>\n",
       "      <td>-0.826962</td>\n",
       "      <td>-0.487072</td>\n",
       "      <td>-0.023846</td>\n",
       "      <td>0.548144</td>\n",
       "      <td>0.001392</td>\n",
       "      <td>-0.868652</td>\n",
       "      <td>...</td>\n",
       "      <td>1.805927</td>\n",
       "      <td>-0.369203</td>\n",
       "      <td>1.535126</td>\n",
       "      <td>1.890489</td>\n",
       "      <td>-0.375612</td>\n",
       "      <td>-0.430444</td>\n",
       "      <td>-0.146749</td>\n",
       "      <td>1.087084</td>\n",
       "      <td>-0.243890</td>\n",
       "      <td>0.281190</td>\n",
       "    </tr>\n",
       "    <tr>\n",
       "      <th>2</th>\n",
       "      <td>1.579888</td>\n",
       "      <td>0.456187</td>\n",
       "      <td>1.566503</td>\n",
       "      <td>1.558884</td>\n",
       "      <td>0.942210</td>\n",
       "      <td>1.052926</td>\n",
       "      <td>1.363478</td>\n",
       "      <td>2.037231</td>\n",
       "      <td>0.939685</td>\n",
       "      <td>-0.398008</td>\n",
       "      <td>...</td>\n",
       "      <td>1.511870</td>\n",
       "      <td>-0.023974</td>\n",
       "      <td>1.347475</td>\n",
       "      <td>1.456285</td>\n",
       "      <td>0.527407</td>\n",
       "      <td>1.082932</td>\n",
       "      <td>0.854974</td>\n",
       "      <td>1.955000</td>\n",
       "      <td>1.152255</td>\n",
       "      <td>0.201391</td>\n",
       "    </tr>\n",
       "    <tr>\n",
       "      <th>3</th>\n",
       "      <td>-0.768909</td>\n",
       "      <td>0.253732</td>\n",
       "      <td>-0.592687</td>\n",
       "      <td>-0.764464</td>\n",
       "      <td>3.283553</td>\n",
       "      <td>3.402909</td>\n",
       "      <td>1.915897</td>\n",
       "      <td>1.451707</td>\n",
       "      <td>2.867383</td>\n",
       "      <td>4.910919</td>\n",
       "      <td>...</td>\n",
       "      <td>-0.281464</td>\n",
       "      <td>0.133984</td>\n",
       "      <td>-0.249939</td>\n",
       "      <td>-0.550021</td>\n",
       "      <td>3.394275</td>\n",
       "      <td>3.893397</td>\n",
       "      <td>1.989588</td>\n",
       "      <td>2.175786</td>\n",
       "      <td>6.046041</td>\n",
       "      <td>4.935010</td>\n",
       "    </tr>\n",
       "    <tr>\n",
       "      <th>4</th>\n",
       "      <td>1.750297</td>\n",
       "      <td>-1.151816</td>\n",
       "      <td>1.776573</td>\n",
       "      <td>1.826229</td>\n",
       "      <td>0.280372</td>\n",
       "      <td>0.539340</td>\n",
       "      <td>1.371011</td>\n",
       "      <td>1.428493</td>\n",
       "      <td>-0.009560</td>\n",
       "      <td>-0.562450</td>\n",
       "      <td>...</td>\n",
       "      <td>1.298575</td>\n",
       "      <td>-1.466770</td>\n",
       "      <td>1.338539</td>\n",
       "      <td>1.220724</td>\n",
       "      <td>0.220556</td>\n",
       "      <td>-0.313395</td>\n",
       "      <td>0.613179</td>\n",
       "      <td>0.729259</td>\n",
       "      <td>-0.868353</td>\n",
       "      <td>-0.397100</td>\n",
       "    </tr>\n",
       "  </tbody>\n",
       "</table>\n",
       "<p>5 rows × 30 columns</p>\n",
       "</div>"
      ],
      "text/plain": [
       "   mean radius  mean texture  mean perimeter  mean area  mean smoothness  \\\n",
       "0     1.097064     -2.073335        1.269934   0.984375         1.568466   \n",
       "1     1.829821     -0.353632        1.685955   1.908708        -0.826962   \n",
       "2     1.579888      0.456187        1.566503   1.558884         0.942210   \n",
       "3    -0.768909      0.253732       -0.592687  -0.764464         3.283553   \n",
       "4     1.750297     -1.151816        1.776573   1.826229         0.280372   \n",
       "\n",
       "   mean compactness  mean concavity  mean concave points  mean symmetry  \\\n",
       "0          3.283515        2.652874             2.532475       2.217515   \n",
       "1         -0.487072       -0.023846             0.548144       0.001392   \n",
       "2          1.052926        1.363478             2.037231       0.939685   \n",
       "3          3.402909        1.915897             1.451707       2.867383   \n",
       "4          0.539340        1.371011             1.428493      -0.009560   \n",
       "\n",
       "   mean fractal dimension  ...  worst radius  worst texture  worst perimeter  \\\n",
       "0                2.255747  ...      1.886690      -1.359293         2.303601   \n",
       "1               -0.868652  ...      1.805927      -0.369203         1.535126   \n",
       "2               -0.398008  ...      1.511870      -0.023974         1.347475   \n",
       "3                4.910919  ...     -0.281464       0.133984        -0.249939   \n",
       "4               -0.562450  ...      1.298575      -1.466770         1.338539   \n",
       "\n",
       "   worst area  worst smoothness  worst compactness  worst concavity  \\\n",
       "0    2.001237          1.307686           2.616665         2.109526   \n",
       "1    1.890489         -0.375612          -0.430444        -0.146749   \n",
       "2    1.456285          0.527407           1.082932         0.854974   \n",
       "3   -0.550021          3.394275           3.893397         1.989588   \n",
       "4    1.220724          0.220556          -0.313395         0.613179   \n",
       "\n",
       "   worst concave points  worst symmetry  worst fractal dimension  \n",
       "0              2.296076        2.750622                 1.937015  \n",
       "1              1.087084       -0.243890                 0.281190  \n",
       "2              1.955000        1.152255                 0.201391  \n",
       "3              2.175786        6.046041                 4.935010  \n",
       "4              0.729259       -0.868353                -0.397100  \n",
       "\n",
       "[5 rows x 30 columns]"
      ]
     },
     "execution_count": 89,
     "metadata": {},
     "output_type": "execute_result"
    }
   ],
   "source": [
    "scaled_df = pd.DataFrame(scaled_data, columns=cancer['feature_names'])\n",
    "scaled_df.head()"
   ]
  },
  {
   "cell_type": "code",
   "execution_count": 90,
   "id": "38bbb576",
   "metadata": {},
   "outputs": [],
   "source": [
    "X = scaled_df\n",
    "y = np.array(target)"
   ]
  },
  {
   "cell_type": "code",
   "execution_count": 91,
   "id": "fd20d7d6",
   "metadata": {},
   "outputs": [
    {
     "data": {
      "text/html": [
       "<style>#sk-container-id-6 {color: black;}#sk-container-id-6 pre{padding: 0;}#sk-container-id-6 div.sk-toggleable {background-color: white;}#sk-container-id-6 label.sk-toggleable__label {cursor: pointer;display: block;width: 100%;margin-bottom: 0;padding: 0.3em;box-sizing: border-box;text-align: center;}#sk-container-id-6 label.sk-toggleable__label-arrow:before {content: \"▸\";float: left;margin-right: 0.25em;color: #696969;}#sk-container-id-6 label.sk-toggleable__label-arrow:hover:before {color: black;}#sk-container-id-6 div.sk-estimator:hover label.sk-toggleable__label-arrow:before {color: black;}#sk-container-id-6 div.sk-toggleable__content {max-height: 0;max-width: 0;overflow: hidden;text-align: left;background-color: #f0f8ff;}#sk-container-id-6 div.sk-toggleable__content pre {margin: 0.2em;color: black;border-radius: 0.25em;background-color: #f0f8ff;}#sk-container-id-6 input.sk-toggleable__control:checked~div.sk-toggleable__content {max-height: 200px;max-width: 100%;overflow: auto;}#sk-container-id-6 input.sk-toggleable__control:checked~label.sk-toggleable__label-arrow:before {content: \"▾\";}#sk-container-id-6 div.sk-estimator input.sk-toggleable__control:checked~label.sk-toggleable__label {background-color: #d4ebff;}#sk-container-id-6 div.sk-label input.sk-toggleable__control:checked~label.sk-toggleable__label {background-color: #d4ebff;}#sk-container-id-6 input.sk-hidden--visually {border: 0;clip: rect(1px 1px 1px 1px);clip: rect(1px, 1px, 1px, 1px);height: 1px;margin: -1px;overflow: hidden;padding: 0;position: absolute;width: 1px;}#sk-container-id-6 div.sk-estimator {font-family: monospace;background-color: #f0f8ff;border: 1px dotted black;border-radius: 0.25em;box-sizing: border-box;margin-bottom: 0.5em;}#sk-container-id-6 div.sk-estimator:hover {background-color: #d4ebff;}#sk-container-id-6 div.sk-parallel-item::after {content: \"\";width: 100%;border-bottom: 1px solid gray;flex-grow: 1;}#sk-container-id-6 div.sk-label:hover label.sk-toggleable__label {background-color: #d4ebff;}#sk-container-id-6 div.sk-serial::before {content: \"\";position: absolute;border-left: 1px solid gray;box-sizing: border-box;top: 0;bottom: 0;left: 50%;z-index: 0;}#sk-container-id-6 div.sk-serial {display: flex;flex-direction: column;align-items: center;background-color: white;padding-right: 0.2em;padding-left: 0.2em;position: relative;}#sk-container-id-6 div.sk-item {position: relative;z-index: 1;}#sk-container-id-6 div.sk-parallel {display: flex;align-items: stretch;justify-content: center;background-color: white;position: relative;}#sk-container-id-6 div.sk-item::before, #sk-container-id-6 div.sk-parallel-item::before {content: \"\";position: absolute;border-left: 1px solid gray;box-sizing: border-box;top: 0;bottom: 0;left: 50%;z-index: -1;}#sk-container-id-6 div.sk-parallel-item {display: flex;flex-direction: column;z-index: 1;position: relative;background-color: white;}#sk-container-id-6 div.sk-parallel-item:first-child::after {align-self: flex-end;width: 50%;}#sk-container-id-6 div.sk-parallel-item:last-child::after {align-self: flex-start;width: 50%;}#sk-container-id-6 div.sk-parallel-item:only-child::after {width: 0;}#sk-container-id-6 div.sk-dashed-wrapped {border: 1px dashed gray;margin: 0 0.4em 0.5em 0.4em;box-sizing: border-box;padding-bottom: 0.4em;background-color: white;}#sk-container-id-6 div.sk-label label {font-family: monospace;font-weight: bold;display: inline-block;line-height: 1.2em;}#sk-container-id-6 div.sk-label-container {text-align: center;}#sk-container-id-6 div.sk-container {/* jupyter's `normalize.less` sets `[hidden] { display: none; }` but bootstrap.min.css set `[hidden] { display: none !important; }` so we also need the `!important` here to be able to override the default hidden behavior on the sphinx rendered scikit-learn.org. See: https://github.com/scikit-learn/scikit-learn/issues/21755 */display: inline-block !important;position: relative;}#sk-container-id-6 div.sk-text-repr-fallback {display: none;}</style><div id=\"sk-container-id-6\" class=\"sk-top-container\"><div class=\"sk-text-repr-fallback\"><pre>LogisticRegression()</pre><b>In a Jupyter environment, please rerun this cell to show the HTML representation or trust the notebook. <br />On GitHub, the HTML representation is unable to render, please try loading this page with nbviewer.org.</b></div><div class=\"sk-container\" hidden><div class=\"sk-item\"><div class=\"sk-estimator sk-toggleable\"><input class=\"sk-toggleable__control sk-hidden--visually\" id=\"sk-estimator-id-6\" type=\"checkbox\" checked><label for=\"sk-estimator-id-6\" class=\"sk-toggleable__label sk-toggleable__label-arrow\">LogisticRegression</label><div class=\"sk-toggleable__content\"><pre>LogisticRegression()</pre></div></div></div></div></div>"
      ],
      "text/plain": [
       "LogisticRegression()"
      ]
     },
     "execution_count": 91,
     "metadata": {},
     "output_type": "execute_result"
    }
   ],
   "source": [
    "from sklearn.linear_model import LogisticRegression\n",
    "model = LogisticRegression()\n",
    "model.fit(X,y)"
   ]
  },
  {
   "cell_type": "code",
   "execution_count": 92,
   "id": "b73367f4",
   "metadata": {},
   "outputs": [
    {
     "data": {
      "text/plain": [
       "array([1.20816634e-09, 3.20043729e-05, 1.63263949e-07, 4.92804792e-04,\n",
       "       2.98863126e-05, 4.69417500e-02, 3.60045679e-05, 2.09346230e-02,\n",
       "       2.50142250e-03, 9.30212304e-05, 5.25949757e-02, 9.23274422e-04,\n",
       "       1.62617707e-04, 3.27610918e-01, 2.42405485e-02, 6.65238889e-05,\n",
       "       2.40633077e-03, 5.39254616e-06, 9.79171687e-10, 9.26131804e-01,\n",
       "       9.98691845e-01, 9.99988327e-01, 3.38520147e-03, 3.75815072e-09,\n",
       "       3.42357869e-09, 2.05790576e-07, 2.43048663e-04, 4.09581498e-05,\n",
       "       3.00051472e-06, 2.10588771e-02, 1.82717723e-08, 2.30905399e-03,\n",
       "       1.26029404e-06, 4.58321462e-07, 3.81873420e-04, 3.12923473e-05,\n",
       "       2.65505629e-02, 9.99946303e-01, 1.44879228e-01, 1.01996957e-01,\n",
       "       8.85797129e-01, 1.82629084e-01, 4.48051997e-08, 3.55211157e-02,\n",
       "       8.21120548e-02, 9.24679215e-07, 9.99996279e-01, 5.60305640e-03,\n",
       "       9.94330054e-01, 8.43041066e-01, 9.99137368e-01, 9.99144480e-01,\n",
       "       9.99643918e-01, 3.77269338e-04, 4.39951669e-02, 9.97663511e-01,\n",
       "       4.39125719e-08, 3.47476976e-03, 9.99705095e-01, 9.99984057e-01,\n",
       "       9.99966507e-01, 9.99869297e-01, 5.89971898e-04, 9.99997076e-01,\n",
       "       1.34713234e-03, 3.17849333e-03, 9.99270650e-01, 9.98907121e-01,\n",
       "       8.88301088e-01, 9.99254772e-01, 2.98441011e-06, 9.99999988e-01,\n",
       "       2.36075872e-06, 8.82901294e-01, 9.98373903e-01, 3.08414299e-04,\n",
       "       9.99277557e-01, 4.19962946e-06, 4.94256006e-10, 9.95535956e-01,\n",
       "       9.83003219e-01, 6.59612494e-01, 1.50552076e-12, 6.80901788e-04,\n",
       "       9.95261709e-01, 4.75794750e-06, 2.03257899e-01, 9.54123317e-07,\n",
       "       9.40222060e-01, 7.71149942e-01, 9.54060064e-01, 2.88128783e-01,\n",
       "       9.87231877e-01, 9.80321238e-01, 1.82838023e-03, 1.57930540e-06,\n",
       "       9.99800039e-01, 9.99973878e-01, 9.99402562e-01, 2.74399497e-01,\n",
       "       3.76076625e-02, 9.99999513e-01, 9.94567733e-01, 9.98404601e-01,\n",
       "       9.99936831e-01, 7.19399433e-03, 8.93721232e-01, 9.97964714e-01,\n",
       "       8.46974683e-14, 9.46937073e-01, 9.99889356e-01, 9.92213377e-01,\n",
       "       9.86504155e-01, 9.99967214e-01, 9.99812134e-01, 9.93866938e-01,\n",
       "       9.99999269e-01, 2.38233082e-04, 5.70397787e-06, 1.32769878e-03,\n",
       "       9.99513845e-01, 2.33027467e-05, 7.72875365e-12, 9.77513697e-01,\n",
       "       9.99588125e-01, 9.98725003e-01, 4.26328997e-02, 5.78570060e-04,\n",
       "       8.99378238e-01, 1.47254049e-06, 9.99490483e-01, 1.49179323e-03,\n",
       "       3.36402186e-03, 8.38071362e-01, 1.25981331e-05, 8.28808093e-01,\n",
       "       9.98284203e-01, 9.99749352e-01, 4.03942432e-05, 9.99915876e-01,\n",
       "       9.99998893e-01, 5.18840156e-03, 9.99460207e-01, 9.87061064e-01,\n",
       "       9.99984438e-01, 9.99970751e-01, 1.95635919e-01, 9.94844519e-01,\n",
       "       8.80251631e-01, 9.99179509e-01, 9.78579013e-01, 9.99720413e-01,\n",
       "       9.98844680e-01, 9.99930679e-01, 9.12854301e-01, 9.96501302e-01,\n",
       "       1.81458719e-04, 7.05828975e-01, 9.99869274e-01, 9.99960544e-01,\n",
       "       9.71699298e-01, 4.10267406e-05, 2.82035538e-09, 9.95476754e-01,\n",
       "       6.05348673e-09, 9.95423039e-01, 9.99993789e-01, 6.92453453e-03,\n",
       "       1.01797522e-07, 9.88911499e-01, 9.99097268e-01, 5.65586441e-02,\n",
       "       5.02518662e-03, 9.99996870e-01, 9.99995514e-01, 9.99999672e-01,\n",
       "       9.99991021e-01, 4.23527420e-03, 9.99844198e-01, 9.99962839e-01,\n",
       "       6.85626170e-14, 6.90605299e-10, 2.32122152e-03, 9.99984465e-01,\n",
       "       3.14576203e-01, 9.99758404e-01, 3.79348301e-03, 9.96770893e-01,\n",
       "       9.99436161e-01, 9.99912159e-01, 2.13831817e-01, 9.97339604e-01,\n",
       "       9.99999966e-01, 1.01936784e-02, 1.34236026e-01, 9.98642548e-01,\n",
       "       8.35673559e-04, 1.74523568e-01, 3.00387149e-05, 1.06878797e-03,\n",
       "       9.30338131e-01, 1.70738534e-03, 2.43885221e-10, 6.51774532e-07,\n",
       "       8.76786100e-01, 3.02983110e-01, 9.99889599e-01, 9.60899578e-03,\n",
       "       8.10563827e-01, 9.79108202e-01, 4.31469319e-07, 9.99253266e-01,\n",
       "       8.99910546e-19, 1.89304970e-01, 1.88418700e-03, 4.08663141e-01,\n",
       "       9.89791264e-01, 9.99963717e-01, 6.59526275e-08, 1.81572539e-09,\n",
       "       9.99270427e-01, 9.92157278e-01, 9.99890949e-01, 1.33768965e-03,\n",
       "       9.79997369e-01, 7.09810687e-01, 9.99976760e-01, 9.68228265e-01,\n",
       "       9.02611188e-01, 1.49446229e-02, 1.00218257e-04, 9.99667204e-01,\n",
       "       9.91945562e-01, 7.53984449e-07, 9.99929995e-01, 9.82866980e-01,\n",
       "       3.71249582e-13, 4.05562041e-05, 6.16856918e-01, 6.98350577e-07,\n",
       "       9.91568047e-01, 9.99942722e-01, 9.83414187e-01, 9.90564155e-01,\n",
       "       4.04489989e-05, 9.92345741e-01, 9.98868812e-01, 9.86882061e-01,\n",
       "       9.74137200e-01, 9.98735488e-01, 2.31832092e-09, 9.98334467e-01,\n",
       "       3.44469957e-08, 2.30962569e-03, 6.23271751e-07, 4.20721170e-01,\n",
       "       2.98937678e-08, 4.99633625e-04, 1.67517038e-08, 1.39405357e-06,\n",
       "       2.13277013e-07, 7.67733419e-02, 1.50224153e-03, 6.41319467e-01,\n",
       "       6.05046039e-05, 6.64045074e-14, 9.99331371e-01, 9.95368093e-01,\n",
       "       9.97376522e-01, 9.99801210e-01, 9.99923214e-01, 9.99878240e-01,\n",
       "       5.31114246e-10, 9.99901016e-01, 2.49333265e-03, 9.75031081e-01,\n",
       "       9.99981074e-01, 2.27073015e-02, 9.97091959e-01, 9.91463348e-01,\n",
       "       1.99063909e-08, 9.97234079e-01, 2.58512867e-06, 2.27547768e-02,\n",
       "       9.99539665e-01, 9.99942942e-01, 9.98753618e-01, 9.99981500e-01,\n",
       "       9.99720904e-01, 9.99582255e-01, 9.99831615e-01, 6.17811387e-01,\n",
       "       9.91266671e-01, 9.96392978e-01, 9.99908186e-01, 9.99759129e-01,\n",
       "       9.99999692e-01, 9.93417357e-01, 9.93351440e-01, 9.99940302e-01,\n",
       "       2.85095189e-09, 9.99163618e-01, 2.86585637e-08, 9.99929072e-01,\n",
       "       9.99905698e-01, 9.99402283e-01, 9.99885716e-01, 9.99999074e-01,\n",
       "       9.99969036e-01, 9.99816032e-01, 9.99240700e-01, 9.94784894e-01,\n",
       "       9.99610973e-01, 9.99992484e-01, 9.99999056e-01, 9.99976724e-01,\n",
       "       9.99990381e-01, 3.76590741e-04, 9.99608120e-01, 9.99984572e-01,\n",
       "       9.99916724e-01, 1.51409852e-04, 9.96512423e-01, 2.72934449e-10,\n",
       "       9.99365376e-01, 9.99084565e-01, 9.99315297e-01, 9.99964917e-01,\n",
       "       4.62834884e-04, 8.49757786e-02, 2.44172938e-02, 9.82961718e-01,\n",
       "       9.99638993e-01, 9.99958821e-01, 9.99489456e-01, 2.77995154e-06,\n",
       "       9.99979874e-01, 5.75833977e-07, 9.99656385e-01, 1.52232595e-12,\n",
       "       7.54270029e-01, 9.99842702e-01, 9.99069920e-01, 4.34398622e-07,\n",
       "       9.97501029e-01, 9.99996735e-01, 9.98695224e-01, 8.90410555e-01,\n",
       "       9.99339532e-01, 9.99924363e-01, 9.99828327e-01, 1.29954246e-03,\n",
       "       3.99149858e-14, 2.00429988e-04, 9.99991469e-01, 9.98550553e-01,\n",
       "       9.78258893e-01, 9.97915158e-01, 9.99982416e-01, 9.98688435e-01,\n",
       "       9.99885494e-01, 9.95545394e-01, 9.97825592e-01, 5.78614768e-01,\n",
       "       9.98926294e-01, 1.54224859e-05, 4.04792202e-08, 9.82031092e-01,\n",
       "       2.19411903e-11, 3.01565713e-10, 1.48640904e-05, 9.98963517e-01,\n",
       "       5.42300969e-04, 7.78262850e-07, 9.98435388e-01, 9.60855166e-01,\n",
       "       9.99830580e-01, 9.74718700e-01, 9.97494712e-01, 4.26009602e-03,\n",
       "       9.85934501e-01, 9.99926385e-01, 9.99902369e-01, 9.96233269e-01,\n",
       "       9.99166821e-01, 1.39423141e-01, 9.99715615e-01, 9.99690771e-01,\n",
       "       9.99990911e-01, 5.29460866e-05, 9.99981180e-01, 9.99987028e-01,\n",
       "       5.75876885e-06, 1.66792588e-09, 9.92906225e-01, 9.98441829e-01,\n",
       "       8.11083808e-01, 9.99606347e-01, 9.99935505e-01, 9.98525469e-01,\n",
       "       2.00079301e-06, 9.99343802e-01, 9.99608965e-01, 9.98621567e-01,\n",
       "       9.99864494e-01, 9.97562994e-01, 9.02007573e-01, 9.99319803e-01,\n",
       "       3.25212780e-04, 9.80539770e-01, 9.58526229e-01, 9.98710490e-01,\n",
       "       9.99993182e-01, 4.47362569e-01, 6.63893969e-02, 9.95301301e-01,\n",
       "       9.98642630e-01, 1.07025178e-08, 9.99660171e-01, 9.98988771e-01,\n",
       "       9.96410556e-01, 9.02484661e-01, 9.97776712e-01, 9.44527169e-01,\n",
       "       9.97639813e-01, 9.99959581e-01, 9.99459897e-01, 9.89430174e-01,\n",
       "       9.99991040e-01, 9.99785545e-01, 2.40617617e-03, 9.99576454e-01,\n",
       "       4.20702192e-06, 4.92431368e-06, 9.91783374e-01, 1.80454619e-02,\n",
       "       9.90365559e-01, 9.83593347e-01, 9.90004323e-01, 9.99404877e-01,\n",
       "       9.83992992e-01, 2.21815916e-04, 9.99812411e-01, 9.99993959e-01,\n",
       "       2.44977633e-02, 9.72829715e-01, 2.30101480e-06, 9.54518092e-01,\n",
       "       8.87178672e-01, 6.76168300e-08, 9.99916095e-01, 2.37928599e-05,\n",
       "       9.90088646e-01, 9.78260330e-01, 9.94768920e-01, 6.76285908e-01,\n",
       "       8.39966721e-01, 9.64179478e-01, 9.88099715e-01, 9.99550892e-01,\n",
       "       3.60564735e-07, 1.96040015e-24, 9.77852587e-01, 9.98067311e-01,\n",
       "       9.92189870e-01, 9.21984386e-01, 8.42642752e-01, 9.99802981e-01,\n",
       "       6.88388018e-05, 8.18728171e-01, 9.99387995e-01, 9.62222591e-01,\n",
       "       9.73384505e-01, 9.98465296e-01, 9.99926252e-01, 9.96025128e-01,\n",
       "       8.82066024e-01, 9.99386444e-01, 9.99533035e-01, 3.74884826e-02,\n",
       "       9.99106370e-01, 9.69604497e-01, 9.90281475e-01, 9.91674738e-01,\n",
       "       9.01511984e-01, 9.92877384e-01, 9.74667725e-01, 2.83918755e-07,\n",
       "       9.89828932e-01, 1.55195707e-01, 9.81254496e-01, 8.17729942e-01,\n",
       "       1.16301845e-04, 9.99993035e-01, 9.97029749e-01, 9.15322760e-01,\n",
       "       9.04322681e-01, 9.94804078e-01, 5.18713640e-05, 3.12920514e-07,\n",
       "       9.69199994e-01, 9.07422507e-03, 9.93273407e-01, 1.30044448e-11,\n",
       "       9.99892576e-01, 9.99789832e-01, 9.97412322e-01, 9.99683967e-01,\n",
       "       9.11510854e-01, 6.52619812e-04, 9.99966398e-01, 9.98070808e-01,\n",
       "       2.61545020e-03, 9.42882357e-01, 3.88268335e-01, 9.97074182e-01,\n",
       "       4.35407358e-05, 3.23176713e-05, 9.60709280e-01, 9.86031517e-01,\n",
       "       9.99528779e-01, 2.54962872e-11, 9.99956857e-01, 9.21639205e-01,\n",
       "       9.99905288e-01, 9.99965541e-01, 6.95937753e-01, 9.98900200e-01,\n",
       "       9.84423088e-01, 9.99198729e-01, 9.73272886e-01, 9.76301021e-01,\n",
       "       9.95280342e-01, 6.74641202e-06, 9.99669024e-01, 4.64779139e-07,\n",
       "       2.24627484e-01, 9.30300937e-01, 9.99957524e-01, 9.99930237e-01,\n",
       "       9.99960128e-01, 4.52628441e-01, 7.03524121e-01, 9.51803001e-01,\n",
       "       9.96899869e-01, 9.72201027e-01, 9.99971667e-01, 9.99958833e-01,\n",
       "       9.99920410e-01, 9.93245403e-01, 9.99982715e-01, 9.99673111e-01,\n",
       "       9.61418330e-01, 9.99988693e-01, 9.53624757e-01, 9.96336185e-01,\n",
       "       9.99992995e-01, 9.99740580e-01, 9.87776933e-01, 9.79575996e-01,\n",
       "       8.62394830e-01, 9.99901597e-01, 2.42230823e-06, 3.65405803e-10,\n",
       "       2.77191002e-10, 3.44875896e-07, 1.17470550e-02, 3.00486460e-11,\n",
       "       9.99980254e-01])"
      ]
     },
     "execution_count": 92,
     "metadata": {},
     "output_type": "execute_result"
    }
   ],
   "source": [
    "model.predict_proba(X)[:,1]"
   ]
  },
  {
   "cell_type": "code",
   "execution_count": 93,
   "id": "9ab1577d",
   "metadata": {},
   "outputs": [
    {
     "data": {
      "text/plain": [
       "array([0, 0, 0, 0, 0, 0, 0, 0, 0, 0, 0, 0, 0, 0, 0, 0, 0, 0, 0, 1, 1, 1,\n",
       "       0, 0, 0, 0, 0, 0, 0, 0, 0, 0, 0, 0, 0, 0, 0, 1, 0, 0, 1, 0, 0, 0,\n",
       "       0, 0, 1, 0, 1, 1, 1, 1, 1, 0, 0, 1, 0, 0, 1, 1, 1, 1, 0, 1, 0, 0,\n",
       "       1, 1, 1, 1, 0, 1, 0, 1, 1, 0, 1, 0, 0, 1, 1, 1, 0, 0, 1, 0, 0, 0,\n",
       "       1, 1, 1, 0, 1, 1, 0, 0, 1, 1, 1, 0, 0, 1, 1, 1, 1, 0, 1, 1, 0, 1,\n",
       "       1, 1, 1, 1, 1, 1, 1, 0, 0, 0, 1, 0, 0, 1, 1, 1, 0, 0, 1, 0, 1, 0,\n",
       "       0, 1, 0, 1, 1, 1, 0, 1, 1, 0, 1, 1, 1, 1, 0, 1, 1, 1, 1, 1, 1, 1,\n",
       "       1, 1, 0, 1, 1, 1, 1, 0, 0, 1, 0, 1, 1, 0, 0, 1, 1, 0, 0, 1, 1, 1,\n",
       "       1, 0, 1, 1, 0, 0, 0, 1, 0, 1, 0, 1, 1, 1, 0, 1, 1, 0, 0, 1, 0, 0,\n",
       "       0, 0, 1, 0, 0, 0, 1, 0, 1, 0, 1, 1, 0, 1, 0, 0, 0, 0, 1, 1, 0, 0,\n",
       "       1, 1, 1, 0, 1, 1, 1, 1, 1, 0, 0, 1, 1, 0, 1, 1, 0, 0, 1, 0, 1, 1,\n",
       "       1, 1, 0, 1, 1, 1, 1, 1, 0, 1, 0, 0, 0, 0, 0, 0, 0, 0, 0, 0, 0, 1,\n",
       "       0, 0, 1, 1, 1, 1, 1, 1, 0, 1, 0, 1, 1, 0, 1, 1, 0, 1, 0, 0, 1, 1,\n",
       "       1, 1, 1, 1, 1, 1, 1, 1, 1, 1, 1, 1, 1, 1, 0, 1, 0, 1, 1, 1, 1, 1,\n",
       "       1, 1, 1, 1, 1, 1, 1, 1, 1, 0, 1, 1, 1, 0, 1, 0, 1, 1, 1, 1, 0, 0,\n",
       "       0, 1, 1, 1, 1, 0, 1, 0, 1, 0, 1, 1, 1, 0, 1, 1, 1, 1, 1, 1, 1, 0,\n",
       "       0, 0, 1, 1, 1, 1, 1, 1, 1, 1, 1, 1, 1, 0, 0, 1, 0, 0, 0, 1, 0, 0,\n",
       "       1, 1, 1, 1, 1, 0, 1, 1, 1, 1, 1, 0, 1, 1, 1, 0, 1, 1, 0, 0, 1, 1,\n",
       "       1, 1, 1, 1, 0, 1, 1, 1, 1, 1, 1, 1, 0, 1, 1, 1, 1, 0, 0, 1, 1, 0,\n",
       "       1, 1, 1, 1, 1, 1, 1, 1, 1, 1, 1, 1, 0, 1, 0, 0, 1, 0, 1, 1, 1, 1,\n",
       "       1, 0, 1, 1, 0, 1, 0, 1, 1, 0, 1, 0, 1, 1, 1, 1, 1, 1, 1, 1, 0, 0,\n",
       "       1, 1, 1, 1, 1, 1, 0, 1, 1, 1, 1, 1, 1, 1, 1, 1, 1, 0, 1, 1, 1, 1,\n",
       "       1, 1, 1, 0, 1, 0, 1, 1, 0, 1, 1, 1, 1, 1, 0, 0, 1, 0, 1, 0, 1, 1,\n",
       "       1, 1, 1, 0, 1, 1, 0, 1, 0, 1, 0, 0, 1, 1, 1, 0, 1, 1, 1, 1, 1, 1,\n",
       "       1, 1, 1, 1, 1, 0, 1, 0, 0, 1, 1, 1, 1, 0, 1, 1, 1, 1, 1, 1, 1, 1,\n",
       "       1, 1, 1, 1, 1, 1, 1, 1, 1, 1, 1, 1, 0, 0, 0, 0, 0, 0, 1])"
      ]
     },
     "execution_count": 93,
     "metadata": {},
     "output_type": "execute_result"
    }
   ],
   "source": [
    "model.predict(X)"
   ]
  },
  {
   "cell_type": "code",
   "execution_count": 94,
   "id": "87855c79",
   "metadata": {},
   "outputs": [
    {
     "data": {
      "text/plain": [
       "0.985406426721632"
      ]
     },
     "execution_count": 94,
     "metadata": {},
     "output_type": "execute_result"
    }
   ],
   "source": [
    "from sklearn.metrics import roc_auc_score\n",
    "roc_auc_score(y,model.predict(X))"
   ]
  },
  {
   "cell_type": "markdown",
   "id": "e6f756d0",
   "metadata": {},
   "source": [
    "PCA with Scikit Learn uses a very similar process to other preprocessing functions that come with SciKit Learn. We instantiate a PCA object, find the principal components using the fit method, then apply the rotation and dimensionality reduction by calling transform().\n",
    "\n",
    "We can also specify how many components we want to keep when creating the PCA object."
   ]
  },
  {
   "cell_type": "code",
   "execution_count": 95,
   "id": "0fb39bf5",
   "metadata": {},
   "outputs": [],
   "source": [
    "from sklearn.decomposition import PCA"
   ]
  },
  {
   "cell_type": "code",
   "execution_count": 96,
   "id": "f0100e9f",
   "metadata": {},
   "outputs": [],
   "source": [
    "pca = PCA(n_components=2)\n"
   ]
  },
  {
   "cell_type": "code",
   "execution_count": 97,
   "id": "98ce53aa",
   "metadata": {},
   "outputs": [
    {
     "data": {
      "text/html": [
       "<style>#sk-container-id-7 {color: black;}#sk-container-id-7 pre{padding: 0;}#sk-container-id-7 div.sk-toggleable {background-color: white;}#sk-container-id-7 label.sk-toggleable__label {cursor: pointer;display: block;width: 100%;margin-bottom: 0;padding: 0.3em;box-sizing: border-box;text-align: center;}#sk-container-id-7 label.sk-toggleable__label-arrow:before {content: \"▸\";float: left;margin-right: 0.25em;color: #696969;}#sk-container-id-7 label.sk-toggleable__label-arrow:hover:before {color: black;}#sk-container-id-7 div.sk-estimator:hover label.sk-toggleable__label-arrow:before {color: black;}#sk-container-id-7 div.sk-toggleable__content {max-height: 0;max-width: 0;overflow: hidden;text-align: left;background-color: #f0f8ff;}#sk-container-id-7 div.sk-toggleable__content pre {margin: 0.2em;color: black;border-radius: 0.25em;background-color: #f0f8ff;}#sk-container-id-7 input.sk-toggleable__control:checked~div.sk-toggleable__content {max-height: 200px;max-width: 100%;overflow: auto;}#sk-container-id-7 input.sk-toggleable__control:checked~label.sk-toggleable__label-arrow:before {content: \"▾\";}#sk-container-id-7 div.sk-estimator input.sk-toggleable__control:checked~label.sk-toggleable__label {background-color: #d4ebff;}#sk-container-id-7 div.sk-label input.sk-toggleable__control:checked~label.sk-toggleable__label {background-color: #d4ebff;}#sk-container-id-7 input.sk-hidden--visually {border: 0;clip: rect(1px 1px 1px 1px);clip: rect(1px, 1px, 1px, 1px);height: 1px;margin: -1px;overflow: hidden;padding: 0;position: absolute;width: 1px;}#sk-container-id-7 div.sk-estimator {font-family: monospace;background-color: #f0f8ff;border: 1px dotted black;border-radius: 0.25em;box-sizing: border-box;margin-bottom: 0.5em;}#sk-container-id-7 div.sk-estimator:hover {background-color: #d4ebff;}#sk-container-id-7 div.sk-parallel-item::after {content: \"\";width: 100%;border-bottom: 1px solid gray;flex-grow: 1;}#sk-container-id-7 div.sk-label:hover label.sk-toggleable__label {background-color: #d4ebff;}#sk-container-id-7 div.sk-serial::before {content: \"\";position: absolute;border-left: 1px solid gray;box-sizing: border-box;top: 0;bottom: 0;left: 50%;z-index: 0;}#sk-container-id-7 div.sk-serial {display: flex;flex-direction: column;align-items: center;background-color: white;padding-right: 0.2em;padding-left: 0.2em;position: relative;}#sk-container-id-7 div.sk-item {position: relative;z-index: 1;}#sk-container-id-7 div.sk-parallel {display: flex;align-items: stretch;justify-content: center;background-color: white;position: relative;}#sk-container-id-7 div.sk-item::before, #sk-container-id-7 div.sk-parallel-item::before {content: \"\";position: absolute;border-left: 1px solid gray;box-sizing: border-box;top: 0;bottom: 0;left: 50%;z-index: -1;}#sk-container-id-7 div.sk-parallel-item {display: flex;flex-direction: column;z-index: 1;position: relative;background-color: white;}#sk-container-id-7 div.sk-parallel-item:first-child::after {align-self: flex-end;width: 50%;}#sk-container-id-7 div.sk-parallel-item:last-child::after {align-self: flex-start;width: 50%;}#sk-container-id-7 div.sk-parallel-item:only-child::after {width: 0;}#sk-container-id-7 div.sk-dashed-wrapped {border: 1px dashed gray;margin: 0 0.4em 0.5em 0.4em;box-sizing: border-box;padding-bottom: 0.4em;background-color: white;}#sk-container-id-7 div.sk-label label {font-family: monospace;font-weight: bold;display: inline-block;line-height: 1.2em;}#sk-container-id-7 div.sk-label-container {text-align: center;}#sk-container-id-7 div.sk-container {/* jupyter's `normalize.less` sets `[hidden] { display: none; }` but bootstrap.min.css set `[hidden] { display: none !important; }` so we also need the `!important` here to be able to override the default hidden behavior on the sphinx rendered scikit-learn.org. See: https://github.com/scikit-learn/scikit-learn/issues/21755 */display: inline-block !important;position: relative;}#sk-container-id-7 div.sk-text-repr-fallback {display: none;}</style><div id=\"sk-container-id-7\" class=\"sk-top-container\"><div class=\"sk-text-repr-fallback\"><pre>PCA(n_components=2)</pre><b>In a Jupyter environment, please rerun this cell to show the HTML representation or trust the notebook. <br />On GitHub, the HTML representation is unable to render, please try loading this page with nbviewer.org.</b></div><div class=\"sk-container\" hidden><div class=\"sk-item\"><div class=\"sk-estimator sk-toggleable\"><input class=\"sk-toggleable__control sk-hidden--visually\" id=\"sk-estimator-id-7\" type=\"checkbox\" checked><label for=\"sk-estimator-id-7\" class=\"sk-toggleable__label sk-toggleable__label-arrow\">PCA</label><div class=\"sk-toggleable__content\"><pre>PCA(n_components=2)</pre></div></div></div></div></div>"
      ],
      "text/plain": [
       "PCA(n_components=2)"
      ]
     },
     "execution_count": 97,
     "metadata": {},
     "output_type": "execute_result"
    }
   ],
   "source": [
    "pca.fit(scaled_data)"
   ]
  },
  {
   "cell_type": "code",
   "execution_count": 98,
   "id": "085958e2",
   "metadata": {},
   "outputs": [
    {
     "data": {
      "text/plain": [
       "['__abstractmethods__',\n",
       " '__annotations__',\n",
       " '__class__',\n",
       " '__delattr__',\n",
       " '__dict__',\n",
       " '__dir__',\n",
       " '__doc__',\n",
       " '__eq__',\n",
       " '__format__',\n",
       " '__ge__',\n",
       " '__getattribute__',\n",
       " '__getstate__',\n",
       " '__gt__',\n",
       " '__hash__',\n",
       " '__init__',\n",
       " '__init_subclass__',\n",
       " '__le__',\n",
       " '__lt__',\n",
       " '__module__',\n",
       " '__ne__',\n",
       " '__new__',\n",
       " '__reduce__',\n",
       " '__reduce_ex__',\n",
       " '__repr__',\n",
       " '__setattr__',\n",
       " '__setstate__',\n",
       " '__sizeof__',\n",
       " '__sklearn_clone__',\n",
       " '__str__',\n",
       " '__subclasshook__',\n",
       " '__weakref__',\n",
       " '_abc_impl',\n",
       " '_build_request_for_signature',\n",
       " '_check_feature_names',\n",
       " '_check_n_features',\n",
       " '_fit',\n",
       " '_fit_full',\n",
       " '_fit_svd_solver',\n",
       " '_fit_truncated',\n",
       " '_get_default_requests',\n",
       " '_get_metadata_request',\n",
       " '_get_param_names',\n",
       " '_get_tags',\n",
       " '_more_tags',\n",
       " '_n_features_out',\n",
       " '_parameter_constraints',\n",
       " '_repr_html_',\n",
       " '_repr_html_inner',\n",
       " '_repr_mimebundle_',\n",
       " '_sklearn_auto_wrap_output_keys',\n",
       " '_validate_data',\n",
       " '_validate_params',\n",
       " 'components_',\n",
       " 'copy',\n",
       " 'explained_variance_',\n",
       " 'explained_variance_ratio_',\n",
       " 'fit',\n",
       " 'fit_transform',\n",
       " 'get_covariance',\n",
       " 'get_feature_names_out',\n",
       " 'get_metadata_routing',\n",
       " 'get_params',\n",
       " 'get_precision',\n",
       " 'inverse_transform',\n",
       " 'iterated_power',\n",
       " 'mean_',\n",
       " 'n_components',\n",
       " 'n_components_',\n",
       " 'n_features_',\n",
       " 'n_features_in_',\n",
       " 'n_oversamples',\n",
       " 'n_samples_',\n",
       " 'noise_variance_',\n",
       " 'power_iteration_normalizer',\n",
       " 'random_state',\n",
       " 'score',\n",
       " 'score_samples',\n",
       " 'set_output',\n",
       " 'set_params',\n",
       " 'singular_values_',\n",
       " 'svd_solver',\n",
       " 'tol',\n",
       " 'transform',\n",
       " 'whiten']"
      ]
     },
     "execution_count": 98,
     "metadata": {},
     "output_type": "execute_result"
    }
   ],
   "source": [
    "dir(pca)"
   ]
  },
  {
   "cell_type": "code",
   "execution_count": 99,
   "id": "b35afc48",
   "metadata": {},
   "outputs": [
    {
     "data": {
      "text/plain": [
       "array([13.30499079,  5.7013746 ])"
      ]
     },
     "execution_count": 99,
     "metadata": {},
     "output_type": "execute_result"
    }
   ],
   "source": [
    "pca.explained_variance_"
   ]
  },
  {
   "cell_type": "code",
   "execution_count": 100,
   "id": "d8f2814e",
   "metadata": {},
   "outputs": [
    {
     "data": {
      "text/plain": [
       "array([0.44272026, 0.18971182])"
      ]
     },
     "execution_count": 100,
     "metadata": {},
     "output_type": "execute_result"
    }
   ],
   "source": [
    "pca.explained_variance_ratio_"
   ]
  },
  {
   "cell_type": "code",
   "execution_count": 101,
   "id": "0af54eff",
   "metadata": {},
   "outputs": [
    {
     "data": {
      "text/plain": [
       "63.24320765155943"
      ]
     },
     "execution_count": 101,
     "metadata": {},
     "output_type": "execute_result"
    }
   ],
   "source": [
    "sum(pca.explained_variance_ratio_)*100"
   ]
  },
  {
   "cell_type": "code",
   "execution_count": 102,
   "id": "86a4a21f",
   "metadata": {},
   "outputs": [
    {
     "data": {
      "text/plain": [
       "array([[ 1.30339149,  0.36723765,  0.9101011 ,  0.91133853,  0.1720027 ,\n",
       "         0.487748  ,  0.65560648,  0.78035589,  0.15424669, -0.27303781,\n",
       "         0.71311887, -0.06241504,  0.70825606,  0.76233913, -0.2126399 ,\n",
       "         0.19274351,  0.18932195,  0.35662708, -0.1080577 , -0.05773542,\n",
       "         0.91721359,  0.3516714 ,  0.91683402,  0.90774026,  0.14777339,\n",
       "         0.41555337,  0.52494977,  0.7192851 ,  0.17126094,  0.03073   ],\n",
       "       [ 0.36723765,  0.55233517,  0.37288341,  0.36915886,  0.1319764 ,\n",
       "         0.27230792,  0.32696925,  0.36033416,  0.12471167, -0.02995897,\n",
       "         0.30927747, -0.00517176,  0.3113383 ,  0.31992372, -0.04531459,\n",
       "         0.15444314,  0.14319176,  0.20432777, -0.0013415 ,  0.04860503,\n",
       "         0.37498299,  0.15430477,  0.38022397,  0.37063369,  0.11675063,\n",
       "         0.23584869,  0.27531017,  0.33858614,  0.11962962,  0.0892345 ],\n",
       "       [ 0.9101011 ,  0.37288341,  1.30865653,  0.91307312,  0.20634419,\n",
       "         0.52947746,  0.69037593,  0.80599007,  0.18851495, -0.22953141,\n",
       "         0.72562014, -0.0515543 ,  0.7229486 ,  0.76986137, -0.1907589 ,\n",
       "         0.23480337,  0.22598929,  0.38999058, -0.08509886, -0.01854127,\n",
       "         0.92083977,  0.35881139,  0.92340473,  0.91106894,  0.17911457,\n",
       "         0.45320633,  0.56016196,  0.7464355 ,  0.19902435,  0.07271008],\n",
       "       [ 0.91133853,  0.36915886,  0.91307312,  1.30841539,  0.17860101,\n",
       "         0.49645367,  0.66347511,  0.78689003,  0.16078802, -0.26589006,\n",
       "         0.71712607, -0.06061653,  0.71264521,  0.76557267, -0.20923089,\n",
       "         0.2007806 ,  0.19638114,  0.36350517, -0.10419684, -0.05083162,\n",
       "         0.92012888,  0.35382283,  0.92027774,  0.91057869,  0.15377253,\n",
       "         0.42334802,  0.53257557,  0.72594113,  0.17667482,  0.03835295],\n",
       "       [ 0.1720027 ,  0.1319764 ,  0.20634419,  0.17860101,  0.84082885,\n",
       "         0.59052018,  0.53511346,  0.44586684,  0.44235446,  0.48054413,\n",
       "         0.27493519,  0.12095399,  0.3006753 ,  0.22304715,  0.2286619 ,\n",
       "         0.5435252 ,  0.47752034,  0.46636861,  0.25981753,  0.46545811,\n",
       "         0.20256252,  0.14741071,  0.23821512,  0.19731586,  0.40572873,\n",
       "         0.52858909,  0.51789505,  0.45370068,  0.36638978,  0.51454718],\n",
       "       [ 0.487748  ,  0.27230792,  0.52947746,  0.49645367,  0.59052018,\n",
       "         1.25617224,  0.84677071,  0.77782731,  0.58027138,  0.49432137,\n",
       "         0.55124552,  0.12636987,  0.58073796,  0.50396452,  0.20967653,\n",
       "         0.71397903,  0.63344536,  0.67167702,  0.2794837 ,  0.54263605,\n",
       "         0.52712006,  0.28608608,  0.56993255,  0.51787737,  0.53417115,\n",
       "         0.76479233,  0.78569435,  0.76840301,  0.49405503,  0.62906062],\n",
       "       [ 0.65560648,  0.32696925,  0.69037593,  0.66347511,  0.53511346,\n",
       "         0.84677071,  1.2757691 ,  0.85912626,  0.52171133,  0.33176435,\n",
       "         0.65345856,  0.0868707 ,  0.67643594,  0.62816252,  0.11375039,\n",
       "         0.64274861,  0.57535286,  0.65350405,  0.20047849,  0.43160572,\n",
       "         0.69041245,  0.33400007,  0.72562822,  0.68014783,  0.48187396,\n",
       "         0.7467429 ,  0.79446403,  0.83433744,  0.45532036,  0.52755372],\n",
       "       [ 0.78035589,  0.36033416,  0.80599007,  0.78689003,  0.44586684,\n",
       "         0.77782731,  0.85912626,  1.2794201 ,  0.43019067,  0.14912394,\n",
       "         0.71315919,  0.04209136,  0.72819739,  0.71131231,  0.01121955,\n",
       "         0.53090431,  0.48086541,  0.59365804,  0.10920279,  0.29374532,\n",
       "         0.80840143,  0.36021513,  0.83382111,  0.79777858,  0.39912048,\n",
       "         0.68105569,  0.75235592,  0.8464437 ,  0.38773295,  0.39301299],\n",
       "       [ 0.15424669,  0.12471167,  0.18851495,  0.16078802,  0.44235446,\n",
       "         0.58027138,  0.52171133,  0.43019067,  0.83326006,  0.48510908,\n",
       "         0.26080123,  0.12198147,  0.28659781,  0.20804006,  0.23242746,\n",
       "         0.5390269 ,  0.47318335,  0.45882498,  0.26152352,  0.46589756,\n",
       "         0.18460173,  0.14042352,  0.22021012,  0.17954513,  0.40229584,\n",
       "         0.51982046,  0.5070346 ,  0.43918957,  0.3625613 ,  0.51321159],\n",
       "       [-0.27303781, -0.02995897, -0.22953141, -0.26589006,  0.48054413,\n",
       "         0.49432137,  0.33176435,  0.14912394,  0.48510908,  1.16112236,\n",
       "        -0.03417697,  0.18952526,  0.00157677, -0.12768779,  0.40976675,\n",
       "         0.59430753,  0.51126716,  0.40593566,  0.39296585,  0.6301113 ,\n",
       "        -0.23826378, -0.00164048, -0.1921979 , -0.23986052,  0.44151834,\n",
       "         0.45392257,  0.38067285,  0.19241322,  0.37814372,  0.64514289],\n",
       "       [ 0.71311887,  0.30927747,  0.72562014,  0.71712607,  0.27493519,\n",
       "         0.55124552,  0.65345856,  0.71315919,  0.26080123, -0.03417697,\n",
       "         1.00139721, -0.00405608,  0.61208508,  0.62479469, -0.07586853,\n",
       "         0.32276865,  0.29797311,  0.41475924,  0.01003284,  0.11586463,\n",
       "         0.72946597,  0.3032821 ,  0.74125403,  0.72086457,  0.24374583,\n",
       "         0.4782708 ,  0.55348316,  0.67180228,  0.24736209,  0.19621941],\n",
       "       [-0.06241504, -0.00517176, -0.0515543 , -0.06061653,  0.12095399,\n",
       "         0.12636987,  0.0868707 ,  0.04209136,  0.12198147,  0.18952526,\n",
       "        -0.00405608,  0.44140365,  0.00483253, -0.02707466,  0.10088711,\n",
       "         0.14946326,  0.12872667,  0.10349944,  0.09735147,  0.15682488,\n",
       "        -0.05368809,  0.00179496, -0.04219893, -0.05414579,  0.11106681,\n",
       "         0.11583953,  0.09825243,  0.05250747,  0.09540467,  0.16112912],\n",
       "       [ 0.70825606,  0.3113383 ,  0.7229486 ,  0.71264521,  0.3006753 ,\n",
       "         0.58073796,  0.67643594,  0.72819739,  0.28659781,  0.00157677,\n",
       "         0.61208508,  0.00483253,  1.01354905,  0.62579178, -0.05740425,\n",
       "         0.35440868,  0.3254202 ,  0.43855251,  0.02866978,  0.14686897,\n",
       "         0.72642598,  0.30661053,  0.74051794,  0.71765271,  0.26729603,\n",
       "         0.50503937,  0.57764337,  0.6884167 ,  0.26796544,  0.22883469],\n",
       "       [ 0.76233913,  0.31992372,  0.76986137,  0.76557267,  0.22304715,\n",
       "         0.50396452,  0.62816252,  0.71131231,  0.20804006, -0.12768779,\n",
       "         0.62479469, -0.02707466,  0.62579178,  1.04894297, -0.1271598 ,\n",
       "         0.25820494,  0.24289164,  0.37507116, -0.03727566,  0.04227204,\n",
       "         0.77485086,  0.3103666 ,  0.78133406,  0.76624731,  0.1958705 ,\n",
       "         0.43421987,  0.5200008 ,  0.66377977,  0.20723517,  0.12263293],\n",
       "       [-0.2126399 , -0.04531459, -0.1907589 , -0.20923089,  0.2286619 ,\n",
       "         0.20967653,  0.11375039,  0.01121955,  0.23242746,  0.40976675,\n",
       "        -0.07586853,  0.10088711, -0.05740425, -0.1271598 ,  0.61902556,\n",
       "         0.2844368 ,  0.24276159,  0.17579427,  0.2074267 ,  0.32310985,\n",
       "        -0.19575542, -0.02972745, -0.17244932, -0.19578371,  0.21093506,\n",
       "         0.19519752,  0.14919826,  0.03811006,  0.17698477,  0.32343496],\n",
       "       [ 0.19274351,  0.15444314,  0.23480337,  0.2007806 ,  0.5435252 ,\n",
       "         0.71397903,  0.64274861,  0.53090431,  0.5390269 ,  0.59430753,\n",
       "         0.32276865,  0.14946326,  0.35440868,  0.25820494,  0.2844368 ,\n",
       "         1.0567598 ,  0.58142517,  0.56443852,  0.32054109,  0.57154693,\n",
       "         0.2300279 ,  0.17366625,  0.27372632,  0.22378634,  0.49427197,\n",
       "         0.63951777,  0.62424136,  0.54171649,  0.44559742,  0.62994785],\n",
       "       [ 0.18932195,  0.14319176,  0.22598929,  0.19638114,  0.47752034,\n",
       "         0.63344536,  0.57535286,  0.48086541,  0.47318335,  0.51126716,\n",
       "         0.29797311,  0.12872667,  0.3254202 ,  0.24289164,  0.24276159,\n",
       "         0.58142517,  0.90545945,  0.50008967,  0.27667718,  0.49651511,\n",
       "         0.22199701,  0.15957016,  0.26005387,  0.21633669,  0.43404464,\n",
       "         0.56688031,  0.55615151,  0.48884446,  0.39219773,  0.54947347],\n",
       "       [ 0.35662708,  0.20432777,  0.38999058,  0.36350517,  0.46636861,\n",
       "         0.67167702,  0.65350405,  0.59365804,  0.45882498,  0.40593566,\n",
       "         0.41475924,  0.10349944,  0.43855251,  0.37507116,  0.17579427,\n",
       "         0.56443852,  0.50008967,  0.9189797 ,  0.22778543,  0.43659347,\n",
       "         0.38783816,  0.21593886,  0.42212857,  0.38079137,  0.42215775,\n",
       "         0.596817  ,  0.6094746 ,  0.58838871,  0.38916494,  0.50248937],\n",
       "       [-0.1080577 , -0.0013415 , -0.08509886, -0.10419684,  0.25981753,\n",
       "         0.2794837 ,  0.20047849,  0.10920279,  0.26152352,  0.39296585,\n",
       "         0.01003284,  0.09735147,  0.02866978, -0.03727566,  0.2074267 ,\n",
       "         0.32054109,  0.27667718,  0.22778543,  0.59720622,  0.32954993,\n",
       "        -0.0894178 ,  0.01295927, -0.06517422, -0.09063101,  0.238314  ,\n",
       "         0.25537176,  0.22109819,  0.12959859,  0.20586388,  0.34094294],\n",
       "       [-0.05773542,  0.04860503, -0.01854127, -0.05083162,  0.46545811,\n",
       "         0.54263605,  0.43160572,  0.29374532,  0.46589756,  0.6301113 ,\n",
       "         0.11586463,  0.15682488,  0.14686897,  0.04227204,  0.32310985,\n",
       "         0.57154693,  0.49651511,  0.43659347,  0.32954993,  0.94666892,\n",
       "        -0.02489686,  0.07075589,  0.01625858, -0.02827167,  0.42555021,\n",
       "         0.49164832,  0.44854999,  0.31995101,  0.37364757,  0.58377605],\n",
       "       [ 0.91721359,  0.37498299,  0.92083977,  0.92012888,  0.20256252,\n",
       "         0.52712006,  0.69041245,  0.80840143,  0.18460173, -0.23826378,\n",
       "         0.72946597, -0.05368809,  0.72642598,  0.77485086, -0.19575542,\n",
       "         0.2300279 ,  0.22199701,  0.38783816, -0.0894178 , -0.02489686,\n",
       "         1.32217446,  0.36056137,  0.9297776 ,  0.91785618,  0.17558942,\n",
       "         0.45088215,  0.55908297,  0.74812863,  0.19622561,  0.06664591],\n",
       "       [ 0.3516714 ,  0.15430477,  0.35881139,  0.35382283,  0.14741071,\n",
       "         0.28608608,  0.33400007,  0.36021513,  0.14042352, -0.00164048,\n",
       "         0.3032821 ,  0.00179496,  0.30661053,  0.3103666 , -0.02972745,\n",
       "         0.17366625,  0.15957016,  0.21593886,  0.01295927,  0.07075589,\n",
       "         0.36056137,  0.54638972,  0.3673958 ,  0.3562209 ,  0.13100077,\n",
       "         0.24871914,  0.28491227,  0.34037447,  0.13153252,  0.11130715],\n",
       "       [ 0.91683402,  0.38022397,  0.92340473,  0.92027774,  0.23821512,\n",
       "         0.56993255,  0.72562822,  0.83382111,  0.22021012, -0.1921979 ,\n",
       "         0.74125403, -0.04219893,  0.74051794,  0.78133406, -0.17244932,\n",
       "         0.27372632,  0.26005387,  0.42212857, -0.06517422,  0.01625858,\n",
       "         0.9297776 ,  0.3673958 ,  1.32949761,  0.91968118,  0.20814399,\n",
       "         0.48955726,  0.59500156,  0.77524808,  0.22499004,  0.11055728],\n",
       "       [ 0.90774026,  0.37063369,  0.91106894,  0.91057869,  0.19731586,\n",
       "         0.51787737,  0.68014783,  0.79777858,  0.17954513, -0.23986052,\n",
       "         0.72086457, -0.05414579,  0.71765271,  0.76624731, -0.19578371,\n",
       "         0.22378634,  0.21633669,  0.38079137, -0.09063101, -0.02827167,\n",
       "         0.91785618,  0.3562209 ,  0.91968118,  1.30269771,  0.1708958 ,\n",
       "         0.44279487,  0.55011753,  0.73798046,  0.19165266,  0.06207899],\n",
       "       [ 0.14777339,  0.11675063,  0.17911457,  0.15377253,  0.40572873,\n",
       "         0.53417115,  0.48187396,  0.39912048,  0.40229584,  0.44151834,\n",
       "         0.24374583,  0.11106681,  0.26729603,  0.1958705 ,  0.21093506,\n",
       "         0.49427197,  0.43404464,  0.42215775,  0.238314  ,  0.42555021,\n",
       "         0.17558942,  0.13100077,  0.20814399,  0.1708958 ,  0.76343879,\n",
       "         0.47836418,  0.46748544,  0.40689526,  0.33276691,  0.46946661],\n",
       "       [ 0.41555337,  0.23584869,  0.45320633,  0.42334802,  0.52858909,\n",
       "         0.76479233,  0.7467429 ,  0.68105569,  0.51982046,  0.45392257,\n",
       "         0.4782708 ,  0.11583953,  0.50503937,  0.43421987,  0.19519752,\n",
       "         0.63951777,  0.56688031,  0.596817  ,  0.25537176,  0.49164832,\n",
       "         0.45088215,  0.24871914,  0.48955726,  0.44279487,  0.47836418,\n",
       "         1.07381019,  0.69516911,  0.67422028,  0.44149011,  0.56727228],\n",
       "       [ 0.52494977,  0.27531017,  0.56016196,  0.53257557,  0.51789505,\n",
       "         0.78569435,  0.79446403,  0.75235592,  0.5070346 ,  0.38067285,\n",
       "         0.55348316,  0.09825243,  0.57764337,  0.5200008 ,  0.14919826,\n",
       "         0.62424136,  0.55615151,  0.6094746 ,  0.22109819,  0.44854999,\n",
       "         0.55908297,  0.28491227,  0.59500156,  0.55011753,  0.46748544,\n",
       "         0.69516911,  1.1211102 ,  0.73669829,  0.43676085,  0.53236749],\n",
       "       [ 0.7192851 ,  0.33858614,  0.7464355 ,  0.72594113,  0.45370068,\n",
       "         0.76840301,  0.83433744,  0.8464437 ,  0.43918957,  0.19241322,\n",
       "         0.67180228,  0.05250747,  0.6884167 ,  0.66377977,  0.03811006,\n",
       "         0.54171649,  0.48884446,  0.58838871,  0.12959859,  0.31995101,\n",
       "         0.74812863,  0.34037447,  0.77524808,  0.73798046,  0.40689526,\n",
       "         0.67422028,  0.73669829,  1.20751191,  0.39187754,  0.41479033],\n",
       "       [ 0.17126094,  0.11962962,  0.19902435,  0.17667482,  0.36638978,\n",
       "         0.49405503,  0.45532036,  0.38773295,  0.3625613 ,  0.37814372,\n",
       "         0.24736209,  0.09540467,  0.26796544,  0.20723517,  0.17698477,\n",
       "         0.44559742,  0.39219773,  0.38916494,  0.20586388,  0.37364757,\n",
       "         0.19622561,  0.13153252,  0.22499004,  0.19165266,  0.33276691,\n",
       "         0.44149011,  0.43676085,  0.39187754,  0.69636744,  0.41642717],\n",
       "       [ 0.03073   ,  0.0892345 ,  0.07271008,  0.03835295,  0.51454718,\n",
       "         0.62906062,  0.52755372,  0.39301299,  0.51321159,  0.64514289,\n",
       "         0.19621941,  0.16112912,  0.22883469,  0.12263293,  0.32343496,\n",
       "         0.62994785,  0.54947347,  0.50248937,  0.34094294,  0.58377605,\n",
       "         0.06664591,  0.11130715,  0.11055728,  0.06207899,  0.46946661,\n",
       "         0.56727228,  0.53236749,  0.41479033,  0.41642717,  1.02105505]])"
      ]
     },
     "execution_count": 102,
     "metadata": {},
     "output_type": "execute_result"
    }
   ],
   "source": [
    "pca.get_covariance()"
   ]
  },
  {
   "cell_type": "code",
   "execution_count": 103,
   "id": "24027313",
   "metadata": {},
   "outputs": [
    {
     "data": {
      "text/plain": [
       "array([[ 0.21890244,  0.10372458,  0.22753729,  0.22099499,  0.14258969,\n",
       "         0.23928535,  0.25840048,  0.26085376,  0.13816696,  0.06436335,\n",
       "         0.20597878,  0.01742803,  0.21132592,  0.20286964,  0.01453145,\n",
       "         0.17039345,  0.15358979,  0.1834174 ,  0.04249842,  0.10256832,\n",
       "         0.22799663,  0.10446933,  0.23663968,  0.22487053,  0.12795256,\n",
       "         0.21009588,  0.22876753,  0.25088597,  0.12290456,  0.13178394],\n",
       "       [-0.23385713, -0.05970609, -0.21518136, -0.23107671,  0.18611302,\n",
       "         0.15189161,  0.06016536, -0.0347675 ,  0.19034877,  0.36657547,\n",
       "        -0.10555215,  0.08997968, -0.08945723, -0.15229263,  0.20443045,\n",
       "         0.2327159 ,  0.19720728,  0.13032156,  0.183848  ,  0.28009203,\n",
       "        -0.21986638, -0.0454673 , -0.19987843, -0.21935186,  0.17230435,\n",
       "         0.14359317,  0.09796411, -0.00825724,  0.14188335,  0.27533947]])"
      ]
     },
     "execution_count": 103,
     "metadata": {},
     "output_type": "execute_result"
    }
   ],
   "source": [
    "pca.components_"
   ]
  },
  {
   "cell_type": "markdown",
   "id": "9e35c663",
   "metadata": {},
   "source": [
    "Now we can transform this data to its first 2 principal components."
   ]
  },
  {
   "cell_type": "code",
   "execution_count": 104,
   "id": "aa325097",
   "metadata": {},
   "outputs": [],
   "source": [
    "x_pca = pca.transform(scaled_data)"
   ]
  },
  {
   "cell_type": "code",
   "execution_count": 105,
   "id": "8146aab0",
   "metadata": {},
   "outputs": [
    {
     "data": {
      "text/plain": [
       "(569, 30)"
      ]
     },
     "execution_count": 105,
     "metadata": {},
     "output_type": "execute_result"
    }
   ],
   "source": [
    "scaled_data.shape"
   ]
  },
  {
   "cell_type": "code",
   "execution_count": 106,
   "id": "169a2242",
   "metadata": {},
   "outputs": [
    {
     "data": {
      "text/plain": [
       "(569, 2)"
      ]
     },
     "execution_count": 106,
     "metadata": {},
     "output_type": "execute_result"
    }
   ],
   "source": [
    "x_pca.shape"
   ]
  },
  {
   "cell_type": "markdown",
   "id": "6a70a969",
   "metadata": {},
   "source": [
    "Great! We've reduced 30 dimensions to just 2! Let's plot these two dimensions out!"
   ]
  },
  {
   "cell_type": "code",
   "execution_count": 107,
   "id": "e4a8db31",
   "metadata": {},
   "outputs": [
    {
     "data": {
      "text/plain": [
       "Text(0, 0.5, 'Second principal component')"
      ]
     },
     "execution_count": 107,
     "metadata": {},
     "output_type": "execute_result"
    },
    {
     "data": {
      "image/png": "[encoded data removed]",
      "text/plain": [
       "<Figure size 800x600 with 1 Axes>"
      ]
     },
     "metadata": {},
     "output_type": "display_data"
    }
   ],
   "source": [
    "plt.figure(figsize=(8,6))\n",
    "plt.scatter(x_pca[:,0],x_pca[:,1],c=cancer['target'])\n",
    "plt.xlabel('First principal component')\n",
    "plt.ylabel('Second principal component')"
   ]
  },
  {
   "cell_type": "markdown",
   "id": "11104197",
   "metadata": {},
   "source": [
    "Clearly by using these two components we can easily separate these two classes.\n",
    "\n",
    "## Interpreting the components \n",
    "\n",
    "Unfortunately, with this great power of dimensionality reduction, comes the cost of being able to easily understand what these components represent.\n",
    "\n",
    "The components correspond to combinations of the original features, the components themselves are stored as an attribute of the fitted PCA object:"
   ]
  },
  {
   "cell_type": "code",
   "execution_count": 108,
   "id": "70231bbe",
   "metadata": {},
   "outputs": [
    {
     "data": {
      "text/plain": [
       "array([[ 0.21890244,  0.10372458,  0.22753729,  0.22099499,  0.14258969,\n",
       "         0.23928535,  0.25840048,  0.26085376,  0.13816696,  0.06436335,\n",
       "         0.20597878,  0.01742803,  0.21132592,  0.20286964,  0.01453145,\n",
       "         0.17039345,  0.15358979,  0.1834174 ,  0.04249842,  0.10256832,\n",
       "         0.22799663,  0.10446933,  0.23663968,  0.22487053,  0.12795256,\n",
       "         0.21009588,  0.22876753,  0.25088597,  0.12290456,  0.13178394],\n",
       "       [-0.23385713, -0.05970609, -0.21518136, -0.23107671,  0.18611302,\n",
       "         0.15189161,  0.06016536, -0.0347675 ,  0.19034877,  0.36657547,\n",
       "        -0.10555215,  0.08997968, -0.08945723, -0.15229263,  0.20443045,\n",
       "         0.2327159 ,  0.19720728,  0.13032156,  0.183848  ,  0.28009203,\n",
       "        -0.21986638, -0.0454673 , -0.19987843, -0.21935186,  0.17230435,\n",
       "         0.14359317,  0.09796411, -0.00825724,  0.14188335,  0.27533947]])"
      ]
     },
     "execution_count": 108,
     "metadata": {},
     "output_type": "execute_result"
    }
   ],
   "source": [
    "pca.components_"
   ]
  },
  {
   "cell_type": "code",
   "execution_count": 109,
   "id": "61bd5b9a",
   "metadata": {},
   "outputs": [],
   "source": [
    "df_comp = pd.DataFrame(pca.components_,columns=cancer['feature_names'])"
   ]
  },
  {
   "cell_type": "code",
   "execution_count": 110,
   "id": "2f8b9ca7",
   "metadata": {},
   "outputs": [
    {
     "data": {
      "text/html": [
       "<div>\n",
       "<style scoped>\n",
       "    .dataframe tbody tr th:only-of-type {\n",
       "        vertical-align: middle;\n",
       "    }\n",
       "\n",
       "    .dataframe tbody tr th {\n",
       "        vertical-align: top;\n",
       "    }\n",
       "\n",
       "    .dataframe thead th {\n",
       "        text-align: right;\n",
       "    }\n",
       "</style>\n",
       "<table border=\"1\" class=\"dataframe\">\n",
       "  <thead>\n",
       "    <tr style=\"text-align: right;\">\n",
       "      <th></th>\n",
       "      <th>mean radius</th>\n",
       "      <th>mean texture</th>\n",
       "      <th>mean perimeter</th>\n",
       "      <th>mean area</th>\n",
       "      <th>mean smoothness</th>\n",
       "      <th>mean compactness</th>\n",
       "      <th>mean concavity</th>\n",
       "      <th>mean concave points</th>\n",
       "      <th>mean symmetry</th>\n",
       "      <th>mean fractal dimension</th>\n",
       "      <th>...</th>\n",
       "      <th>worst radius</th>\n",
       "      <th>worst texture</th>\n",
       "      <th>worst perimeter</th>\n",
       "      <th>worst area</th>\n",
       "      <th>worst smoothness</th>\n",
       "      <th>worst compactness</th>\n",
       "      <th>worst concavity</th>\n",
       "      <th>worst concave points</th>\n",
       "      <th>worst symmetry</th>\n",
       "      <th>worst fractal dimension</th>\n",
       "    </tr>\n",
       "  </thead>\n",
       "  <tbody>\n",
       "    <tr>\n",
       "      <th>0</th>\n",
       "      <td>0.218902</td>\n",
       "      <td>0.103725</td>\n",
       "      <td>0.227537</td>\n",
       "      <td>0.220995</td>\n",
       "      <td>0.142590</td>\n",
       "      <td>0.239285</td>\n",
       "      <td>0.258400</td>\n",
       "      <td>0.260854</td>\n",
       "      <td>0.138167</td>\n",
       "      <td>0.064363</td>\n",
       "      <td>...</td>\n",
       "      <td>0.227997</td>\n",
       "      <td>0.104469</td>\n",
       "      <td>0.236640</td>\n",
       "      <td>0.224871</td>\n",
       "      <td>0.127953</td>\n",
       "      <td>0.210096</td>\n",
       "      <td>0.228768</td>\n",
       "      <td>0.250886</td>\n",
       "      <td>0.122905</td>\n",
       "      <td>0.131784</td>\n",
       "    </tr>\n",
       "    <tr>\n",
       "      <th>1</th>\n",
       "      <td>-0.233857</td>\n",
       "      <td>-0.059706</td>\n",
       "      <td>-0.215181</td>\n",
       "      <td>-0.231077</td>\n",
       "      <td>0.186113</td>\n",
       "      <td>0.151892</td>\n",
       "      <td>0.060165</td>\n",
       "      <td>-0.034768</td>\n",
       "      <td>0.190349</td>\n",
       "      <td>0.366575</td>\n",
       "      <td>...</td>\n",
       "      <td>-0.219866</td>\n",
       "      <td>-0.045467</td>\n",
       "      <td>-0.199878</td>\n",
       "      <td>-0.219352</td>\n",
       "      <td>0.172304</td>\n",
       "      <td>0.143593</td>\n",
       "      <td>0.097964</td>\n",
       "      <td>-0.008257</td>\n",
       "      <td>0.141883</td>\n",
       "      <td>0.275339</td>\n",
       "    </tr>\n",
       "  </tbody>\n",
       "</table>\n",
       "<p>2 rows × 30 columns</p>\n",
       "</div>"
      ],
      "text/plain": [
       "   mean radius  mean texture  mean perimeter  mean area  mean smoothness  \\\n",
       "0     0.218902      0.103725        0.227537   0.220995         0.142590   \n",
       "1    -0.233857     -0.059706       -0.215181  -0.231077         0.186113   \n",
       "\n",
       "   mean compactness  mean concavity  mean concave points  mean symmetry  \\\n",
       "0          0.239285        0.258400             0.260854       0.138167   \n",
       "1          0.151892        0.060165            -0.034768       0.190349   \n",
       "\n",
       "   mean fractal dimension  ...  worst radius  worst texture  worst perimeter  \\\n",
       "0                0.064363  ...      0.227997       0.104469         0.236640   \n",
       "1                0.366575  ...     -0.219866      -0.045467        -0.199878   \n",
       "\n",
       "   worst area  worst smoothness  worst compactness  worst concavity  \\\n",
       "0    0.224871          0.127953           0.210096         0.228768   \n",
       "1   -0.219352          0.172304           0.143593         0.097964   \n",
       "\n",
       "   worst concave points  worst symmetry  worst fractal dimension  \n",
       "0              0.250886        0.122905                 0.131784  \n",
       "1             -0.008257        0.141883                 0.275339  \n",
       "\n",
       "[2 rows x 30 columns]"
      ]
     },
     "execution_count": 110,
     "metadata": {},
     "output_type": "execute_result"
    }
   ],
   "source": [
    "df_comp"
   ]
  },
  {
   "cell_type": "code",
   "execution_count": 111,
   "id": "928d17a3",
   "metadata": {},
   "outputs": [
    {
     "data": {
      "text/plain": [
       "<Axes: >"
      ]
     },
     "execution_count": 111,
     "metadata": {},
     "output_type": "execute_result"
    },
    {
     "data": {
      "image/png": "[encoded data removed]",
      "text/plain": [
       "<Figure size 1200x600 with 2 Axes>"
      ]
     },
     "metadata": {},
     "output_type": "display_data"
    }
   ],
   "source": [
    "plt.figure(figsize=(12,6))\n",
    "sns.heatmap(df_comp,cmap='plasma')"
   ]
  },
  {
   "cell_type": "code",
   "execution_count": 112,
   "id": "700c8192",
   "metadata": {},
   "outputs": [
    {
     "data": {
      "text/html": [
       "<style>#sk-container-id-8 {color: black;}#sk-container-id-8 pre{padding: 0;}#sk-container-id-8 div.sk-toggleable {background-color: white;}#sk-container-id-8 label.sk-toggleable__label {cursor: pointer;display: block;width: 100%;margin-bottom: 0;padding: 0.3em;box-sizing: border-box;text-align: center;}#sk-container-id-8 label.sk-toggleable__label-arrow:before {content: \"▸\";float: left;margin-right: 0.25em;color: #696969;}#sk-container-id-8 label.sk-toggleable__label-arrow:hover:before {color: black;}#sk-container-id-8 div.sk-estimator:hover label.sk-toggleable__label-arrow:before {color: black;}#sk-container-id-8 div.sk-toggleable__content {max-height: 0;max-width: 0;overflow: hidden;text-align: left;background-color: #f0f8ff;}#sk-container-id-8 div.sk-toggleable__content pre {margin: 0.2em;color: black;border-radius: 0.25em;background-color: #f0f8ff;}#sk-container-id-8 input.sk-toggleable__control:checked~div.sk-toggleable__content {max-height: 200px;max-width: 100%;overflow: auto;}#sk-container-id-8 input.sk-toggleable__control:checked~label.sk-toggleable__label-arrow:before {content: \"▾\";}#sk-container-id-8 div.sk-estimator input.sk-toggleable__control:checked~label.sk-toggleable__label {background-color: #d4ebff;}#sk-container-id-8 div.sk-label input.sk-toggleable__control:checked~label.sk-toggleable__label {background-color: #d4ebff;}#sk-container-id-8 input.sk-hidden--visually {border: 0;clip: rect(1px 1px 1px 1px);clip: rect(1px, 1px, 1px, 1px);height: 1px;margin: -1px;overflow: hidden;padding: 0;position: absolute;width: 1px;}#sk-container-id-8 div.sk-estimator {font-family: monospace;background-color: #f0f8ff;border: 1px dotted black;border-radius: 0.25em;box-sizing: border-box;margin-bottom: 0.5em;}#sk-container-id-8 div.sk-estimator:hover {background-color: #d4ebff;}#sk-container-id-8 div.sk-parallel-item::after {content: \"\";width: 100%;border-bottom: 1px solid gray;flex-grow: 1;}#sk-container-id-8 div.sk-label:hover label.sk-toggleable__label {background-color: #d4ebff;}#sk-container-id-8 div.sk-serial::before {content: \"\";position: absolute;border-left: 1px solid gray;box-sizing: border-box;top: 0;bottom: 0;left: 50%;z-index: 0;}#sk-container-id-8 div.sk-serial {display: flex;flex-direction: column;align-items: center;background-color: white;padding-right: 0.2em;padding-left: 0.2em;position: relative;}#sk-container-id-8 div.sk-item {position: relative;z-index: 1;}#sk-container-id-8 div.sk-parallel {display: flex;align-items: stretch;justify-content: center;background-color: white;position: relative;}#sk-container-id-8 div.sk-item::before, #sk-container-id-8 div.sk-parallel-item::before {content: \"\";position: absolute;border-left: 1px solid gray;box-sizing: border-box;top: 0;bottom: 0;left: 50%;z-index: -1;}#sk-container-id-8 div.sk-parallel-item {display: flex;flex-direction: column;z-index: 1;position: relative;background-color: white;}#sk-container-id-8 div.sk-parallel-item:first-child::after {align-self: flex-end;width: 50%;}#sk-container-id-8 div.sk-parallel-item:last-child::after {align-self: flex-start;width: 50%;}#sk-container-id-8 div.sk-parallel-item:only-child::after {width: 0;}#sk-container-id-8 div.sk-dashed-wrapped {border: 1px dashed gray;margin: 0 0.4em 0.5em 0.4em;box-sizing: border-box;padding-bottom: 0.4em;background-color: white;}#sk-container-id-8 div.sk-label label {font-family: monospace;font-weight: bold;display: inline-block;line-height: 1.2em;}#sk-container-id-8 div.sk-label-container {text-align: center;}#sk-container-id-8 div.sk-container {/* jupyter's `normalize.less` sets `[hidden] { display: none; }` but bootstrap.min.css set `[hidden] { display: none !important; }` so we also need the `!important` here to be able to override the default hidden behavior on the sphinx rendered scikit-learn.org. See: https://github.com/scikit-learn/scikit-learn/issues/21755 */display: inline-block !important;position: relative;}#sk-container-id-8 div.sk-text-repr-fallback {display: none;}</style><div id=\"sk-container-id-8\" class=\"sk-top-container\"><div class=\"sk-text-repr-fallback\"><pre>LogisticRegression()</pre><b>In a Jupyter environment, please rerun this cell to show the HTML representation or trust the notebook. <br />On GitHub, the HTML representation is unable to render, please try loading this page with nbviewer.org.</b></div><div class=\"sk-container\" hidden><div class=\"sk-item\"><div class=\"sk-estimator sk-toggleable\"><input class=\"sk-toggleable__control sk-hidden--visually\" id=\"sk-estimator-id-8\" type=\"checkbox\" checked><label for=\"sk-estimator-id-8\" class=\"sk-toggleable__label sk-toggleable__label-arrow\">LogisticRegression</label><div class=\"sk-toggleable__content\"><pre>LogisticRegression()</pre></div></div></div></div></div>"
      ],
      "text/plain": [
       "LogisticRegression()"
      ]
     },
     "execution_count": 112,
     "metadata": {},
     "output_type": "execute_result"
    }
   ],
   "source": [
    "from sklearn.linear_model import LogisticRegression\n",
    "model = LogisticRegression()\n",
    "model.fit(x_pca,y)\n"
   ]
  },
  {
   "cell_type": "code",
   "execution_count": 113,
   "id": "efbbe069",
   "metadata": {},
   "outputs": [
    {
     "data": {
      "text/plain": [
       "0.9506170392685376"
      ]
     },
     "execution_count": 113,
     "metadata": {},
     "output_type": "execute_result"
    }
   ],
   "source": [
    "from sklearn.metrics import roc_auc_score\n",
    "roc_auc_score(y,model.predict(x_pca))"
   ]
  },
  {
   "cell_type": "markdown",
   "id": "595bf78d",
   "metadata": {},
   "source": [
    "This heatmap and the color bar basically represent the correlation between the various feature and the principal component itself.\n",
    "\n",
    "## Conclusion\n",
    "\n",
    "Hopefully this information is useful to you when dealing with high dimensional data!"
   ]
  },
  {
   "cell_type": "code",
   "execution_count": null,
   "id": "d04c6b49",
   "metadata": {},
   "outputs": [],
   "source": []
  },
  {
   "cell_type": "code",
   "execution_count": null,
   "id": "c9cf283e",
   "metadata": {},
   "outputs": [],
   "source": []
  },
  {
   "cell_type": "code",
   "execution_count": null,
   "id": "5cad908a",
   "metadata": {},
   "outputs": [],
   "source": []
  }
 ],
 "metadata": {
  "kernelspec": {
   "display_name": "Python 3 (ipykernel)",
   "language": "python",
   "name": "python3"
  },
  "language_info": {
   "codemirror_mode": {
    "name": "ipython",
    "version": 3
   },
   "file_extension": ".py",
   "mimetype": "text/x-python",
   "name": "python",
   "nbconvert_exporter": "python",
   "pygments_lexer": "ipython3",
   "version": "3.11.5"
  }
 },
 "nbformat": 4,
 "nbformat_minor": 5
}
