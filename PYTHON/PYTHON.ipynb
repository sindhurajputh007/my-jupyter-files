{
 "cells": [
  {
   "cell_type": "markdown",
   "id": "0b1d6a58",
   "metadata": {},
   "source": [
    "# control flow"
   ]
  },
  {
   "cell_type": "markdown",
   "id": "1404ed12",
   "metadata": {},
   "source": [
    "## if function"
   ]
  },
  {
   "cell_type": "code",
   "execution_count": 1,
   "id": "f7227cc7",
   "metadata": {},
   "outputs": [
    {
     "name": "stdout",
     "output_type": "stream",
     "text": [
      "x is zero\n"
     ]
    }
   ],
   "source": [
    "x=0 #we are assigning a variable x with a value of 0\n",
    "\n",
    "if x>0:\n",
    "    print(\"x is positive\")\n",
    "elif x==0:\n",
    "    print(\"x is zero\")\n",
    "else:\n",
    "    print(\"x is negative\")\n",
    "    "
   ]
  },
  {
   "cell_type": "markdown",
   "id": "30ce78db",
   "metadata": {},
   "source": [
    "## for loop\n"
   ]
  },
  {
   "cell_type": "code",
   "execution_count": null,
   "id": "fe331df3",
   "metadata": {},
   "outputs": [],
   "source": [
    "n=[1,2,3,4,5] #list of integer from 1 to 5"
   ]
  },
  {
   "cell_type": "code",
   "execution_count": 4,
   "id": "d6a2fa07",
   "metadata": {},
   "outputs": [
    {
     "name": "stdout",
     "output_type": "stream",
     "text": [
      "1\n",
      "2\n",
      "3\n",
      "4\n",
      "5\n"
     ]
    }
   ],
   "source": [
    "#print numbers\n",
    "n=[1,2,3,4,5]\n",
    "for num in n:\n",
    "    print(num)"
   ]
  },
  {
   "cell_type": "code",
   "execution_count": 6,
   "id": "270901b6",
   "metadata": {},
   "outputs": [
    {
     "name": "stdout",
     "output_type": "stream",
     "text": [
      "square of 1 : 1\n",
      "square of 2 : 4\n",
      "square of 3 : 9\n",
      "square of 4 : 16\n",
      "square of 5 : 25\n"
     ]
    }
   ],
   "source": [
    "#print sqare of numbers\n",
    "for num in n:\n",
    "    print(\"square of\", num,\":\" ,num*num)"
   ]
  },
  {
   "cell_type": "code",
   "execution_count": 7,
   "id": "97b385ab",
   "metadata": {},
   "outputs": [
    {
     "name": "stdout",
     "output_type": "stream",
     "text": [
      "cube of 1 : 1\n",
      "cube of 2 : 8\n",
      "cube of 3 : 27\n",
      "cube of 4 : 64\n",
      "cube of 5 : 125\n"
     ]
    }
   ],
   "source": [
    "#print cube of numbers\n",
    "for num in n:\n",
    "    print(\"cube of\", num,\":\" ,num*num*num)"
   ]
  },
  {
   "cell_type": "code",
   "execution_count": 9,
   "id": "7c44b55c",
   "metadata": {},
   "outputs": [
    {
     "name": "stdout",
     "output_type": "stream",
     "text": [
      "1 number is odd.\n",
      "2 number is even.\n",
      "3 number is odd.\n",
      "4 number is even.\n",
      "5 number is odd.\n"
     ]
    }
   ],
   "source": [
    "#print even and odd numbers\n",
    "\n",
    "for num in n:\n",
    "    if num%2==0:\n",
    "        print(num,\"number is even.\")\n",
    "    else:\n",
    "        print(num,\"number is odd.\")    \n",
    "              "
   ]
  },
  {
   "cell_type": "code",
   "execution_count": 10,
   "id": "431e4534",
   "metadata": {},
   "outputs": [
    {
     "name": "stdout",
     "output_type": "stream",
     "text": [
      "100 number is even.\n",
      "88 number is even.\n",
      "38 number is even.\n",
      "79 number is odd.\n"
     ]
    }
   ],
   "source": [
    "n=[100,88,38,79]\n",
    "for num in n:\n",
    "    if num%2==0:\n",
    "        print(num,\"number is even.\")\n",
    "    else:\n",
    "        print(num,\"number is odd.\")    \n",
    "              "
   ]
  },
  {
   "cell_type": "markdown",
   "id": "7243c027",
   "metadata": {},
   "source": [
    "## while loop"
   ]
  },
  {
   "cell_type": "code",
   "execution_count": 20,
   "id": "9811f7b2",
   "metadata": {},
   "outputs": [
    {
     "name": "stdout",
     "output_type": "stream",
     "text": [
      "before increment : 0\n",
      "after increment : 1\n",
      "before increment : 1\n",
      "after increment : 2\n",
      "before increment : 2\n",
      "after increment : 3\n",
      "before increment : 3\n",
      "after increment : 4\n",
      "before increment : 4\n",
      "after increment : 5\n"
     ]
    }
   ],
   "source": [
    "#here we are executing the blck of code till the count is less than 5.\n",
    "count=0 #initiallizing or string the count with 0.\n",
    "\n",
    "while count<5:\n",
    "    print(\"before increment :\" ,count)\n",
    "    count=count+1 #count +=1\n",
    "    \n",
    "    print(\"after increment :\" ,count)\n",
    "    "
   ]
  },
  {
   "cell_type": "code",
   "execution_count": 19,
   "id": "30fb8376",
   "metadata": {},
   "outputs": [
    {
     "name": "stdout",
     "output_type": "stream",
     "text": [
      "before increment : 0\n",
      "before increment : 1\n",
      "before increment : 2\n",
      "before increment : 3\n",
      "before increment : 4\n"
     ]
    }
   ],
   "source": [
    "#here we are executing the blck of code till the count is less than 5.\n",
    "count=0 #initiallizing or string the count with 0.\n",
    "\n",
    "while count<5:\n",
    "    print(\"before increment :\" ,count)\n",
    "    count=count+1 #count +=1\n",
    "    "
   ]
  },
  {
   "cell_type": "code",
   "execution_count": 14,
   "id": "753ab6ff",
   "metadata": {},
   "outputs": [
    {
     "name": "stdout",
     "output_type": "stream",
     "text": [
      "before decrement : 10\n",
      "after decrement : 9\n",
      "before decrement : 9\n",
      "after decrement : 8\n",
      "before decrement : 8\n",
      "after decrement : 7\n",
      "before decrement : 7\n",
      "after decrement : 6\n",
      "before decrement : 6\n",
      "after decrement : 5\n"
     ]
    }
   ],
   "source": [
    "#here we are executing the blck of code till the count is less than 5.\n",
    "count=10 #initiallizing or string the count with 0.\n",
    "\n",
    "while count>5:\n",
    "    print(\"before decrement :\" ,count)\n",
    "    count=count-1 #count +=1\n",
    "    \n",
    "    print(\"after decrement :\" ,count)\n",
    "    "
   ]
  },
  {
   "cell_type": "code",
   "execution_count": 17,
   "id": "30a84afd",
   "metadata": {},
   "outputs": [
    {
     "name": "stdout",
     "output_type": "stream",
     "text": [
      "before decrement : 10\n",
      "i'm out of while loop\n",
      "before decrement : 9\n",
      "i'm out of while loop\n",
      "before decrement : 8\n",
      "i'm out of while loop\n",
      "before decrement : 7\n",
      "i'm out of while loop\n",
      "before decrement : 6\n",
      "i'm out of while loop\n"
     ]
    }
   ],
   "source": [
    "#here we are executing the blck of code till the count is less than 5.\n",
    "count=10 #initiallizing or string the count with 0.\n",
    "\n",
    "while count>5:\n",
    "    print(\"before decrement :\" ,count)\n",
    "    count=count-1 \n",
    "    print(\"i'm out of while loop\")    "
   ]
  },
  {
   "cell_type": "code",
   "execution_count": 18,
   "id": "52724423",
   "metadata": {},
   "outputs": [
    {
     "name": "stdout",
     "output_type": "stream",
     "text": [
      "before decrement : 10\n",
      "before decrement : 9\n",
      "before decrement : 8\n",
      "before decrement : 7\n",
      "before decrement : 6\n",
      "i'm out of while loop\n"
     ]
    }
   ],
   "source": [
    "#here we are executing the blck of code till the count is less than 5.\n",
    "count=10 #initiallizing or string the count with 0.\n",
    "\n",
    "while count>5:\n",
    "    print(\"before decrement :\" ,count)\n",
    "    count=count-1\n",
    "print(\"i'm out of while loop\")    "
   ]
  },
  {
   "cell_type": "markdown",
   "id": "2e4d02de",
   "metadata": {},
   "source": [
    "# transfer statement"
   ]
  },
  {
   "cell_type": "markdown",
   "id": "b6ed435f",
   "metadata": {},
   "source": [
    "## break"
   ]
  },
  {
   "cell_type": "code",
   "execution_count": 1,
   "id": "59767a75",
   "metadata": {},
   "outputs": [
    {
     "data": {
      "text/plain": [
       "range(0, 10)"
      ]
     },
     "execution_count": 1,
     "metadata": {},
     "output_type": "execute_result"
    }
   ],
   "source": [
    "# range(10)\n",
    "#range is a function which creates a sequence of value\n",
    "range(10)"
   ]
  },
  {
   "cell_type": "code",
   "execution_count": 2,
   "id": "188ee5a4",
   "metadata": {},
   "outputs": [
    {
     "data": {
      "text/plain": [
       "[0, 1, 2, 3, 4, 5, 6, 7, 8, 9]"
      ]
     },
     "execution_count": 2,
     "metadata": {},
     "output_type": "execute_result"
    }
   ],
   "source": [
    "list(range(10))"
   ]
  },
  {
   "cell_type": "code",
   "execution_count": 5,
   "id": "14ac325d",
   "metadata": {},
   "outputs": [
    {
     "data": {
      "text/plain": [
       "[0, 1, 2, 3, 4, 5, 6, 7, 8, 9]"
      ]
     },
     "execution_count": 5,
     "metadata": {},
     "output_type": "execute_result"
    }
   ],
   "source": [
    "num_list = list(range(10))\n",
    "num_list"
   ]
  },
  {
   "cell_type": "code",
   "execution_count": 6,
   "id": "df26b2fe",
   "metadata": {},
   "outputs": [
    {
     "name": "stdout",
     "output_type": "stream",
     "text": [
      "0\n",
      "1\n",
      "2\n",
      "3\n",
      "4\n",
      "i'm out of for loop\n"
     ]
    }
   ],
   "source": [
    "for i in range(10):\n",
    "    if i == 5:\n",
    "        break\n",
    "    print(i)\n",
    "    \n",
    "print(\"i'm out of for loop\")      "
   ]
  },
  {
   "cell_type": "markdown",
   "id": "8b4a2c4a",
   "metadata": {},
   "source": [
    "## continue"
   ]
  },
  {
   "cell_type": "code",
   "execution_count": 7,
   "id": "1ca3ce38",
   "metadata": {},
   "outputs": [
    {
     "name": "stdout",
     "output_type": "stream",
     "text": [
      "0\n",
      "1\n",
      "2\n",
      "3\n",
      "4\n",
      "6\n",
      "7\n",
      "8\n",
      "9\n",
      "i'm out of for loop\n"
     ]
    }
   ],
   "source": [
    "for i in range(10):\n",
    "    if i == 5:\n",
    "        continue\n",
    "    print(i)\n",
    "    \n",
    "print(\"i'm out of for loop\")      "
   ]
  },
  {
   "cell_type": "markdown",
   "id": "6e6b8faf",
   "metadata": {},
   "source": [
    "## pass"
   ]
  },
  {
   "cell_type": "code",
   "execution_count": 7,
   "id": "e3b44125",
   "metadata": {},
   "outputs": [
    {
     "name": "stdout",
     "output_type": "stream",
     "text": [
      "0\n",
      "1\n",
      "2\n",
      "3\n",
      "4\n",
      "6\n",
      "7\n",
      "8\n",
      "9\n",
      "i'm out of for loop\n"
     ]
    }
   ],
   "source": [
    "for i in range(10):\n",
    "    if i == 5:\n",
    "        pass\n",
    "    print(i)\n",
    "    \n",
    "print(\"i'm out of for loop\")      "
   ]
  },
  {
   "cell_type": "code",
   "execution_count": 8,
   "id": "0de8343d",
   "metadata": {},
   "outputs": [
    {
     "name": "stdout",
     "output_type": "stream",
     "text": [
      "i'm out of for loop\n"
     ]
    }
   ],
   "source": [
    "for i in range(10):\n",
    "     pass\n",
    "    \n",
    "print(\"i'm out of for loop\")      "
   ]
  },
  {
   "cell_type": "markdown",
   "id": "f2fa3160",
   "metadata": {},
   "source": [
    "# data structures"
   ]
  },
  {
   "cell_type": "markdown",
   "id": "f7c08ea5",
   "metadata": {},
   "source": [
    "### list\n"
   ]
  },
  {
   "cell_type": "code",
   "execution_count": 1,
   "id": "ad2928c1",
   "metadata": {},
   "outputs": [],
   "source": [
    "my_list = [1,2,3,4,5] #a list of integers\n",
    "my_list2 = [\"apple\",\"banana\",\"cherry\"] #a list of strings\n",
    "my_list3 = [] # an empty list\n",
    "my_list4 = [1,2.3,\"apple\"] #a list of numbers and strings"
   ]
  },
  {
   "cell_type": "code",
   "execution_count": 12,
   "id": "1835cd21",
   "metadata": {},
   "outputs": [
    {
     "data": {
      "text/plain": [
       "list"
      ]
     },
     "execution_count": 12,
     "metadata": {},
     "output_type": "execute_result"
    }
   ],
   "source": [
    "my_list = [1,2,3,4,5]\n",
    "type(my_list)"
   ]
  },
  {
   "cell_type": "code",
   "execution_count": 14,
   "id": "4c73b8e8",
   "metadata": {},
   "outputs": [
    {
     "data": {
      "text/plain": [
       "['__add__',\n",
       " '__class__',\n",
       " '__class_getitem__',\n",
       " '__contains__',\n",
       " '__delattr__',\n",
       " '__delitem__',\n",
       " '__dir__',\n",
       " '__doc__',\n",
       " '__eq__',\n",
       " '__format__',\n",
       " '__ge__',\n",
       " '__getattribute__',\n",
       " '__getitem__',\n",
       " '__getstate__',\n",
       " '__gt__',\n",
       " '__hash__',\n",
       " '__iadd__',\n",
       " '__imul__',\n",
       " '__init__',\n",
       " '__init_subclass__',\n",
       " '__iter__',\n",
       " '__le__',\n",
       " '__len__',\n",
       " '__lt__',\n",
       " '__mul__',\n",
       " '__ne__',\n",
       " '__new__',\n",
       " '__reduce__',\n",
       " '__reduce_ex__',\n",
       " '__repr__',\n",
       " '__reversed__',\n",
       " '__rmul__',\n",
       " '__setattr__',\n",
       " '__setitem__',\n",
       " '__sizeof__',\n",
       " '__str__',\n",
       " '__subclasshook__',\n",
       " 'append',\n",
       " 'clear',\n",
       " 'copy',\n",
       " 'count',\n",
       " 'extend',\n",
       " 'index',\n",
       " 'insert',\n",
       " 'pop',\n",
       " 'remove',\n",
       " 'reverse',\n",
       " 'sort']"
      ]
     },
     "execution_count": 14,
     "metadata": {},
     "output_type": "execute_result"
    }
   ],
   "source": [
    "dir(my_list)"
   ]
  },
  {
   "cell_type": "code",
   "execution_count": 13,
   "id": "3e16b552",
   "metadata": {},
   "outputs": [
    {
     "name": "stdout",
     "output_type": "stream",
     "text": [
      "1\n",
      "2\n",
      "3\n",
      "4\n",
      "5\n"
     ]
    }
   ],
   "source": [
    "for num in my_list:\n",
    "    print(num)"
   ]
  },
  {
   "cell_type": "code",
   "execution_count": 15,
   "id": "932bf1ac",
   "metadata": {},
   "outputs": [
    {
     "name": "stdout",
     "output_type": "stream",
     "text": [
      "0 : 1\n",
      "1 : 2\n",
      "2 : 3\n",
      "3 : 4\n",
      "4 : 5\n"
     ]
    }
   ],
   "source": [
    "for index,num in enumerate(my_list):\n",
    "    print(index,\":\",num)"
   ]
  },
  {
   "cell_type": "code",
   "execution_count": 18,
   "id": "20953e84",
   "metadata": {},
   "outputs": [
    {
     "name": "stdout",
     "output_type": "stream",
     "text": [
      "1\n",
      "cherry\n",
      "apple\n"
     ]
    }
   ],
   "source": [
    "print(my_list[0]) #frist element\n",
    "print(my_list2[2])# third element\n",
    "print(my_list4[-1])#last element"
   ]
  },
  {
   "cell_type": "code",
   "execution_count": 19,
   "id": "79e4ba3c",
   "metadata": {},
   "outputs": [
    {
     "name": "stdout",
     "output_type": "stream",
     "text": [
      "appple\n",
      "elpppa\n"
     ]
    }
   ],
   "source": [
    "fruit = \"appple\"\n",
    "print(fruit)\n",
    "print(fruit[::-1])"
   ]
  },
  {
   "cell_type": "code",
   "execution_count": 20,
   "id": "e27f2cb1",
   "metadata": {},
   "outputs": [
    {
     "data": {
      "text/plain": [
       "('eye', 'mom', 'malyalam')"
      ]
     },
     "execution_count": 20,
     "metadata": {},
     "output_type": "execute_result"
    }
   ],
   "source": [
    "\"eye\" ,\"mom\" ,\"malyalam\" #palindrome\n",
    "#identify whether word is palindrome or not."
   ]
  },
  {
   "cell_type": "code",
   "execution_count": 21,
   "id": "e62fd8eb",
   "metadata": {},
   "outputs": [
    {
     "name": "stdout",
     "output_type": "stream",
     "text": [
      "[1, 2, 3, 4, 5]\n",
      "[10, 2, 3, 4, 5]\n"
     ]
    }
   ],
   "source": [
    "print(my_list)\n",
    "#chsnges the first element to 10\n",
    "my_list[0] = 10\n",
    "print(my_list)"
   ]
  },
  {
   "cell_type": "code",
   "execution_count": null,
   "id": "662821ee",
   "metadata": {},
   "outputs": [],
   "source": [
    "###slicing object[start:end:]\n",
    "#### default start = 0, end = len(object),step=1"
   ]
  },
  {
   "cell_type": "code",
   "execution_count": 22,
   "id": "3f6d09f0",
   "metadata": {},
   "outputs": [
    {
     "name": "stdout",
     "output_type": "stream",
     "text": [
      "[2, 3, 4]\n",
      "[10, 2, 3]\n",
      "[]\n"
     ]
    }
   ],
   "source": [
    "print(my_list[1:4]) #elements from index 1 to 3\n",
    "print(my_list[:3]) #element from beginning to index 2\n",
    "print(my_list[2:1])#element from index 2 to the end"
   ]
  },
  {
   "cell_type": "code",
   "execution_count": 23,
   "id": "a2574513",
   "metadata": {},
   "outputs": [
    {
     "name": "stdout",
     "output_type": "stream",
     "text": [
      "[10, 2, 3, 4, 5]\n"
     ]
    }
   ],
   "source": [
    "my_list2.append(\"mango\") #adds mango to the end of the list\n",
    "print(my_list)"
   ]
  },
  {
   "cell_type": "code",
   "execution_count": 24,
   "id": "34c3fa1c",
   "metadata": {},
   "outputs": [
    {
     "name": "stdout",
     "output_type": "stream",
     "text": [
      "['apple', 'banana', 'cherry']\n"
     ]
    }
   ],
   "source": [
    "#removes the last element and returns\n",
    "my_list2.pop()\n",
    "print(my_list2)"
   ]
  },
  {
   "cell_type": "code",
   "execution_count": 25,
   "id": "2efe9ef4",
   "metadata": {},
   "outputs": [
    {
     "name": "stdout",
     "output_type": "stream",
     "text": [
      "[10, 3, 4, 5]\n"
     ]
    }
   ],
   "source": [
    "#removes the element 2 from the list\n",
    "my_list.remove(2)\n",
    "print(my_list)"
   ]
  },
  {
   "cell_type": "markdown",
   "id": "16b76e94",
   "metadata": {},
   "source": [
    "### Tuples"
   ]
  },
  {
   "cell_type": "code",
   "execution_count": 2,
   "id": "17dd8cfc",
   "metadata": {},
   "outputs": [],
   "source": [
    "#a tuple of integers\n",
    "my_tuple = (1,2,3,4,5)\n",
    "\n",
    "#a tuple of string\n",
    "my_tuple2 = (\"john\",\"sarah\",\"jack\")\n",
    "\n",
    "#a empty tuple\n",
    "my_tuple3 = ()"
   ]
  },
  {
   "cell_type": "code",
   "execution_count": 3,
   "id": "b4bf0b54",
   "metadata": {},
   "outputs": [
    {
     "data": {
      "text/plain": [
       "tuple"
      ]
     },
     "execution_count": 3,
     "metadata": {},
     "output_type": "execute_result"
    }
   ],
   "source": [
    "type(my_tuple)"
   ]
  },
  {
   "cell_type": "code",
   "execution_count": 4,
   "id": "2e541735",
   "metadata": {},
   "outputs": [
    {
     "data": {
      "text/plain": [
       "['__add__',\n",
       " '__class__',\n",
       " '__class_getitem__',\n",
       " '__contains__',\n",
       " '__delattr__',\n",
       " '__dir__',\n",
       " '__doc__',\n",
       " '__eq__',\n",
       " '__format__',\n",
       " '__ge__',\n",
       " '__getattribute__',\n",
       " '__getitem__',\n",
       " '__getnewargs__',\n",
       " '__getstate__',\n",
       " '__gt__',\n",
       " '__hash__',\n",
       " '__init__',\n",
       " '__init_subclass__',\n",
       " '__iter__',\n",
       " '__le__',\n",
       " '__len__',\n",
       " '__lt__',\n",
       " '__mul__',\n",
       " '__ne__',\n",
       " '__new__',\n",
       " '__reduce__',\n",
       " '__reduce_ex__',\n",
       " '__repr__',\n",
       " '__rmul__',\n",
       " '__setattr__',\n",
       " '__sizeof__',\n",
       " '__str__',\n",
       " '__subclasshook__',\n",
       " 'count',\n",
       " 'index']"
      ]
     },
     "execution_count": 4,
     "metadata": {},
     "output_type": "execute_result"
    }
   ],
   "source": [
    "dir(my_tuple)"
   ]
  },
  {
   "cell_type": "code",
   "execution_count": 5,
   "id": "09e1bc49",
   "metadata": {},
   "outputs": [
    {
     "name": "stdout",
     "output_type": "stream",
     "text": [
      "1\n",
      "jack\n",
      "5\n"
     ]
    }
   ],
   "source": [
    "#prints first element\n",
    "print(my_tuple[0])\n",
    "\n",
    "#prints third element\n",
    "print(my_tuple2[2])\n",
    "\n",
    "#prints last element\n",
    "print(my_tuple[-1])"
   ]
  },
  {
   "cell_type": "code",
   "execution_count": 6,
   "id": "99f71444",
   "metadata": {},
   "outputs": [
    {
     "name": "stdout",
     "output_type": "stream",
     "text": [
      "(2, 3, 4)\n",
      "('john', 'sarah', 'jack')\n",
      "(3, 4, 5)\n"
     ]
    }
   ],
   "source": [
    "#prints elementd from index 1 to 3\n",
    "print(my_tuple[1:4])\n",
    "\n",
    "#prints element from beginning to index 2\n",
    "print(my_tuple2[:3])\n",
    "\n",
    "#prints elements from index 2 to the end\n",
    "print(my_tuple[2:])"
   ]
  },
  {
   "cell_type": "code",
   "execution_count": 7,
   "id": "c128c240",
   "metadata": {},
   "outputs": [
    {
     "name": "stdout",
     "output_type": "stream",
     "text": [
      "5\n"
     ]
    }
   ],
   "source": [
    "#(numbers of elements in the tuple)\n",
    "print(len(my_tuple))"
   ]
  },
  {
   "cell_type": "markdown",
   "id": "6d96bb81",
   "metadata": {},
   "source": [
    "### sets"
   ]
  },
  {
   "cell_type": "code",
   "execution_count": 8,
   "id": "0634ebb0",
   "metadata": {},
   "outputs": [],
   "source": [
    "#a set of integers\n",
    "my_set = {1,2,3,4,5}\n",
    "\n",
    "#a set of strings\n",
    "my_set2 = {\"apple\",\"banana\",\"cherry\"}\n",
    "\n",
    "#an empty set\n",
    "my_set3 = set()\n"
   ]
  },
  {
   "cell_type": "code",
   "execution_count": 9,
   "id": "14e8f1ff",
   "metadata": {},
   "outputs": [
    {
     "name": "stdout",
     "output_type": "stream",
     "text": [
      "{1, 2, 3, 4, 5, 6}\n"
     ]
    }
   ],
   "source": [
    "#adds 6 to the set\n",
    "my_set.add(6)\n",
    "print(my_set)"
   ]
  },
  {
   "cell_type": "code",
   "execution_count": 10,
   "id": "a20d88c3",
   "metadata": {},
   "outputs": [
    {
     "data": {
      "text/plain": [
       "set"
      ]
     },
     "execution_count": 10,
     "metadata": {},
     "output_type": "execute_result"
    }
   ],
   "source": [
    "type(my_set)"
   ]
  },
  {
   "cell_type": "code",
   "execution_count": 11,
   "id": "3d14fcbd",
   "metadata": {},
   "outputs": [
    {
     "data": {
      "text/plain": [
       "['__and__',\n",
       " '__class__',\n",
       " '__class_getitem__',\n",
       " '__contains__',\n",
       " '__delattr__',\n",
       " '__dir__',\n",
       " '__doc__',\n",
       " '__eq__',\n",
       " '__format__',\n",
       " '__ge__',\n",
       " '__getattribute__',\n",
       " '__getstate__',\n",
       " '__gt__',\n",
       " '__hash__',\n",
       " '__iand__',\n",
       " '__init__',\n",
       " '__init_subclass__',\n",
       " '__ior__',\n",
       " '__isub__',\n",
       " '__iter__',\n",
       " '__ixor__',\n",
       " '__le__',\n",
       " '__len__',\n",
       " '__lt__',\n",
       " '__ne__',\n",
       " '__new__',\n",
       " '__or__',\n",
       " '__rand__',\n",
       " '__reduce__',\n",
       " '__reduce_ex__',\n",
       " '__repr__',\n",
       " '__ror__',\n",
       " '__rsub__',\n",
       " '__rxor__',\n",
       " '__setattr__',\n",
       " '__sizeof__',\n",
       " '__str__',\n",
       " '__sub__',\n",
       " '__subclasshook__',\n",
       " '__xor__',\n",
       " 'add',\n",
       " 'clear',\n",
       " 'copy',\n",
       " 'difference',\n",
       " 'difference_update',\n",
       " 'discard',\n",
       " 'intersection',\n",
       " 'intersection_update',\n",
       " 'isdisjoint',\n",
       " 'issubset',\n",
       " 'issuperset',\n",
       " 'pop',\n",
       " 'remove',\n",
       " 'symmetric_difference',\n",
       " 'symmetric_difference_update',\n",
       " 'union',\n",
       " 'update']"
      ]
     },
     "execution_count": 11,
     "metadata": {},
     "output_type": "execute_result"
    }
   ],
   "source": [
    "dir(my_set)"
   ]
  },
  {
   "cell_type": "code",
   "execution_count": 16,
   "id": "5aa2416d",
   "metadata": {},
   "outputs": [
    {
     "name": "stdout",
     "output_type": "stream",
     "text": [
      "{1, 2, 4, 5, 6}\n",
      "{1, 2, 4, 5, 6}\n"
     ]
    }
   ],
   "source": [
    "my_set = {1,2,3,4,5}\n",
    "my_set.add(6)\n",
    "# removesthe elements 3 from the set\n",
    "my_set.remove(3)\n",
    "\n",
    "#print{1,2,4,5,6}\n",
    "print(my_set)\n",
    "\n",
    "#removes the element 7 if it exiists in the set\n",
    "my_set.discard(7)\n",
    "\n",
    "print(my_set)"
   ]
  },
  {
   "cell_type": "code",
   "execution_count": 17,
   "id": "b00e9156",
   "metadata": {},
   "outputs": [
    {
     "name": "stdout",
     "output_type": "stream",
     "text": [
      "False\n",
      "True\n"
     ]
    }
   ],
   "source": [
    "#print false(3 is not in the set)\n",
    "print(3 in my_set)\n",
    "\n",
    "#prints true(4 is in the set)\n",
    "print(4 in my_set)"
   ]
  },
  {
   "cell_type": "code",
   "execution_count": 18,
   "id": "028b4359",
   "metadata": {},
   "outputs": [
    {
     "name": "stdout",
     "output_type": "stream",
     "text": [
      "{1, 2, 3, 4, 5, 6, 7, 8}\n",
      "{4, 5}\n",
      "{1, 2, 3}\n",
      "{1, 2, 3, 6, 7, 8}\n"
     ]
    }
   ],
   "source": [
    "set1 = {1,2,3,4,5}\n",
    "set2 = {4,5,6,7,8}\n",
    "\n",
    "#union of two sets\n",
    "print(set1.union(set2))\n",
    "\n",
    "#intersection pf two sets\n",
    "print(set1.intersection(set2))\n",
    "\n",
    "#difference of two sets\n",
    "print(set1.difference(set2))\n",
    "\n",
    "#symmetric dfference of two sets\n",
    "print(set1.symmetric_difference(set2))"
   ]
  },
  {
   "cell_type": "code",
   "execution_count": 19,
   "id": "e3c5f246",
   "metadata": {},
   "outputs": [
    {
     "name": "stdout",
     "output_type": "stream",
     "text": [
      "5\n"
     ]
    }
   ],
   "source": [
    "#print 5 (number of elements in the set)\n",
    "print(len(my_set))"
   ]
  },
  {
   "cell_type": "markdown",
   "id": "383bf62d",
   "metadata": {},
   "source": [
    "### Dictionary"
   ]
  },
  {
   "cell_type": "code",
   "execution_count": 20,
   "id": "e26b5d8a",
   "metadata": {},
   "outputs": [],
   "source": [
    "#a dictionary with string keys and integers values\n",
    "my_dict = {\"apple\": 2, \"banana\": 4, \"cherry\": 6}\n",
    "\n",
    "#a dictionary with integers keys and string values\n",
    "my_dict2 = {1: \"apple\", 2: \"banana\", 3: \"cherry\"}\n",
    "\n",
    "#an empty dictionary\n",
    "my_dict3 = {}\n"
   ]
  },
  {
   "cell_type": "code",
   "execution_count": 21,
   "id": "98e99f3f",
   "metadata": {},
   "outputs": [
    {
     "name": "stdout",
     "output_type": "stream",
     "text": [
      "2\n"
     ]
    }
   ],
   "source": [
    "#the value associated with the key \"apple\"\n",
    "print(my_dict[\"apple\"])"
   ]
  },
  {
   "cell_type": "code",
   "execution_count": 22,
   "id": "4faff87d",
   "metadata": {},
   "outputs": [
    {
     "name": "stdout",
     "output_type": "stream",
     "text": [
      "{'apple': 2, 'banana': 5, 'cherry': 6}\n"
     ]
    }
   ],
   "source": [
    "#changes the value associated with the key \"banana\" to 5\n",
    "my_dict[\"banana\"] = 5\n",
    "\n",
    "print(my_dict)"
   ]
  },
  {
   "cell_type": "code",
   "execution_count": 23,
   "id": "ad168f6a",
   "metadata": {},
   "outputs": [
    {
     "name": "stdout",
     "output_type": "stream",
     "text": [
      "{'apple': 2, 'banana': 5, 'cherry': 6, 'orange': 3}\n"
     ]
    }
   ],
   "source": [
    "#adds a new key value pair to the dictionary\n",
    "my_dict[\"orange\"] = 3\n",
    "print(my_dict)"
   ]
  },
  {
   "cell_type": "code",
   "execution_count": 24,
   "id": "ff4f254b",
   "metadata": {},
   "outputs": [
    {
     "name": "stdout",
     "output_type": "stream",
     "text": [
      "{'apple': 2, 'banana': 5, 'orange': 3}\n"
     ]
    }
   ],
   "source": [
    "#removes the key value pair with the key \"cherry\" from the dictionary\n",
    "del my_dict[\"cherry\"]\n",
    "print(my_dict)"
   ]
  },
  {
   "cell_type": "code",
   "execution_count": 25,
   "id": "b88fc061",
   "metadata": {},
   "outputs": [
    {
     "name": "stdout",
     "output_type": "stream",
     "text": [
      "True\n"
     ]
    }
   ],
   "source": [
    "#prints true (the key \"apple\" is in the dictionary)\n",
    "print(\"apple\" in my_dict)"
   ]
  },
  {
   "cell_type": "code",
   "execution_count": 26,
   "id": "7c468822",
   "metadata": {},
   "outputs": [
    {
     "name": "stdout",
     "output_type": "stream",
     "text": [
      "dict_keys(['apple', 'banana', 'orange'])\n",
      "dict_values([2, 5, 3])\n"
     ]
    }
   ],
   "source": [
    "#a list of all keys in the dictionary\n",
    "print(my_dict.keys())\n",
    "\n",
    "#a list of all values in the dictionary\n",
    "print(my_dict.values())"
   ]
  },
  {
   "cell_type": "code",
   "execution_count": 27,
   "id": "f9aa6653",
   "metadata": {},
   "outputs": [
    {
     "name": "stdout",
     "output_type": "stream",
     "text": [
      "3\n"
     ]
    }
   ],
   "source": [
    "#number of keys values pairs in the dictionary\n",
    "print(len(my_dict))"
   ]
  },
  {
   "cell_type": "code",
   "execution_count": 28,
   "id": "873b24d4",
   "metadata": {},
   "outputs": [
    {
     "data": {
      "text/plain": [
       "dict"
      ]
     },
     "execution_count": 28,
     "metadata": {},
     "output_type": "execute_result"
    }
   ],
   "source": [
    "type(my_dict)"
   ]
  },
  {
   "cell_type": "code",
   "execution_count": 29,
   "id": "baf28397",
   "metadata": {},
   "outputs": [
    {
     "data": {
      "text/plain": [
       "['__class__',\n",
       " '__class_getitem__',\n",
       " '__contains__',\n",
       " '__delattr__',\n",
       " '__delitem__',\n",
       " '__dir__',\n",
       " '__doc__',\n",
       " '__eq__',\n",
       " '__format__',\n",
       " '__ge__',\n",
       " '__getattribute__',\n",
       " '__getitem__',\n",
       " '__getstate__',\n",
       " '__gt__',\n",
       " '__hash__',\n",
       " '__init__',\n",
       " '__init_subclass__',\n",
       " '__ior__',\n",
       " '__iter__',\n",
       " '__le__',\n",
       " '__len__',\n",
       " '__lt__',\n",
       " '__ne__',\n",
       " '__new__',\n",
       " '__or__',\n",
       " '__reduce__',\n",
       " '__reduce_ex__',\n",
       " '__repr__',\n",
       " '__reversed__',\n",
       " '__ror__',\n",
       " '__setattr__',\n",
       " '__setitem__',\n",
       " '__sizeof__',\n",
       " '__str__',\n",
       " '__subclasshook__',\n",
       " 'clear',\n",
       " 'copy',\n",
       " 'fromkeys',\n",
       " 'get',\n",
       " 'items',\n",
       " 'keys',\n",
       " 'pop',\n",
       " 'popitem',\n",
       " 'setdefault',\n",
       " 'update',\n",
       " 'values']"
      ]
     },
     "execution_count": 29,
     "metadata": {},
     "output_type": "execute_result"
    }
   ],
   "source": [
    "dir(my_dict)"
   ]
  },
  {
   "cell_type": "markdown",
   "id": "21fec3cf",
   "metadata": {},
   "source": [
    "## FUNCTIONS"
   ]
  },
  {
   "cell_type": "markdown",
   "id": "e5025390",
   "metadata": {},
   "source": [
    "### IN BUILT FUNCTIONS"
   ]
  },
  {
   "cell_type": "code",
   "execution_count": 1,
   "id": "77bec7f1",
   "metadata": {},
   "outputs": [
    {
     "name": "stdout",
     "output_type": "stream",
     "text": [
      "4.56\n"
     ]
    }
   ],
   "source": [
    "## data type conversions function. int,float,str\n",
    "a = float(input())"
   ]
  },
  {
   "cell_type": "code",
   "execution_count": 2,
   "id": "546972b9",
   "metadata": {},
   "outputs": [
    {
     "data": {
      "text/plain": [
       "float"
      ]
     },
     "execution_count": 2,
     "metadata": {},
     "output_type": "execute_result"
    }
   ],
   "source": [
    "type(a)"
   ]
  },
  {
   "cell_type": "code",
   "execution_count": 3,
   "id": "c5a40abb",
   "metadata": {},
   "outputs": [
    {
     "data": {
      "text/plain": [
       "range(0, 11)"
      ]
     },
     "execution_count": 3,
     "metadata": {},
     "output_type": "execute_result"
    }
   ],
   "source": [
    "range(11) #create sequence till 10 it would give 10+1\n",
    "# range(start,stop,step)"
   ]
  },
  {
   "cell_type": "code",
   "execution_count": 4,
   "id": "ebe2c7dd",
   "metadata": {},
   "outputs": [
    {
     "data": {
      "text/plain": [
       "[0, 1, 2, 3, 4, 5, 6, 7, 8, 9, 10]"
      ]
     },
     "execution_count": 4,
     "metadata": {},
     "output_type": "execute_result"
    }
   ],
   "source": [
    "list(range(11))"
   ]
  },
  {
   "cell_type": "code",
   "execution_count": 5,
   "id": "edb7f35c",
   "metadata": {},
   "outputs": [
    {
     "data": {
      "text/plain": [
       "(10, 20, 30, 40, 50, 60, 70, 80, 90, 100)"
      ]
     },
     "execution_count": 5,
     "metadata": {},
     "output_type": "execute_result"
    }
   ],
   "source": [
    "10,20,30,40,50,60,70,80,90,100"
   ]
  },
  {
   "cell_type": "code",
   "execution_count": 6,
   "id": "70b54ea1",
   "metadata": {},
   "outputs": [
    {
     "data": {
      "text/plain": [
       "[10, 20, 30, 40, 50, 60, 70, 80, 90, 100]"
      ]
     },
     "execution_count": 6,
     "metadata": {},
     "output_type": "execute_result"
    }
   ],
   "source": [
    "list(range(10,101,10))"
   ]
  },
  {
   "cell_type": "code",
   "execution_count": 8,
   "id": "c9062667",
   "metadata": {},
   "outputs": [
    {
     "name": "stdout",
     "output_type": "stream",
     "text": [
      "0\n",
      "10\n",
      "20\n",
      "30\n",
      "40\n",
      "50\n",
      "60\n",
      "70\n",
      "80\n",
      "90\n",
      "100\n"
     ]
    }
   ],
   "source": [
    "for num in list(range(0,101,10)):\n",
    "    print(num)"
   ]
  },
  {
   "cell_type": "code",
   "execution_count": 9,
   "id": "73bfbdc4",
   "metadata": {},
   "outputs": [],
   "source": [
    "unordered_list = [20,30,45,10,67,49,78,31]"
   ]
  },
  {
   "cell_type": "code",
   "execution_count": 10,
   "id": "6abd156e",
   "metadata": {},
   "outputs": [
    {
     "data": {
      "text/plain": [
       "[10, 20, 30, 31, 45, 49, 67, 78]"
      ]
     },
     "execution_count": 10,
     "metadata": {},
     "output_type": "execute_result"
    }
   ],
   "source": [
    "sorted(unordered_list,) #ascending order"
   ]
  },
  {
   "cell_type": "code",
   "execution_count": 11,
   "id": "3748e360",
   "metadata": {},
   "outputs": [
    {
     "data": {
      "text/plain": [
       "[78, 67, 49, 45, 31, 30, 20, 10]"
      ]
     },
     "execution_count": 11,
     "metadata": {},
     "output_type": "execute_result"
    }
   ],
   "source": [
    "sorted(unordered_list, reverse=True) #descending order"
   ]
  },
  {
   "cell_type": "code",
   "execution_count": 12,
   "id": "edb2968e",
   "metadata": {},
   "outputs": [],
   "source": [
    "sorted?\n"
   ]
  },
  {
   "cell_type": "code",
   "execution_count": 16,
   "id": "221c68b1",
   "metadata": {},
   "outputs": [],
   "source": [
    "name_list = [\"ved\" , \"rahul\" , \"alok\" , \"nidhi\" , \"suman\"]"
   ]
  },
  {
   "cell_type": "code",
   "execution_count": 17,
   "id": "eec70e5b",
   "metadata": {},
   "outputs": [
    {
     "data": {
      "text/plain": [
       "['alok', 'nidhi', 'rahul', 'suman', 'ved']"
      ]
     },
     "execution_count": 17,
     "metadata": {},
     "output_type": "execute_result"
    }
   ],
   "source": [
    "sorted(name_list)"
   ]
  },
  {
   "cell_type": "code",
   "execution_count": 21,
   "id": "3518d1d2",
   "metadata": {},
   "outputs": [],
   "source": [
    "name_list = [\"ved\" , \"rahul\" , \"alok\" , \"nidhi\" , \"suman\"]\n",
    "age_list = [32,25,34,29,28]\n",
    "job_list = [\"data scientist\" , \"data analyst\" , \"flight analyst\" , \"machine learning engineer\" , \"bi analyst\"]"
   ]
  },
  {
   "cell_type": "code",
   "execution_count": 22,
   "id": "ff73361b",
   "metadata": {},
   "outputs": [
    {
     "data": {
      "text/plain": [
       "<zip at 0x1d3f9852240>"
      ]
     },
     "execution_count": 22,
     "metadata": {},
     "output_type": "execute_result"
    }
   ],
   "source": [
    "zip(name_list,age_list)"
   ]
  },
  {
   "cell_type": "code",
   "execution_count": 23,
   "id": "cd10ef23",
   "metadata": {},
   "outputs": [
    {
     "data": {
      "text/plain": [
       "[('ved', 32, 'data scientist'),\n",
       " ('rahul', 25, 'data analyst'),\n",
       " ('alok', 34, 'flight analyst'),\n",
       " ('nidhi', 29, 'machine learning engineer'),\n",
       " ('suman', 28, 'bi analyst')]"
      ]
     },
     "execution_count": 23,
     "metadata": {},
     "output_type": "execute_result"
    }
   ],
   "source": [
    "list(zip(name_list,age_list,job_list))\n"
   ]
  },
  {
   "cell_type": "code",
   "execution_count": 24,
   "id": "d3c2260c",
   "metadata": {},
   "outputs": [
    {
     "name": "stdout",
     "output_type": "stream",
     "text": [
      "ved is experienced\n",
      "rahul is less experienced\n",
      "alok is experienced\n",
      "nidhi is less experienced\n",
      "suman is less experienced\n"
     ]
    }
   ],
   "source": [
    "for name,age in list(zip(name_list,age_list)):\n",
    "    if age>=30:\n",
    "        print(name, \"is experienced\")\n",
    "    else:\n",
    "        print(name, \"is less experienced\")"
   ]
  },
  {
   "cell_type": "code",
   "execution_count": 26,
   "id": "6028daad",
   "metadata": {},
   "outputs": [
    {
     "name": "stdout",
     "output_type": "stream",
     "text": [
      "ved is experienced data scientist\n",
      "rahul is less experienced data analyst\n",
      "alok is experienced flight analyst\n",
      "nidhi is less experienced machine learning engineer\n",
      "suman is less experienced bi analyst\n"
     ]
    }
   ],
   "source": [
    "for name,age,job in list(zip(name_list,age_list,job_list)):\n",
    "    if age>=30:\n",
    "        print(name, \"is experienced\" , job)\n",
    "    else:\n",
    "        print(name, \"is less experienced\" , job)"
   ]
  },
  {
   "cell_type": "markdown",
   "id": "28b0a9ce",
   "metadata": {},
   "source": [
    "### LAMBDA FUNCTIONS"
   ]
  },
  {
   "cell_type": "code",
   "execution_count": 27,
   "id": "74cb8ef4",
   "metadata": {},
   "outputs": [],
   "source": [
    "name_list = [\"ved\" , \"rahul\" , \"alok\" , \"nidhi\" , \"suman\"]"
   ]
  },
  {
   "cell_type": "code",
   "execution_count": 29,
   "id": "d3d02a31",
   "metadata": {},
   "outputs": [],
   "source": [
    "#if len(name)%2==0:\n",
    "#    print(name)\n"
   ]
  },
  {
   "cell_type": "code",
   "execution_count": 30,
   "id": "7aae8561",
   "metadata": {},
   "outputs": [
    {
     "name": "stdout",
     "output_type": "stream",
     "text": [
      "alok\n"
     ]
    }
   ],
   "source": [
    "for name in name_list:\n",
    "    if len(name)%2==0:\n",
    "        print(name)\n",
    "    "
   ]
  },
  {
   "cell_type": "code",
   "execution_count": 33,
   "id": "03a5b380",
   "metadata": {},
   "outputs": [
    {
     "data": {
      "text/plain": [
       "<filter at 0x1d3f8b3fdc0>"
      ]
     },
     "execution_count": 33,
     "metadata": {},
     "output_type": "execute_result"
    }
   ],
   "source": [
    "filter(lambda x: len(x)%2==0 ,name_list)"
   ]
  },
  {
   "cell_type": "code",
   "execution_count": 34,
   "id": "44911e4d",
   "metadata": {},
   "outputs": [
    {
     "data": {
      "text/plain": [
       "['alok']"
      ]
     },
     "execution_count": 34,
     "metadata": {},
     "output_type": "execute_result"
    }
   ],
   "source": [
    "list(filter(lambda x: len(x)%2==0 ,name_list))"
   ]
  },
  {
   "cell_type": "code",
   "execution_count": 35,
   "id": "20aac293",
   "metadata": {},
   "outputs": [],
   "source": [
    "def filter_name(obj_list):\n",
    "    for obj in obj_list:\n",
    "        if len(obj)%2==0:\n",
    "            print(obj)"
   ]
  },
  {
   "cell_type": "code",
   "execution_count": 36,
   "id": "bcb010dc",
   "metadata": {},
   "outputs": [
    {
     "name": "stdout",
     "output_type": "stream",
     "text": [
      "alok\n"
     ]
    }
   ],
   "source": [
    "filter_name(name_list)"
   ]
  },
  {
   "cell_type": "code",
   "execution_count": 37,
   "id": "486bede5",
   "metadata": {},
   "outputs": [],
   "source": [
    "check_list = [\"mahesh\" , \"joe\" , \"sema\" , \"rose\" , \"lily\" , \"suresh\" , \"rahul\"]"
   ]
  },
  {
   "cell_type": "code",
   "execution_count": 39,
   "id": "8cee9c61",
   "metadata": {},
   "outputs": [
    {
     "name": "stdout",
     "output_type": "stream",
     "text": [
      "mahesh\n",
      "sema\n",
      "rose\n",
      "lily\n",
      "suresh\n"
     ]
    }
   ],
   "source": [
    "filter_name(check_list)"
   ]
  },
  {
   "cell_type": "code",
   "execution_count": 40,
   "id": "4384fa0d",
   "metadata": {},
   "outputs": [
    {
     "data": {
      "text/plain": [
       "['mahesh', 'sema', 'rose', 'lily', 'suresh']"
      ]
     },
     "execution_count": 40,
     "metadata": {},
     "output_type": "execute_result"
    }
   ],
   "source": [
    "list(filter(lambda x: len(x)%2==0 ,check_list))"
   ]
  },
  {
   "cell_type": "code",
   "execution_count": 41,
   "id": "63a809ac",
   "metadata": {},
   "outputs": [
    {
     "ename": "TypeError",
     "evalue": "object of type 'int' has no len()",
     "output_type": "error",
     "traceback": [
      "\u001b[1;31m---------------------------------------------------------------------------\u001b[0m",
      "\u001b[1;31mTypeError\u001b[0m                                 Traceback (most recent call last)",
      "Cell \u001b[1;32mIn[41], line 2\u001b[0m\n\u001b[0;32m      1\u001b[0m \u001b[38;5;28mlist\u001b[39m(\u001b[38;5;28mfilter\u001b[39m(\u001b[38;5;28;01mlambda\u001b[39;00m x: \u001b[38;5;28mlen\u001b[39m(x)\u001b[38;5;241m%\u001b[39m\u001b[38;5;241m2\u001b[39m\u001b[38;5;241m==\u001b[39m\u001b[38;5;241m0\u001b[39m ,check_list))\n\u001b[1;32m----> 2\u001b[0m \u001b[38;5;28mlist\u001b[39m(\u001b[38;5;28mfilter\u001b[39m(\u001b[38;5;28;01mlambda\u001b[39;00m x: \u001b[38;5;28mlen\u001b[39m(x)\u001b[38;5;241m%\u001b[39m\u001b[38;5;241m2\u001b[39m\u001b[38;5;241m==\u001b[39m\u001b[38;5;241m0\u001b[39m ,age_list))\n",
      "Cell \u001b[1;32mIn[41], line 2\u001b[0m, in \u001b[0;36m<lambda>\u001b[1;34m(x)\u001b[0m\n\u001b[0;32m      1\u001b[0m \u001b[38;5;28mlist\u001b[39m(\u001b[38;5;28mfilter\u001b[39m(\u001b[38;5;28;01mlambda\u001b[39;00m x: \u001b[38;5;28mlen\u001b[39m(x)\u001b[38;5;241m%\u001b[39m\u001b[38;5;241m2\u001b[39m\u001b[38;5;241m==\u001b[39m\u001b[38;5;241m0\u001b[39m ,check_list))\n\u001b[1;32m----> 2\u001b[0m \u001b[38;5;28mlist\u001b[39m(\u001b[38;5;28mfilter\u001b[39m(\u001b[38;5;28;01mlambda\u001b[39;00m x: \u001b[38;5;28mlen\u001b[39m(x)\u001b[38;5;241m%\u001b[39m\u001b[38;5;241m2\u001b[39m\u001b[38;5;241m==\u001b[39m\u001b[38;5;241m0\u001b[39m ,age_list))\n",
      "\u001b[1;31mTypeError\u001b[0m: object of type 'int' has no len()"
     ]
    }
   ],
   "source": [
    "list(filter(lambda x: len(x)%2==0 ,check_list))\n",
    "list(filter(lambda x: len(x)%2==0 ,age_list))"
   ]
  },
  {
   "cell_type": "code",
   "execution_count": 42,
   "id": "349e0d70",
   "metadata": {},
   "outputs": [],
   "source": [
    "try:\n",
    "    list(filter(lambda x: len(x)%2==0 ,age_list))\n",
    "except:\n",
    "    pass\n",
    "    "
   ]
  },
  {
   "cell_type": "code",
   "execution_count": 43,
   "id": "d3a10e05",
   "metadata": {},
   "outputs": [
    {
     "ename": "NameError",
     "evalue": "name 'typeerror' is not defined",
     "output_type": "error",
     "traceback": [
      "\u001b[1;31m---------------------------------------------------------------------------\u001b[0m",
      "\u001b[1;31mTypeError\u001b[0m                                 Traceback (most recent call last)",
      "Cell \u001b[1;32mIn[43], line 2\u001b[0m\n\u001b[0;32m      1\u001b[0m \u001b[38;5;28;01mtry\u001b[39;00m:\n\u001b[1;32m----> 2\u001b[0m     \u001b[38;5;28mlist\u001b[39m(\u001b[38;5;28mfilter\u001b[39m(\u001b[38;5;28;01mlambda\u001b[39;00m x: \u001b[38;5;28mlen\u001b[39m(x)\u001b[38;5;241m%\u001b[39m\u001b[38;5;241m2\u001b[39m\u001b[38;5;241m==\u001b[39m\u001b[38;5;241m0\u001b[39m ,age_list))\n\u001b[0;32m      3\u001b[0m \u001b[38;5;28;01mexcept\u001b[39;00m (typeerror , indexerror) \u001b[38;5;28;01mas\u001b[39;00m e:\n",
      "Cell \u001b[1;32mIn[43], line 2\u001b[0m, in \u001b[0;36m<lambda>\u001b[1;34m(x)\u001b[0m\n\u001b[0;32m      1\u001b[0m \u001b[38;5;28;01mtry\u001b[39;00m:\n\u001b[1;32m----> 2\u001b[0m     \u001b[38;5;28mlist\u001b[39m(\u001b[38;5;28mfilter\u001b[39m(\u001b[38;5;28;01mlambda\u001b[39;00m x: \u001b[38;5;28mlen\u001b[39m(x)\u001b[38;5;241m%\u001b[39m\u001b[38;5;241m2\u001b[39m\u001b[38;5;241m==\u001b[39m\u001b[38;5;241m0\u001b[39m ,age_list))\n\u001b[0;32m      3\u001b[0m \u001b[38;5;28;01mexcept\u001b[39;00m (typeerror , indexerror) \u001b[38;5;28;01mas\u001b[39;00m e:\n",
      "\u001b[1;31mTypeError\u001b[0m: object of type 'int' has no len()",
      "\nDuring handling of the above exception, another exception occurred:\n",
      "\u001b[1;31mNameError\u001b[0m                                 Traceback (most recent call last)",
      "Cell \u001b[1;32mIn[43], line 3\u001b[0m\n\u001b[0;32m      1\u001b[0m \u001b[38;5;28;01mtry\u001b[39;00m:\n\u001b[0;32m      2\u001b[0m     \u001b[38;5;28mlist\u001b[39m(\u001b[38;5;28mfilter\u001b[39m(\u001b[38;5;28;01mlambda\u001b[39;00m x: \u001b[38;5;28mlen\u001b[39m(x)\u001b[38;5;241m%\u001b[39m\u001b[38;5;241m2\u001b[39m\u001b[38;5;241m==\u001b[39m\u001b[38;5;241m0\u001b[39m ,age_list))\n\u001b[1;32m----> 3\u001b[0m \u001b[38;5;28;01mexcept\u001b[39;00m (typeerror , indexerror) \u001b[38;5;28;01mas\u001b[39;00m e:\n\u001b[0;32m      4\u001b[0m     \u001b[38;5;28mprint\u001b[39m(e)\n",
      "\u001b[1;31mNameError\u001b[0m: name 'typeerror' is not defined"
     ]
    }
   ],
   "source": [
    "try:\n",
    "    list(filter(lambda x: len(x)%2==0 ,age_list))\n",
    "except (typeerror , indexerror) as e:\n",
    "    print(e)"
   ]
  },
  {
   "cell_type": "code",
   "execution_count": 47,
   "id": "40b2dd05",
   "metadata": {},
   "outputs": [],
   "source": [
    "name_list = [\"ved\" , \"rahul\" , \"alok\" , \"nidhi\" , \"suman\"]"
   ]
  },
  {
   "cell_type": "code",
   "execution_count": 50,
   "id": "8e95232f",
   "metadata": {},
   "outputs": [
    {
     "name": "stdout",
     "output_type": "stream",
     "text": [
      "['alok']\n"
     ]
    }
   ],
   "source": [
    "try:\n",
    "    print(list(filter(lambda x: len(x)%2==0 ,name_list)))\n",
    "except typeerror  as e:\n",
    "    print(e)"
   ]
  },
  {
   "cell_type": "code",
   "execution_count": 51,
   "id": "1412c3bb",
   "metadata": {},
   "outputs": [
    {
     "data": {
      "text/plain": [
       "'\\nExercise 112:Remove Outliers\\n(Solved, 44 Lines)\\nWhen analysing data collected as part of a science experiment it may be desirable\\nto remove the most extreme values before performing other calculations. \\nWrite a function that takes a list of values and an non-negative integer, n, as its parameters.\\nThe function should create a new copy of the list with the n largest elements and the\\nn smallest elements removed.\\nThen it should return the new copy of the list as the function’s only result. \\nThe order of the elements in the returned list does not have to\\nmatch the order of the elements in the original list.\\n\\nWrite a main program that demonstrates your function. \\nIt should read a list of numbers from the user and remove the two largest and two smallest values from it by\\ncalling the function described previously.\\n\\nDisplay the list with the outliers removed,followed by the original list. \\nYour program should generate an appropriate error message if the user enters less than 4 values.\\n'"
      ]
     },
     "execution_count": 51,
     "metadata": {},
     "output_type": "execute_result"
    }
   ],
   "source": [
    "'''\n",
    "Exercise 112:Remove Outliers\n",
    "(Solved, 44 Lines)\n",
    "When analysing data collected as part of a science experiment it may be desirable\n",
    "to remove the most extreme values before performing other calculations. \n",
    "Write a function that takes a list of values and an non-negative integer, n, as its parameters.\n",
    "The function should create a new copy of the list with the n largest elements and the\n",
    "n smallest elements removed.\n",
    "Then it should return the new copy of the list as the function’s only result. \n",
    "The order of the elements in the returned list does not have to\n",
    "match the order of the elements in the original list.\n",
    "\n",
    "Write a main program that demonstrates your function. \n",
    "It should read a list of numbers from the user and remove the two largest and two smallest values from it by\n",
    "calling the function described previously.\n",
    "\n",
    "Display the list with the outliers removed,followed by the original list. \n",
    "Your program should generate an appropriate error message if the user enters less than 4 values.\n",
    "'''\n"
   ]
  },
  {
   "cell_type": "code",
   "execution_count": 52,
   "id": "67161892",
   "metadata": {},
   "outputs": [
    {
     "name": "stdout",
     "output_type": "stream",
     "text": [
      "[1, 2, 23, 34, 56, 78, 99, 101]\n",
      "[1, 2, 23, 34, 56, 78, 99]\n",
      "[1, 2, 23, 34, 56, 78]\n",
      "[2, 23, 34, 56, 78]\n",
      "[23, 34, 56, 78]\n"
     ]
    }
   ],
   "source": [
    "input_value = [34,56,78,23,1,2,99,101]\n",
    "\n",
    "# find out largest 2 and smallest 2.\n",
    "sorted_input = sorted(input_value)\n",
    "print(sorted_input)\n",
    "\n",
    "# remove largest and second largest.\n",
    "sorted_input.pop()\n",
    "print(sorted_input)\n",
    "sorted_input.pop()\n",
    "\n",
    "print(sorted_input)\n",
    "\n",
    "# remove smallest and second smallest.\n",
    "sorted_input.pop(0)\n",
    "print(sorted_input)\n",
    "sorted_input.pop(0)\n",
    "print(sorted_input)"
   ]
  },
  {
   "cell_type": "code",
   "execution_count": 53,
   "id": "e0916470",
   "metadata": {},
   "outputs": [],
   "source": [
    "def remove_outlier_2(obj_list,n=2):\n",
    "    # find out largest 2 and smallest 2.\n",
    "    sorted_input = sorted(obj_list)\n",
    "    for i in range(n):\n",
    "        # remove largest\n",
    "        sorted_input.pop()\n",
    "        # remove smallest\n",
    "        sorted_input.pop(0)\n",
    "        \n",
    "    if len(sorted_input) >= 1:            \n",
    "        return sorted_input\n",
    "    else:\n",
    "        return \"Error: User has given less input values.\""
   ]
  },
  {
   "cell_type": "code",
   "execution_count": 54,
   "id": "6ce5b09e",
   "metadata": {},
   "outputs": [
    {
     "data": {
      "text/plain": [
       "[23, 34, 56, 78]"
      ]
     },
     "execution_count": 54,
     "metadata": {},
     "output_type": "execute_result"
    }
   ],
   "source": [
    "remove_outlier_2(input_value,n=2)"
   ]
  },
  {
   "cell_type": "code",
   "execution_count": 55,
   "id": "cfe92ebb",
   "metadata": {},
   "outputs": [],
   "source": [
    "new_list = [100,1000,876,456,45,1,23,1005]"
   ]
  },
  {
   "cell_type": "code",
   "execution_count": 56,
   "id": "f44a4092",
   "metadata": {},
   "outputs": [
    {
     "data": {
      "text/plain": [
       "[45, 100, 456, 876]"
      ]
     },
     "execution_count": 56,
     "metadata": {},
     "output_type": "execute_result"
    }
   ],
   "source": [
    "remove_outlier_2(new_list)"
   ]
  },
  {
   "cell_type": "code",
   "execution_count": 57,
   "id": "d5e7579b",
   "metadata": {},
   "outputs": [],
   "source": [
    "def remove_outlier(obj_list):\n",
    "    sorted_input = sorted(obj_list)\n",
    "    sorted_input.pop()\n",
    "    sorted_input.pop()\n",
    "    sorted_input.pop(0)\n",
    "    sorted_input.pop(0)\n",
    "    return sorted_input"
   ]
  },
  {
   "cell_type": "code",
   "execution_count": 58,
   "id": "d8a96889",
   "metadata": {},
   "outputs": [
    {
     "data": {
      "text/plain": [
       "[23, 34, 56, 78]"
      ]
     },
     "execution_count": 58,
     "metadata": {},
     "output_type": "execute_result"
    }
   ],
   "source": [
    "remove_outlier(input_value)"
   ]
  },
  {
   "cell_type": "code",
   "execution_count": 59,
   "id": "324f622c",
   "metadata": {},
   "outputs": [],
   "source": [
    "new_list = [100,1000,876,456,45,1,23,1005]"
   ]
  },
  {
   "cell_type": "code",
   "execution_count": 60,
   "id": "b0728f49",
   "metadata": {},
   "outputs": [
    {
     "data": {
      "text/plain": [
       "[45, 100, 456, 876]"
      ]
     },
     "execution_count": 60,
     "metadata": {},
     "output_type": "execute_result"
    }
   ],
   "source": [
    "remove_outlier(new_list)"
   ]
  },
  {
   "cell_type": "code",
   "execution_count": null,
   "id": "4716eb29",
   "metadata": {},
   "outputs": [],
   "source": []
  },
  {
   "cell_type": "code",
   "execution_count": null,
   "id": "75f965c8",
   "metadata": {},
   "outputs": [],
   "source": []
  },
  {
   "cell_type": "code",
   "execution_count": null,
   "id": "c1e7984f",
   "metadata": {},
   "outputs": [],
   "source": []
  },
  {
   "cell_type": "code",
   "execution_count": null,
   "id": "d1df128e",
   "metadata": {},
   "outputs": [],
   "source": []
  },
  {
   "cell_type": "code",
   "execution_count": null,
   "id": "8a693bdd",
   "metadata": {},
   "outputs": [],
   "source": []
  },
  {
   "cell_type": "code",
   "execution_count": null,
   "id": "4dae641e",
   "metadata": {},
   "outputs": [],
   "source": []
  },
  {
   "cell_type": "code",
   "execution_count": null,
   "id": "1221d081",
   "metadata": {},
   "outputs": [],
   "source": []
  },
  {
   "cell_type": "code",
   "execution_count": 61,
   "id": "7744bb10",
   "metadata": {},
   "outputs": [],
   "source": [
    "filter?"
   ]
  },
  {
   "cell_type": "code",
   "execution_count": 62,
   "id": "ce44245c",
   "metadata": {},
   "outputs": [
    {
     "name": "stdout",
     "output_type": "stream",
     "text": [
      "[2, 4, 6, 8, 10]\n"
     ]
    }
   ],
   "source": [
    "numbers = [1, 2, 3, 4, 5, 6, 7, 8, 9, 10]\n",
    "even_numbers = list(filter(lambda x: x % 2 == 0, numbers))\n",
    "print(even_numbers) "
   ]
  },
  {
   "cell_type": "code",
   "execution_count": 63,
   "id": "fc21fb3e",
   "metadata": {},
   "outputs": [
    {
     "name": "stdout",
     "output_type": "stream",
     "text": [
      "[1, 3, 5, 7, 9]\n"
     ]
    }
   ],
   "source": [
    "numbers = [1, 2, 3, 4, 5, 6, 7, 8, 9, 10]\n",
    "odd_numbers = list(filter(lambda x: x % 2 != 0, numbers))\n",
    "print(odd_numbers) "
   ]
  },
  {
   "cell_type": "code",
   "execution_count": null,
   "id": "117de280",
   "metadata": {},
   "outputs": [],
   "source": [
    "def say_hello():\n",
    "    print(\"Hello, World!\")\n",
    "\n",
    "say_hello()"
   ]
  },
  {
   "cell_type": "code",
   "execution_count": null,
   "id": "b21e8ad7",
   "metadata": {},
   "outputs": [],
   "source": [
    "import random\n",
    "\n",
    "def rand_num():\n",
    "    return random.randint(1,10)\n",
    "\n",
    "result = rand_num()\n",
    "print(result)"
   ]
  },
  {
   "cell_type": "code",
   "execution_count": null,
   "id": "b6555a02",
   "metadata": {},
   "outputs": [],
   "source": [
    "def add_numbers(a,b):\n",
    "    return a+b\n",
    "\n",
    "result = add_numbers(5,10)\n",
    "print(result)"
   ]
  },
  {
   "cell_type": "code",
   "execution_count": null,
   "id": "b1e351fc",
   "metadata": {},
   "outputs": [],
   "source": [
    "def greet(name=\"world\"):\n",
    "    print(\"Hello,\" + name + \"!\")\n",
    "\n",
    "greet(\"John\")\n",
    "greet()"
   ]
  },
  {
   "cell_type": "code",
   "execution_count": null,
   "id": "6f3ab377",
   "metadata": {},
   "outputs": [],
   "source": [
    "def print_arguments(*args, **kwargs):\n",
    "    for arg in args:\n",
    "        print(arg)\n",
    "    for key, value in kwargs.items():\n",
    "        print(key + \": \" + value)\n",
    "\n",
    " # Positional arguments\n",
    "result = add_numbers(5, 10)\n",
    "print(result)\n",
    "\n",
    " # Keyword argument\n",
    "greet(name=\"John\")\n",
    "\n",
    " # Mixed arguments\n",
    "print_arguments(\"a\", \"b\", key1=\"value1\", key2=\"value2\")\n"
   ]
  },
  {
   "cell_type": "code",
   "execution_count": null,
   "id": "5b11bc73",
   "metadata": {},
   "outputs": [],
   "source": [
    "import math\n",
    "\n",
    "x = 16\n",
    "y = math.sqrt(x)\n",
    "print(y)"
   ]
  },
  {
   "cell_type": "code",
   "execution_count": null,
   "id": "3190b676",
   "metadata": {},
   "outputs": [],
   "source": [
    "from math import sqrt\n",
    "\n",
    "x = 16\n",
    "y = sqrt(x)\n",
    "print(y)"
   ]
  },
  {
   "cell_type": "code",
   "execution_count": null,
   "id": "f552df6b",
   "metadata": {},
   "outputs": [],
   "source": [
    "import random\n",
    "\n",
    "#generate a random integer between 0 and 9 (inclusive)\n",
    "x = random.randint(0,9)\n",
    "print(x)\n",
    "\n",
    "#generate a random floating-point number between 0 and 1\n",
    "y = random.random()\n",
    "print(y)\n",
    "\n",
    "#shuffle a list randomly\n",
    "my_list = [1,2,3,4,5]\n",
    "random.shuffle(my_list)\n",
    "print(my_list)\n",
    "\n",
    "#choose a random element from a list\n",
    "my_list2 = [\"apple\",\"banana\",\"cherry\"]\n",
    "random_element = random.choice(my_list2)\n",
    "print(random_element)"
   ]
  },
  {
   "cell_type": "code",
   "execution_count": null,
   "id": "60e93549",
   "metadata": {},
   "outputs": [],
   "source": [
    "try:\n",
    "    x = int(input(\"Enter a number: \"))\n",
    "    y = int(input(\"Enter another number: \"))\n",
    "    z = x / y\n",
    "    print(z)\n",
    "except ZeroDivisionError:\n",
    "    print(\"Error: division by zero\")\n",
    "except ValueError:\n",
    "    print(\"Error: invalid input\")\n"
   ]
  },
  {
   "cell_type": "code",
   "execution_count": null,
   "id": "475b4749",
   "metadata": {},
   "outputs": [],
   "source": [
    "x = -1\n",
    "\n",
    "try:\n",
    "    if x < 0:\n",
    "        raise ValueError(\"x must be positive\")\n",
    "except ValueError as e:\n",
    "    print(\"Error:\", str(e))"
   ]
  },
  {
   "cell_type": "code",
   "execution_count": null,
   "id": "e3d6929d",
   "metadata": {},
   "outputs": [],
   "source": []
  },
  {
   "cell_type": "code",
   "execution_count": null,
   "id": "271fcd03",
   "metadata": {},
   "outputs": [],
   "source": []
  }
 ],
 "metadata": {
  "kernelspec": {
   "display_name": "Python 3 (ipykernel)",
   "language": "python",
   "name": "python3"
  },
  "language_info": {
   "codemirror_mode": {
    "name": "ipython",
    "version": 3
   },
   "file_extension": ".py",
   "mimetype": "text/x-python",
   "name": "python",
   "nbconvert_exporter": "python",
   "pygments_lexer": "ipython3",
   "version": "3.11.5"
  }
 },
 "nbformat": 4,
 "nbformat_minor": 5
}
